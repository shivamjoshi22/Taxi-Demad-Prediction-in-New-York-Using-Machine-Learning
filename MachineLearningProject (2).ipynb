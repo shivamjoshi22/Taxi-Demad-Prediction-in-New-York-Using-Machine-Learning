{
  "nbformat": 4,
  "nbformat_minor": 0,
  "metadata": {
    "accelerator": "GPU",
    "colab": {
      "name": "MachineLearningProject.ipynb",
      "provenance": [],
      "collapsed_sections": []
    },
    "kernelspec": {
      "display_name": "Python 3",
      "language": "python",
      "name": "python3"
    },
    "language_info": {
      "codemirror_mode": {
        "name": "ipython",
        "version": 3
      },
      "file_extension": ".py",
      "mimetype": "text/x-python",
      "name": "python",
      "nbconvert_exporter": "python",
      "pygments_lexer": "ipython3",
      "version": "3.7.6"
    }
  },
  "cells": [
    {
      "cell_type": "code",
      "metadata": {
        "colab": {
          "base_uri": "https://localhost:8080/"
        },
        "id": "WcV6I0Omc7p7",
        "outputId": "f5ac02a6-1f27-4f72-9fd1-c147fca3d674"
      },
      "source": [
        "from google.colab import drive\n",
        "drive.mount('/content/gdrive')"
      ],
      "execution_count": 1,
      "outputs": [
        {
          "output_type": "stream",
          "text": [
            "Mounted at /content/gdrive\n"
          ],
          "name": "stdout"
        }
      ]
    },
    {
      "cell_type": "code",
      "metadata": {
        "id": "iLFR-yh5OKEi"
      },
      "source": [
        ""
      ],
      "execution_count": 1,
      "outputs": []
    },
    {
      "cell_type": "code",
      "metadata": {
        "id": "6YQsu6SziwYA"
      },
      "source": [
        "import pandas as pd\n",
        "import numpy as np\n",
        "import seaborn as sns\n",
        "import datetime as datetime\n",
        "import time\n",
        "TrainingPath1 = \"/content/gdrive/MyDrive/Project Dataset/yellow_tripdata_2020-01.csv\"\n",
        "TrainingPath2 = \"/content/gdrive/MyDrive/Project Dataset/yellow_tripdata_2020-02.csv\"\n",
        "TrainingPath3 = \"/content/gdrive/MyDrive/Project Dataset/yellow_tripdata_2020-03.csv\"\n",
        "LookUpPath = \"/content/gdrive/MyDrive/Project Dataset/taxi_zone_lookup.csv\""
      ],
      "execution_count": 2,
      "outputs": []
    },
    {
      "cell_type": "code",
      "metadata": {
        "colab": {
          "base_uri": "https://localhost:8080/",
          "height": 455
        },
        "id": "HRlWwoXSjAOS",
        "outputId": "440278c3-0270-4d11-df18-638db83a3ce2"
      },
      "source": [
        "df1 = pd.read_csv(TrainingPath3)\n",
        "df1"
      ],
      "execution_count": 3,
      "outputs": [
        {
          "output_type": "stream",
          "text": [
            "/usr/local/lib/python3.6/dist-packages/IPython/core/interactiveshell.py:2718: DtypeWarning: Columns (6) have mixed types.Specify dtype option on import or set low_memory=False.\n",
            "  interactivity=interactivity, compiler=compiler, result=result)\n"
          ],
          "name": "stderr"
        },
        {
          "output_type": "execute_result",
          "data": {
            "text/html": [
              "<div>\n",
              "<style scoped>\n",
              "    .dataframe tbody tr th:only-of-type {\n",
              "        vertical-align: middle;\n",
              "    }\n",
              "\n",
              "    .dataframe tbody tr th {\n",
              "        vertical-align: top;\n",
              "    }\n",
              "\n",
              "    .dataframe thead th {\n",
              "        text-align: right;\n",
              "    }\n",
              "</style>\n",
              "<table border=\"1\" class=\"dataframe\">\n",
              "  <thead>\n",
              "    <tr style=\"text-align: right;\">\n",
              "      <th></th>\n",
              "      <th>VendorID</th>\n",
              "      <th>tpep_pickup_datetime</th>\n",
              "      <th>tpep_dropoff_datetime</th>\n",
              "      <th>passenger_count</th>\n",
              "      <th>trip_distance</th>\n",
              "      <th>RatecodeID</th>\n",
              "      <th>store_and_fwd_flag</th>\n",
              "      <th>PULocationID</th>\n",
              "      <th>DOLocationID</th>\n",
              "      <th>payment_type</th>\n",
              "      <th>fare_amount</th>\n",
              "      <th>extra</th>\n",
              "      <th>mta_tax</th>\n",
              "      <th>tip_amount</th>\n",
              "      <th>tolls_amount</th>\n",
              "      <th>improvement_surcharge</th>\n",
              "      <th>total_amount</th>\n",
              "      <th>congestion_surcharge</th>\n",
              "    </tr>\n",
              "  </thead>\n",
              "  <tbody>\n",
              "    <tr>\n",
              "      <th>0</th>\n",
              "      <td>1.0</td>\n",
              "      <td>2020-03-01 00:31:13</td>\n",
              "      <td>2020-03-01 01:01:42</td>\n",
              "      <td>1.0</td>\n",
              "      <td>4.70</td>\n",
              "      <td>1.0</td>\n",
              "      <td>N</td>\n",
              "      <td>88</td>\n",
              "      <td>255</td>\n",
              "      <td>1.0</td>\n",
              "      <td>22.00</td>\n",
              "      <td>3.0</td>\n",
              "      <td>0.5</td>\n",
              "      <td>2.00</td>\n",
              "      <td>0.0</td>\n",
              "      <td>0.3</td>\n",
              "      <td>27.80</td>\n",
              "      <td>2.5</td>\n",
              "    </tr>\n",
              "    <tr>\n",
              "      <th>1</th>\n",
              "      <td>2.0</td>\n",
              "      <td>2020-03-01 00:08:22</td>\n",
              "      <td>2020-03-01 00:08:49</td>\n",
              "      <td>1.0</td>\n",
              "      <td>0.00</td>\n",
              "      <td>1.0</td>\n",
              "      <td>N</td>\n",
              "      <td>193</td>\n",
              "      <td>193</td>\n",
              "      <td>2.0</td>\n",
              "      <td>2.50</td>\n",
              "      <td>0.5</td>\n",
              "      <td>0.5</td>\n",
              "      <td>0.00</td>\n",
              "      <td>0.0</td>\n",
              "      <td>0.3</td>\n",
              "      <td>3.80</td>\n",
              "      <td>0.0</td>\n",
              "    </tr>\n",
              "    <tr>\n",
              "      <th>2</th>\n",
              "      <td>1.0</td>\n",
              "      <td>2020-03-01 00:52:18</td>\n",
              "      <td>2020-03-01 00:59:16</td>\n",
              "      <td>1.0</td>\n",
              "      <td>1.10</td>\n",
              "      <td>1.0</td>\n",
              "      <td>N</td>\n",
              "      <td>246</td>\n",
              "      <td>90</td>\n",
              "      <td>1.0</td>\n",
              "      <td>6.00</td>\n",
              "      <td>3.0</td>\n",
              "      <td>0.5</td>\n",
              "      <td>1.95</td>\n",
              "      <td>0.0</td>\n",
              "      <td>0.3</td>\n",
              "      <td>11.75</td>\n",
              "      <td>2.5</td>\n",
              "    </tr>\n",
              "    <tr>\n",
              "      <th>3</th>\n",
              "      <td>2.0</td>\n",
              "      <td>2020-03-01 00:47:53</td>\n",
              "      <td>2020-03-01 00:50:57</td>\n",
              "      <td>2.0</td>\n",
              "      <td>0.87</td>\n",
              "      <td>1.0</td>\n",
              "      <td>N</td>\n",
              "      <td>151</td>\n",
              "      <td>238</td>\n",
              "      <td>1.0</td>\n",
              "      <td>5.00</td>\n",
              "      <td>0.5</td>\n",
              "      <td>0.5</td>\n",
              "      <td>1.76</td>\n",
              "      <td>0.0</td>\n",
              "      <td>0.3</td>\n",
              "      <td>10.56</td>\n",
              "      <td>2.5</td>\n",
              "    </tr>\n",
              "    <tr>\n",
              "      <th>4</th>\n",
              "      <td>1.0</td>\n",
              "      <td>2020-03-01 00:43:19</td>\n",
              "      <td>2020-03-01 00:58:27</td>\n",
              "      <td>0.0</td>\n",
              "      <td>4.40</td>\n",
              "      <td>1.0</td>\n",
              "      <td>N</td>\n",
              "      <td>79</td>\n",
              "      <td>261</td>\n",
              "      <td>1.0</td>\n",
              "      <td>16.50</td>\n",
              "      <td>3.0</td>\n",
              "      <td>0.5</td>\n",
              "      <td>4.05</td>\n",
              "      <td>0.0</td>\n",
              "      <td>0.3</td>\n",
              "      <td>24.35</td>\n",
              "      <td>2.5</td>\n",
              "    </tr>\n",
              "    <tr>\n",
              "      <th>...</th>\n",
              "      <td>...</td>\n",
              "      <td>...</td>\n",
              "      <td>...</td>\n",
              "      <td>...</td>\n",
              "      <td>...</td>\n",
              "      <td>...</td>\n",
              "      <td>...</td>\n",
              "      <td>...</td>\n",
              "      <td>...</td>\n",
              "      <td>...</td>\n",
              "      <td>...</td>\n",
              "      <td>...</td>\n",
              "      <td>...</td>\n",
              "      <td>...</td>\n",
              "      <td>...</td>\n",
              "      <td>...</td>\n",
              "      <td>...</td>\n",
              "      <td>...</td>\n",
              "    </tr>\n",
              "    <tr>\n",
              "      <th>3007287</th>\n",
              "      <td>NaN</td>\n",
              "      <td>2020-03-31 23:21:00</td>\n",
              "      <td>2020-03-31 23:33:00</td>\n",
              "      <td>NaN</td>\n",
              "      <td>5.43</td>\n",
              "      <td>NaN</td>\n",
              "      <td>NaN</td>\n",
              "      <td>137</td>\n",
              "      <td>87</td>\n",
              "      <td>NaN</td>\n",
              "      <td>30.47</td>\n",
              "      <td>0.0</td>\n",
              "      <td>0.5</td>\n",
              "      <td>0.00</td>\n",
              "      <td>0.0</td>\n",
              "      <td>0.3</td>\n",
              "      <td>33.77</td>\n",
              "      <td>2.5</td>\n",
              "    </tr>\n",
              "    <tr>\n",
              "      <th>3007288</th>\n",
              "      <td>NaN</td>\n",
              "      <td>2020-03-31 23:57:00</td>\n",
              "      <td>2020-04-01 00:26:00</td>\n",
              "      <td>NaN</td>\n",
              "      <td>13.21</td>\n",
              "      <td>NaN</td>\n",
              "      <td>NaN</td>\n",
              "      <td>137</td>\n",
              "      <td>71</td>\n",
              "      <td>NaN</td>\n",
              "      <td>37.97</td>\n",
              "      <td>0.0</td>\n",
              "      <td>0.5</td>\n",
              "      <td>0.00</td>\n",
              "      <td>0.0</td>\n",
              "      <td>0.3</td>\n",
              "      <td>41.27</td>\n",
              "      <td>2.5</td>\n",
              "    </tr>\n",
              "    <tr>\n",
              "      <th>3007289</th>\n",
              "      <td>NaN</td>\n",
              "      <td>2020-03-31 23:22:01</td>\n",
              "      <td>2020-03-31 23:43:52</td>\n",
              "      <td>NaN</td>\n",
              "      <td>12.14</td>\n",
              "      <td>NaN</td>\n",
              "      <td>NaN</td>\n",
              "      <td>137</td>\n",
              "      <td>32</td>\n",
              "      <td>NaN</td>\n",
              "      <td>37.10</td>\n",
              "      <td>0.0</td>\n",
              "      <td>0.0</td>\n",
              "      <td>0.00</td>\n",
              "      <td>0.0</td>\n",
              "      <td>0.3</td>\n",
              "      <td>39.90</td>\n",
              "      <td>2.5</td>\n",
              "    </tr>\n",
              "    <tr>\n",
              "      <th>3007290</th>\n",
              "      <td>NaN</td>\n",
              "      <td>2020-03-31 23:18:53</td>\n",
              "      <td>2020-03-31 23:32:21</td>\n",
              "      <td>NaN</td>\n",
              "      <td>7.01</td>\n",
              "      <td>NaN</td>\n",
              "      <td>NaN</td>\n",
              "      <td>137</td>\n",
              "      <td>159</td>\n",
              "      <td>NaN</td>\n",
              "      <td>20.07</td>\n",
              "      <td>0.0</td>\n",
              "      <td>0.0</td>\n",
              "      <td>0.00</td>\n",
              "      <td>0.0</td>\n",
              "      <td>0.3</td>\n",
              "      <td>22.87</td>\n",
              "      <td>2.5</td>\n",
              "    </tr>\n",
              "    <tr>\n",
              "      <th>3007291</th>\n",
              "      <td>NaN</td>\n",
              "      <td>2020-03-31 23:11:00</td>\n",
              "      <td>2020-03-31 23:30:00</td>\n",
              "      <td>NaN</td>\n",
              "      <td>6.31</td>\n",
              "      <td>NaN</td>\n",
              "      <td>NaN</td>\n",
              "      <td>185</td>\n",
              "      <td>69</td>\n",
              "      <td>NaN</td>\n",
              "      <td>23.40</td>\n",
              "      <td>0.0</td>\n",
              "      <td>0.5</td>\n",
              "      <td>0.00</td>\n",
              "      <td>0.0</td>\n",
              "      <td>0.3</td>\n",
              "      <td>24.20</td>\n",
              "      <td>0.0</td>\n",
              "    </tr>\n",
              "  </tbody>\n",
              "</table>\n",
              "<p>3007292 rows × 18 columns</p>\n",
              "</div>"
            ],
            "text/plain": [
              "         VendorID tpep_pickup_datetime  ... total_amount  congestion_surcharge\n",
              "0             1.0  2020-03-01 00:31:13  ...        27.80                   2.5\n",
              "1             2.0  2020-03-01 00:08:22  ...         3.80                   0.0\n",
              "2             1.0  2020-03-01 00:52:18  ...        11.75                   2.5\n",
              "3             2.0  2020-03-01 00:47:53  ...        10.56                   2.5\n",
              "4             1.0  2020-03-01 00:43:19  ...        24.35                   2.5\n",
              "...           ...                  ...  ...          ...                   ...\n",
              "3007287       NaN  2020-03-31 23:21:00  ...        33.77                   2.5\n",
              "3007288       NaN  2020-03-31 23:57:00  ...        41.27                   2.5\n",
              "3007289       NaN  2020-03-31 23:22:01  ...        39.90                   2.5\n",
              "3007290       NaN  2020-03-31 23:18:53  ...        22.87                   2.5\n",
              "3007291       NaN  2020-03-31 23:11:00  ...        24.20                   0.0\n",
              "\n",
              "[3007292 rows x 18 columns]"
            ]
          },
          "metadata": {
            "tags": []
          },
          "execution_count": 3
        }
      ]
    },
    {
      "cell_type": "code",
      "metadata": {
        "id": "OywPlp2_l5Gl"
      },
      "source": [
        "#df2 = pd.read_csv(TrainingPath2)\n",
        "#df2.head()"
      ],
      "execution_count": 4,
      "outputs": []
    },
    {
      "cell_type": "code",
      "metadata": {
        "id": "4l_p1woWmBFQ"
      },
      "source": [
        "#df3 = pd.read_csv(TrainingPath3)\n",
        "#df3.head()"
      ],
      "execution_count": 5,
      "outputs": []
    },
    {
      "cell_type": "code",
      "metadata": {
        "colab": {
          "base_uri": "https://localhost:8080/"
        },
        "id": "HUqAc_LymU8H",
        "outputId": "130a5392-8929-46af-e854-dde1b2d768e0"
      },
      "source": [
        "#Using the dataset of months jan, feb and march of 2020\n",
        "Main_df = pd.concat([df1])\n",
        "Main_df.shape"
      ],
      "execution_count": 6,
      "outputs": [
        {
          "output_type": "execute_result",
          "data": {
            "text/plain": [
              "(3007292, 18)"
            ]
          },
          "metadata": {
            "tags": []
          },
          "execution_count": 6
        }
      ]
    },
    {
      "cell_type": "code",
      "metadata": {
        "colab": {
          "base_uri": "https://localhost:8080/"
        },
        "id": "SouXPirzCYkP",
        "outputId": "b4611526-1245-47de-f590-1679e24b71f0"
      },
      "source": [
        "Main_df.columns"
      ],
      "execution_count": 7,
      "outputs": [
        {
          "output_type": "execute_result",
          "data": {
            "text/plain": [
              "Index(['VendorID', 'tpep_pickup_datetime', 'tpep_dropoff_datetime',\n",
              "       'passenger_count', 'trip_distance', 'RatecodeID', 'store_and_fwd_flag',\n",
              "       'PULocationID', 'DOLocationID', 'payment_type', 'fare_amount', 'extra',\n",
              "       'mta_tax', 'tip_amount', 'tolls_amount', 'improvement_surcharge',\n",
              "       'total_amount', 'congestion_surcharge'],\n",
              "      dtype='object')"
            ]
          },
          "metadata": {
            "tags": []
          },
          "execution_count": 7
        }
      ]
    },
    {
      "cell_type": "code",
      "metadata": {
        "colab": {
          "base_uri": "https://localhost:8080/",
          "height": 321
        },
        "id": "jORd1XvtCoS7",
        "outputId": "373c1dba-7f47-42ac-d58d-392357d36eab"
      },
      "source": [
        "Main_df.describe()"
      ],
      "execution_count": 8,
      "outputs": [
        {
          "output_type": "execute_result",
          "data": {
            "text/html": [
              "<div>\n",
              "<style scoped>\n",
              "    .dataframe tbody tr th:only-of-type {\n",
              "        vertical-align: middle;\n",
              "    }\n",
              "\n",
              "    .dataframe tbody tr th {\n",
              "        vertical-align: top;\n",
              "    }\n",
              "\n",
              "    .dataframe thead th {\n",
              "        text-align: right;\n",
              "    }\n",
              "</style>\n",
              "<table border=\"1\" class=\"dataframe\">\n",
              "  <thead>\n",
              "    <tr style=\"text-align: right;\">\n",
              "      <th></th>\n",
              "      <th>VendorID</th>\n",
              "      <th>passenger_count</th>\n",
              "      <th>trip_distance</th>\n",
              "      <th>RatecodeID</th>\n",
              "      <th>PULocationID</th>\n",
              "      <th>DOLocationID</th>\n",
              "      <th>payment_type</th>\n",
              "      <th>fare_amount</th>\n",
              "      <th>extra</th>\n",
              "      <th>mta_tax</th>\n",
              "      <th>tip_amount</th>\n",
              "      <th>tolls_amount</th>\n",
              "      <th>improvement_surcharge</th>\n",
              "      <th>total_amount</th>\n",
              "      <th>congestion_surcharge</th>\n",
              "    </tr>\n",
              "  </thead>\n",
              "  <tbody>\n",
              "    <tr>\n",
              "      <th>count</th>\n",
              "      <td>2.969805e+06</td>\n",
              "      <td>2.969805e+06</td>\n",
              "      <td>3.007292e+06</td>\n",
              "      <td>2.969805e+06</td>\n",
              "      <td>3.007292e+06</td>\n",
              "      <td>3.007292e+06</td>\n",
              "      <td>2.969805e+06</td>\n",
              "      <td>3.007292e+06</td>\n",
              "      <td>3.007292e+06</td>\n",
              "      <td>3.007292e+06</td>\n",
              "      <td>3.007292e+06</td>\n",
              "      <td>3.007292e+06</td>\n",
              "      <td>3.007292e+06</td>\n",
              "      <td>3.007292e+06</td>\n",
              "      <td>3.007292e+06</td>\n",
              "    </tr>\n",
              "    <tr>\n",
              "      <th>mean</th>\n",
              "      <td>1.667242e+00</td>\n",
              "      <td>1.467486e+00</td>\n",
              "      <td>3.116722e+00</td>\n",
              "      <td>1.051378e+00</td>\n",
              "      <td>1.634186e+02</td>\n",
              "      <td>1.609385e+02</td>\n",
              "      <td>1.267743e+00</td>\n",
              "      <td>1.269675e+01</td>\n",
              "      <td>1.246666e+00</td>\n",
              "      <td>6.580587e-01</td>\n",
              "      <td>2.138793e+00</td>\n",
              "      <td>3.041657e-01</td>\n",
              "      <td>2.975907e-01</td>\n",
              "      <td>1.884122e+01</td>\n",
              "      <td>2.241648e+00</td>\n",
              "    </tr>\n",
              "    <tr>\n",
              "      <th>std</th>\n",
              "      <td>4.712009e-01</td>\n",
              "      <td>1.120098e+00</td>\n",
              "      <td>2.069343e+02</td>\n",
              "      <td>7.109302e-01</td>\n",
              "      <td>6.658183e+01</td>\n",
              "      <td>7.073925e+01</td>\n",
              "      <td>4.765033e-01</td>\n",
              "      <td>3.871551e+02</td>\n",
              "      <td>2.883275e+02</td>\n",
              "      <td>2.883250e+02</td>\n",
              "      <td>2.719280e+00</td>\n",
              "      <td>1.607296e+00</td>\n",
              "      <td>3.710814e-02</td>\n",
              "      <td>6.945971e+02</td>\n",
              "      <td>7.841027e-01</td>\n",
              "    </tr>\n",
              "    <tr>\n",
              "      <th>min</th>\n",
              "      <td>1.000000e+00</td>\n",
              "      <td>0.000000e+00</td>\n",
              "      <td>0.000000e+00</td>\n",
              "      <td>1.000000e+00</td>\n",
              "      <td>1.000000e+00</td>\n",
              "      <td>1.000000e+00</td>\n",
              "      <td>1.000000e+00</td>\n",
              "      <td>-1.259000e+03</td>\n",
              "      <td>-7.000000e+00</td>\n",
              "      <td>-5.000000e-01</td>\n",
              "      <td>-4.932200e+02</td>\n",
              "      <td>-4.000000e+01</td>\n",
              "      <td>-3.000000e-01</td>\n",
              "      <td>-1.260300e+03</td>\n",
              "      <td>-2.500000e+00</td>\n",
              "    </tr>\n",
              "    <tr>\n",
              "      <th>25%</th>\n",
              "      <td>1.000000e+00</td>\n",
              "      <td>1.000000e+00</td>\n",
              "      <td>9.900000e-01</td>\n",
              "      <td>1.000000e+00</td>\n",
              "      <td>1.140000e+02</td>\n",
              "      <td>1.070000e+02</td>\n",
              "      <td>1.000000e+00</td>\n",
              "      <td>6.500000e+00</td>\n",
              "      <td>0.000000e+00</td>\n",
              "      <td>5.000000e-01</td>\n",
              "      <td>0.000000e+00</td>\n",
              "      <td>0.000000e+00</td>\n",
              "      <td>3.000000e-01</td>\n",
              "      <td>1.116000e+01</td>\n",
              "      <td>2.500000e+00</td>\n",
              "    </tr>\n",
              "    <tr>\n",
              "      <th>50%</th>\n",
              "      <td>2.000000e+00</td>\n",
              "      <td>1.000000e+00</td>\n",
              "      <td>1.670000e+00</td>\n",
              "      <td>1.000000e+00</td>\n",
              "      <td>1.620000e+02</td>\n",
              "      <td>1.620000e+02</td>\n",
              "      <td>1.000000e+00</td>\n",
              "      <td>9.000000e+00</td>\n",
              "      <td>5.000000e-01</td>\n",
              "      <td>5.000000e-01</td>\n",
              "      <td>1.920000e+00</td>\n",
              "      <td>0.000000e+00</td>\n",
              "      <td>3.000000e-01</td>\n",
              "      <td>1.430000e+01</td>\n",
              "      <td>2.500000e+00</td>\n",
              "    </tr>\n",
              "    <tr>\n",
              "      <th>75%</th>\n",
              "      <td>2.000000e+00</td>\n",
              "      <td>1.000000e+00</td>\n",
              "      <td>3.020000e+00</td>\n",
              "      <td>1.000000e+00</td>\n",
              "      <td>2.340000e+02</td>\n",
              "      <td>2.340000e+02</td>\n",
              "      <td>2.000000e+00</td>\n",
              "      <td>1.400000e+01</td>\n",
              "      <td>2.500000e+00</td>\n",
              "      <td>5.000000e-01</td>\n",
              "      <td>2.860000e+00</td>\n",
              "      <td>0.000000e+00</td>\n",
              "      <td>3.000000e-01</td>\n",
              "      <td>1.985000e+01</td>\n",
              "      <td>2.500000e+00</td>\n",
              "    </tr>\n",
              "    <tr>\n",
              "      <th>max</th>\n",
              "      <td>2.000000e+00</td>\n",
              "      <td>9.000000e+00</td>\n",
              "      <td>2.698037e+05</td>\n",
              "      <td>9.900000e+01</td>\n",
              "      <td>2.650000e+02</td>\n",
              "      <td>2.650000e+02</td>\n",
              "      <td>4.000000e+00</td>\n",
              "      <td>6.711001e+05</td>\n",
              "      <td>5.000008e+05</td>\n",
              "      <td>5.000005e+05</td>\n",
              "      <td>8.000000e+02</td>\n",
              "      <td>6.010200e+02</td>\n",
              "      <td>3.000000e-01</td>\n",
              "      <td>1.000004e+06</td>\n",
              "      <td>2.500000e+00</td>\n",
              "    </tr>\n",
              "  </tbody>\n",
              "</table>\n",
              "</div>"
            ],
            "text/plain": [
              "           VendorID  passenger_count  ...  total_amount  congestion_surcharge\n",
              "count  2.969805e+06     2.969805e+06  ...  3.007292e+06          3.007292e+06\n",
              "mean   1.667242e+00     1.467486e+00  ...  1.884122e+01          2.241648e+00\n",
              "std    4.712009e-01     1.120098e+00  ...  6.945971e+02          7.841027e-01\n",
              "min    1.000000e+00     0.000000e+00  ... -1.260300e+03         -2.500000e+00\n",
              "25%    1.000000e+00     1.000000e+00  ...  1.116000e+01          2.500000e+00\n",
              "50%    2.000000e+00     1.000000e+00  ...  1.430000e+01          2.500000e+00\n",
              "75%    2.000000e+00     1.000000e+00  ...  1.985000e+01          2.500000e+00\n",
              "max    2.000000e+00     9.000000e+00  ...  1.000004e+06          2.500000e+00\n",
              "\n",
              "[8 rows x 15 columns]"
            ]
          },
          "metadata": {
            "tags": []
          },
          "execution_count": 8
        }
      ]
    },
    {
      "cell_type": "code",
      "metadata": {
        "colab": {
          "base_uri": "https://localhost:8080/"
        },
        "id": "q7aLzKEqC4oy",
        "outputId": "2bd148aa-9b54-4565-9d83-c3200af78ac2"
      },
      "source": [
        "Main_df.shape"
      ],
      "execution_count": 9,
      "outputs": [
        {
          "output_type": "execute_result",
          "data": {
            "text/plain": [
              "(3007292, 18)"
            ]
          },
          "metadata": {
            "tags": []
          },
          "execution_count": 9
        }
      ]
    },
    {
      "cell_type": "code",
      "metadata": {
        "colab": {
          "base_uri": "https://localhost:8080/",
          "height": 422
        },
        "id": "Gftts14Hngn5",
        "outputId": "63e315fd-c222-4142-9ec2-96d3ee0ff1c1"
      },
      "source": [
        "#NullValues\n",
        "Main_df.isnull()\n"
      ],
      "execution_count": 10,
      "outputs": [
        {
          "output_type": "execute_result",
          "data": {
            "text/html": [
              "<div>\n",
              "<style scoped>\n",
              "    .dataframe tbody tr th:only-of-type {\n",
              "        vertical-align: middle;\n",
              "    }\n",
              "\n",
              "    .dataframe tbody tr th {\n",
              "        vertical-align: top;\n",
              "    }\n",
              "\n",
              "    .dataframe thead th {\n",
              "        text-align: right;\n",
              "    }\n",
              "</style>\n",
              "<table border=\"1\" class=\"dataframe\">\n",
              "  <thead>\n",
              "    <tr style=\"text-align: right;\">\n",
              "      <th></th>\n",
              "      <th>VendorID</th>\n",
              "      <th>tpep_pickup_datetime</th>\n",
              "      <th>tpep_dropoff_datetime</th>\n",
              "      <th>passenger_count</th>\n",
              "      <th>trip_distance</th>\n",
              "      <th>RatecodeID</th>\n",
              "      <th>store_and_fwd_flag</th>\n",
              "      <th>PULocationID</th>\n",
              "      <th>DOLocationID</th>\n",
              "      <th>payment_type</th>\n",
              "      <th>fare_amount</th>\n",
              "      <th>extra</th>\n",
              "      <th>mta_tax</th>\n",
              "      <th>tip_amount</th>\n",
              "      <th>tolls_amount</th>\n",
              "      <th>improvement_surcharge</th>\n",
              "      <th>total_amount</th>\n",
              "      <th>congestion_surcharge</th>\n",
              "    </tr>\n",
              "  </thead>\n",
              "  <tbody>\n",
              "    <tr>\n",
              "      <th>0</th>\n",
              "      <td>False</td>\n",
              "      <td>False</td>\n",
              "      <td>False</td>\n",
              "      <td>False</td>\n",
              "      <td>False</td>\n",
              "      <td>False</td>\n",
              "      <td>False</td>\n",
              "      <td>False</td>\n",
              "      <td>False</td>\n",
              "      <td>False</td>\n",
              "      <td>False</td>\n",
              "      <td>False</td>\n",
              "      <td>False</td>\n",
              "      <td>False</td>\n",
              "      <td>False</td>\n",
              "      <td>False</td>\n",
              "      <td>False</td>\n",
              "      <td>False</td>\n",
              "    </tr>\n",
              "    <tr>\n",
              "      <th>1</th>\n",
              "      <td>False</td>\n",
              "      <td>False</td>\n",
              "      <td>False</td>\n",
              "      <td>False</td>\n",
              "      <td>False</td>\n",
              "      <td>False</td>\n",
              "      <td>False</td>\n",
              "      <td>False</td>\n",
              "      <td>False</td>\n",
              "      <td>False</td>\n",
              "      <td>False</td>\n",
              "      <td>False</td>\n",
              "      <td>False</td>\n",
              "      <td>False</td>\n",
              "      <td>False</td>\n",
              "      <td>False</td>\n",
              "      <td>False</td>\n",
              "      <td>False</td>\n",
              "    </tr>\n",
              "    <tr>\n",
              "      <th>2</th>\n",
              "      <td>False</td>\n",
              "      <td>False</td>\n",
              "      <td>False</td>\n",
              "      <td>False</td>\n",
              "      <td>False</td>\n",
              "      <td>False</td>\n",
              "      <td>False</td>\n",
              "      <td>False</td>\n",
              "      <td>False</td>\n",
              "      <td>False</td>\n",
              "      <td>False</td>\n",
              "      <td>False</td>\n",
              "      <td>False</td>\n",
              "      <td>False</td>\n",
              "      <td>False</td>\n",
              "      <td>False</td>\n",
              "      <td>False</td>\n",
              "      <td>False</td>\n",
              "    </tr>\n",
              "    <tr>\n",
              "      <th>3</th>\n",
              "      <td>False</td>\n",
              "      <td>False</td>\n",
              "      <td>False</td>\n",
              "      <td>False</td>\n",
              "      <td>False</td>\n",
              "      <td>False</td>\n",
              "      <td>False</td>\n",
              "      <td>False</td>\n",
              "      <td>False</td>\n",
              "      <td>False</td>\n",
              "      <td>False</td>\n",
              "      <td>False</td>\n",
              "      <td>False</td>\n",
              "      <td>False</td>\n",
              "      <td>False</td>\n",
              "      <td>False</td>\n",
              "      <td>False</td>\n",
              "      <td>False</td>\n",
              "    </tr>\n",
              "    <tr>\n",
              "      <th>4</th>\n",
              "      <td>False</td>\n",
              "      <td>False</td>\n",
              "      <td>False</td>\n",
              "      <td>False</td>\n",
              "      <td>False</td>\n",
              "      <td>False</td>\n",
              "      <td>False</td>\n",
              "      <td>False</td>\n",
              "      <td>False</td>\n",
              "      <td>False</td>\n",
              "      <td>False</td>\n",
              "      <td>False</td>\n",
              "      <td>False</td>\n",
              "      <td>False</td>\n",
              "      <td>False</td>\n",
              "      <td>False</td>\n",
              "      <td>False</td>\n",
              "      <td>False</td>\n",
              "    </tr>\n",
              "    <tr>\n",
              "      <th>...</th>\n",
              "      <td>...</td>\n",
              "      <td>...</td>\n",
              "      <td>...</td>\n",
              "      <td>...</td>\n",
              "      <td>...</td>\n",
              "      <td>...</td>\n",
              "      <td>...</td>\n",
              "      <td>...</td>\n",
              "      <td>...</td>\n",
              "      <td>...</td>\n",
              "      <td>...</td>\n",
              "      <td>...</td>\n",
              "      <td>...</td>\n",
              "      <td>...</td>\n",
              "      <td>...</td>\n",
              "      <td>...</td>\n",
              "      <td>...</td>\n",
              "      <td>...</td>\n",
              "    </tr>\n",
              "    <tr>\n",
              "      <th>3007287</th>\n",
              "      <td>True</td>\n",
              "      <td>False</td>\n",
              "      <td>False</td>\n",
              "      <td>True</td>\n",
              "      <td>False</td>\n",
              "      <td>True</td>\n",
              "      <td>True</td>\n",
              "      <td>False</td>\n",
              "      <td>False</td>\n",
              "      <td>True</td>\n",
              "      <td>False</td>\n",
              "      <td>False</td>\n",
              "      <td>False</td>\n",
              "      <td>False</td>\n",
              "      <td>False</td>\n",
              "      <td>False</td>\n",
              "      <td>False</td>\n",
              "      <td>False</td>\n",
              "    </tr>\n",
              "    <tr>\n",
              "      <th>3007288</th>\n",
              "      <td>True</td>\n",
              "      <td>False</td>\n",
              "      <td>False</td>\n",
              "      <td>True</td>\n",
              "      <td>False</td>\n",
              "      <td>True</td>\n",
              "      <td>True</td>\n",
              "      <td>False</td>\n",
              "      <td>False</td>\n",
              "      <td>True</td>\n",
              "      <td>False</td>\n",
              "      <td>False</td>\n",
              "      <td>False</td>\n",
              "      <td>False</td>\n",
              "      <td>False</td>\n",
              "      <td>False</td>\n",
              "      <td>False</td>\n",
              "      <td>False</td>\n",
              "    </tr>\n",
              "    <tr>\n",
              "      <th>3007289</th>\n",
              "      <td>True</td>\n",
              "      <td>False</td>\n",
              "      <td>False</td>\n",
              "      <td>True</td>\n",
              "      <td>False</td>\n",
              "      <td>True</td>\n",
              "      <td>True</td>\n",
              "      <td>False</td>\n",
              "      <td>False</td>\n",
              "      <td>True</td>\n",
              "      <td>False</td>\n",
              "      <td>False</td>\n",
              "      <td>False</td>\n",
              "      <td>False</td>\n",
              "      <td>False</td>\n",
              "      <td>False</td>\n",
              "      <td>False</td>\n",
              "      <td>False</td>\n",
              "    </tr>\n",
              "    <tr>\n",
              "      <th>3007290</th>\n",
              "      <td>True</td>\n",
              "      <td>False</td>\n",
              "      <td>False</td>\n",
              "      <td>True</td>\n",
              "      <td>False</td>\n",
              "      <td>True</td>\n",
              "      <td>True</td>\n",
              "      <td>False</td>\n",
              "      <td>False</td>\n",
              "      <td>True</td>\n",
              "      <td>False</td>\n",
              "      <td>False</td>\n",
              "      <td>False</td>\n",
              "      <td>False</td>\n",
              "      <td>False</td>\n",
              "      <td>False</td>\n",
              "      <td>False</td>\n",
              "      <td>False</td>\n",
              "    </tr>\n",
              "    <tr>\n",
              "      <th>3007291</th>\n",
              "      <td>True</td>\n",
              "      <td>False</td>\n",
              "      <td>False</td>\n",
              "      <td>True</td>\n",
              "      <td>False</td>\n",
              "      <td>True</td>\n",
              "      <td>True</td>\n",
              "      <td>False</td>\n",
              "      <td>False</td>\n",
              "      <td>True</td>\n",
              "      <td>False</td>\n",
              "      <td>False</td>\n",
              "      <td>False</td>\n",
              "      <td>False</td>\n",
              "      <td>False</td>\n",
              "      <td>False</td>\n",
              "      <td>False</td>\n",
              "      <td>False</td>\n",
              "    </tr>\n",
              "  </tbody>\n",
              "</table>\n",
              "<p>3007292 rows × 18 columns</p>\n",
              "</div>"
            ],
            "text/plain": [
              "         VendorID  tpep_pickup_datetime  ...  total_amount  congestion_surcharge\n",
              "0           False                 False  ...         False                 False\n",
              "1           False                 False  ...         False                 False\n",
              "2           False                 False  ...         False                 False\n",
              "3           False                 False  ...         False                 False\n",
              "4           False                 False  ...         False                 False\n",
              "...           ...                   ...  ...           ...                   ...\n",
              "3007287      True                 False  ...         False                 False\n",
              "3007288      True                 False  ...         False                 False\n",
              "3007289      True                 False  ...         False                 False\n",
              "3007290      True                 False  ...         False                 False\n",
              "3007291      True                 False  ...         False                 False\n",
              "\n",
              "[3007292 rows x 18 columns]"
            ]
          },
          "metadata": {
            "tags": []
          },
          "execution_count": 10
        }
      ]
    },
    {
      "cell_type": "code",
      "metadata": {
        "colab": {
          "base_uri": "https://localhost:8080/"
        },
        "id": "U-YdWB5qL6jp",
        "outputId": "c3f041c5-2711-4e38-9642-2f8538108bb9"
      },
      "source": [
        "#Data Cleaning on Location\n",
        "#NewYork city LOcation IDs are in range = (1, 263)\n",
        "#src = https://www1.nyc.gov/site/tlc/about/tlc-trip-record-data.page\n",
        "\n",
        "Main_df = Main_df[((Main_df['PULocationID']>=1) & (Main_df['PULocationID']<=263)) & ((Main_df['DOLocationID']>=1) & (Main_df['DOLocationID']<=263))]\n",
        "print(\"Shape of the data points after preprocessing on Location: \", Main_df.shape)"
      ],
      "execution_count": 11,
      "outputs": [
        {
          "output_type": "stream",
          "text": [
            "Shape of the data points after preprocessing on Location:  (2975588, 18)\n"
          ],
          "name": "stdout"
        }
      ]
    },
    {
      "cell_type": "code",
      "metadata": {
        "colab": {
          "base_uri": "https://localhost:8080/"
        },
        "id": "7JT27fLuSrHw",
        "outputId": "7d13ff30-57d0-4012-e8c2-10fa244e3a74"
      },
      "source": [
        "len(Main_df['tpep_pickup_datetime'].values)"
      ],
      "execution_count": 12,
      "outputs": [
        {
          "output_type": "execute_result",
          "data": {
            "text/plain": [
              "2975588"
            ]
          },
          "metadata": {
            "tags": []
          },
          "execution_count": 12
        }
      ]
    },
    {
      "cell_type": "code",
      "metadata": {
        "id": "TNesFUiPbX3o"
      },
      "source": [
        "#Data Cleaning on Trip Duration\n",
        "\n",
        "#Pickup Time\n",
        "pickup_time = []\n",
        "for str in Main_df['tpep_pickup_datetime'].values:\n",
        "  d = time.mktime(datetime.datetime.strptime(str, \"%Y-%m-%d %H:%M:%S\").timetuple())\n",
        "  pickup_time.append(d)\n",
        "\n",
        "\n",
        "\n"
      ],
      "execution_count": 13,
      "outputs": []
    },
    {
      "cell_type": "code",
      "metadata": {
        "colab": {
          "base_uri": "https://localhost:8080/"
        },
        "id": "b4Q4nXUGko5A",
        "outputId": "36330315-231e-4588-e088-6fec3053cafa"
      },
      "source": [
        "print(pickup_time[0:100])"
      ],
      "execution_count": 14,
      "outputs": [
        {
          "output_type": "stream",
          "text": [
            "[1583022673.0, 1583021302.0, 1583023938.0, 1583023673.0, 1583023399.0, 1583021083.0, 1583023401.0, 1583023895.0, 1583021622.0, 1583022305.0, 1583022787.0, 1583023622.0, 1583020864.0, 1583021743.0, 1583020808.0, 1583021683.0, 1583024216.0, 1583020885.0, 1583022074.0, 1583022935.0, 1583024105.0, 1583022563.0, 1583023068.0, 1583021122.0, 1583022548.0, 1583022103.0, 1583023572.0, 1583021311.0, 1583021021.0, 1583024227.0, 1583022841.0, 1583023789.0, 1583021398.0, 1583023336.0, 1583021644.0, 1583023693.0, 1583022884.0, 1583024279.0, 1583021921.0, 1583023067.0, 1583023013.0, 1583023264.0, 1583024213.0, 1583022581.0, 1583021290.0, 1583021965.0, 1583023432.0, 1583020890.0, 1583021655.0, 1583022316.0, 1583021409.0, 1583023755.0, 1583023740.0, 1583022383.0, 1583023485.0, 1583023246.0, 1583024280.0, 1583021460.0, 1583023587.0, 1583021071.0, 1583022309.0, 1583023618.0, 1583022483.0, 1583020934.0, 1583022734.0, 1583023833.0, 1583022231.0, 1583023407.0, 1583023699.0, 1583021113.0, 1583022361.0, 1583022954.0, 1583024377.0, 1583023672.0, 1583021832.0, 1583021905.0, 1583023142.0, 1583022700.0, 1583024359.0, 1583020882.0, 1583022965.0, 1583023707.0, 1583021156.0, 1583021781.0, 1583022605.0, 1583020800.0, 1583022827.0, 1583024399.0, 1583021179.0, 1583021661.0, 1583022137.0, 1583022448.0, 1583023386.0, 1583024283.0, 1583021412.0, 1583022248.0, 1583022949.0, 1583024304.0, 1583022203.0, 1583021156.0]\n"
          ],
          "name": "stdout"
        }
      ]
    },
    {
      "cell_type": "code",
      "metadata": {
        "id": "ka_7hpdIhi_L"
      },
      "source": [
        "#Calculating Drop off time\n",
        "dropoff_time = []\n",
        "for str in Main_df['tpep_dropoff_datetime'].values:\n",
        "  d = time.mktime(datetime.datetime.strptime(str, \"%Y-%m-%d %H:%M:%S\").timetuple())\n",
        "  dropoff_time.append(d)"
      ],
      "execution_count": 15,
      "outputs": []
    },
    {
      "cell_type": "code",
      "metadata": {
        "colab": {
          "base_uri": "https://localhost:8080/"
        },
        "id": "azXYmw37lXG_",
        "outputId": "04627cb3-37f6-4512-8413-3c9737755b7d"
      },
      "source": [
        "print(dropoff_time[0:100])"
      ],
      "execution_count": 16,
      "outputs": [
        {
          "output_type": "stream",
          "text": [
            "[1583024502.0, 1583021329.0, 1583024356.0, 1583023857.0, 1583024307.0, 1583022197.0, 1583025276.0, 1583024417.0, 1583022180.0, 1583022666.0, 1583023398.0, 1583024375.0, 1583021649.0, 1583023617.0, 1583021326.0, 1583023020.0, 1583025227.0, 1583021281.0, 1583022647.0, 1583023381.0, 1583024482.0, 1583022764.0, 1583023879.0, 1583022215.0, 1583023657.0, 1583022788.0, 1583024151.0, 1583022001.0, 1583021965.0, 1583025130.0, 1583023306.0, 1583024715.0, 1583021769.0, 1583024360.0, 1583022026.0, 1583024031.0, 1583023162.0, 1583024676.0, 1583022638.0, 1583023337.0, 1583023176.0, 1583023545.0, 1583026097.0, 1583024541.0, 1583021470.0, 1583022187.0, 1583024129.0, 1583021535.0, 1583022226.0, 1583023500.0, 1583022259.0, 1583026067.0, 1583024489.0, 1583023213.0, 1583025717.0, 1583023642.0, 1583025183.0, 1583022439.0, 1583025072.0, 1583021474.0, 1583023401.0, 1583025110.0, 1583023574.0, 1583021843.0, 1583023542.0, 1583025083.0, 1583023290.0, 1583023531.0, 1583024208.0, 1583022020.0, 1583022760.0, 1583024169.0, 1583024982.0, 1583023792.0, 1583022950.0, 1583023017.0, 1583023974.0, 1583023467.0, 1583025367.0, 1583021755.0, 1583023296.0, 1583024756.0, 1583021487.0, 1583022038.0, 1583023942.0, 1583022248.0, 1583023944.0, 1583025468.0, 1583021490.0, 1583022072.0, 1583022378.0, 1583022768.0, 1583023713.0, 1583024706.0, 1583022031.0, 1583022814.0, 1583023717.0, 1583024637.0, 1583024106.0, 1583021523.0]\n"
          ],
          "name": "stdout"
        }
      ]
    },
    {
      "cell_type": "code",
      "metadata": {
        "colab": {
          "base_uri": "https://localhost:8080/"
        },
        "id": "Ljn76OncnX-W",
        "outputId": "80681cda-e8ad-4168-8287-a09d14bfb35f"
      },
      "source": [
        "durations = abs((np.array(dropoff_time) - np.array(pickup_time))/float(60))\n",
        "Main_df['trip_duration'] = durations\n",
        "print(Main_df.head())"
      ],
      "execution_count": 17,
      "outputs": [
        {
          "output_type": "stream",
          "text": [
            "   VendorID tpep_pickup_datetime  ... congestion_surcharge  trip_duration\n",
            "0       1.0  2020-03-01 00:31:13  ...                  2.5      30.483333\n",
            "1       2.0  2020-03-01 00:08:22  ...                  0.0       0.450000\n",
            "2       1.0  2020-03-01 00:52:18  ...                  2.5       6.966667\n",
            "3       2.0  2020-03-01 00:47:53  ...                  2.5       3.066667\n",
            "4       1.0  2020-03-01 00:43:19  ...                  2.5      15.133333\n",
            "\n",
            "[5 rows x 19 columns]\n"
          ],
          "name": "stdout"
        }
      ]
    },
    {
      "cell_type": "code",
      "metadata": {
        "colab": {
          "base_uri": "https://localhost:8080/"
        },
        "id": "SJTMOxo_rEfi",
        "outputId": "7674f47e-b144-4fb0-ed70-c4c7f6d97abc"
      },
      "source": [
        "#Percentiles\n",
        "duration_at_01=Main_df['trip_duration'].quantile(0.1)\n",
        "print(duration_at_01) #trip duration at 1 percentile\n",
        "\n",
        "duration_at_09=Main_df['trip_duration'].quantile(0.9)\n",
        "print(duration_at_09) #trip duration at 90 percentile\n",
        "\n",
        "duration_at_99=Main_df['trip_duration'].quantile(0.99)\n",
        "print(duration_at_99) #trip duration at 99.0 percentile\n",
        "\n",
        "duration_at_999=Main_df['trip_duration'].quantile(0.999)\n",
        "print(duration_at_999) #trip duration at 99.9 percentile"
      ],
      "execution_count": 18,
      "outputs": [
        {
          "output_type": "stream",
          "text": [
            "3.9\n",
            "25.45\n",
            "53.766666666666666\n",
            "1412.7\n"
          ],
          "name": "stdout"
        }
      ]
    },
    {
      "cell_type": "code",
      "metadata": {
        "id": "2pbOyFZEvepv"
      },
      "source": [
        "#Boxplot before cleaning\n",
        "sns.boxenplot(y='trip_duration', data=Main_df)"
      ],
      "execution_count": 19,
      "outputs": []
    },
    {
      "cell_type": "code",
      "metadata": {
        "colab": {
          "base_uri": "https://localhost:8080/"
        },
        "id": "2A3LBRX1vvyh",
        "outputId": "8672383e-b193-492e-aeb4-4449ddad34ff"
      },
      "source": [
        "Main_df = Main_df[(Main_df['trip_duration']>1) & (Main_df['trip_duration']<720)]\n",
        "print(Main_df)"
      ],
      "execution_count": 20,
      "outputs": [
        {
          "output_type": "stream",
          "text": [
            "         VendorID tpep_pickup_datetime  ... congestion_surcharge  trip_duration\n",
            "0             1.0  2020-03-01 00:31:13  ...                  2.5      30.483333\n",
            "2             1.0  2020-03-01 00:52:18  ...                  2.5       6.966667\n",
            "3             2.0  2020-03-01 00:47:53  ...                  2.5       3.066667\n",
            "4             1.0  2020-03-01 00:43:19  ...                  2.5      15.133333\n",
            "5             1.0  2020-03-01 00:04:43  ...                  2.5      18.566667\n",
            "...           ...                  ...  ...                  ...            ...\n",
            "3007287       NaN  2020-03-31 23:21:00  ...                  2.5      12.000000\n",
            "3007288       NaN  2020-03-31 23:57:00  ...                  2.5      29.000000\n",
            "3007289       NaN  2020-03-31 23:22:01  ...                  2.5      21.850000\n",
            "3007290       NaN  2020-03-31 23:18:53  ...                  2.5      13.466667\n",
            "3007291       NaN  2020-03-31 23:11:00  ...                  0.0      19.000000\n",
            "\n",
            "[2945314 rows x 19 columns]\n"
          ],
          "name": "stdout"
        }
      ]
    },
    {
      "cell_type": "code",
      "metadata": {
        "id": "g_oYkQLXwUEZ"
      },
      "source": [
        "#Boxplot after cleaning\n",
        "sns.boxenplot(y='trip_duration', data=Main_df)"
      ],
      "execution_count": 21,
      "outputs": []
    },
    {
      "cell_type": "code",
      "metadata": {
        "id": "lZUEZwwhwecF"
      },
      "source": [
        "#Dstribution plot for trip duration\n",
        "sns.displot(Main_df, x=\"trip_duration\", kind=\"kde\")"
      ],
      "execution_count": 22,
      "outputs": []
    },
    {
      "cell_type": "code",
      "metadata": {
        "colab": {
          "base_uri": "https://localhost:8080/"
        },
        "id": "CSOYaiFeu0Cg",
        "outputId": "8123ed9e-22f2-41db-b113-bfb2029e5eca"
      },
      "source": [
        "#Cleaning on Speed\n",
        "Main_df['speed'] = 60*(Main_df['trip_distance']/Main_df['trip_duration'])\n",
        "print(Main_df)"
      ],
      "execution_count": 23,
      "outputs": [
        {
          "output_type": "stream",
          "text": [
            "         VendorID tpep_pickup_datetime  ... trip_duration      speed\n",
            "0             1.0  2020-03-01 00:31:13  ...     30.483333   9.250957\n",
            "2             1.0  2020-03-01 00:52:18  ...      6.966667   9.473684\n",
            "3             2.0  2020-03-01 00:47:53  ...      3.066667  17.021739\n",
            "4             1.0  2020-03-01 00:43:19  ...     15.133333  17.444934\n",
            "5             1.0  2020-03-01 00:04:43  ...     18.566667  11.310592\n",
            "...           ...                  ...  ...           ...        ...\n",
            "3007287       NaN  2020-03-31 23:21:00  ...     12.000000  27.150000\n",
            "3007288       NaN  2020-03-31 23:57:00  ...     29.000000  27.331034\n",
            "3007289       NaN  2020-03-31 23:22:01  ...     21.850000  33.336384\n",
            "3007290       NaN  2020-03-31 23:18:53  ...     13.466667  31.232673\n",
            "3007291       NaN  2020-03-31 23:11:00  ...     19.000000  19.926316\n",
            "\n",
            "[2945314 rows x 20 columns]\n"
          ],
          "name": "stdout"
        }
      ]
    },
    {
      "cell_type": "code",
      "metadata": {
        "id": "lzNBM2Grt0D8",
        "colab": {
          "base_uri": "https://localhost:8080/"
        },
        "outputId": "36620ac4-8e15-47b5-dbe8-cf460f14c06a"
      },
      "source": [
        "#Percentiles for speed\n",
        "speed_at_00=Main_df['speed'].quantile(0.00)\n",
        "print(speed_at_00) #speed at 0 percentile\n",
        "\n",
        "speed_at_01=Main_df['speed'].quantile(0.1)\n",
        "print(speed_at_01) #speed at 1 percentile\n",
        "\n",
        "speed_at_09=Main_df['speed'].quantile(0.9)\n",
        "print(speed_at_09) #speed at 90 percentile\n",
        "\n",
        "speed_at_99=Main_df['speed'].quantile(0.99)\n",
        "print(speed_at_99) #speed at 99.0 percentile\n",
        "\n",
        "speed_at_999=Main_df['speed'].quantile(0.999)\n",
        "print(speed_at_999) #speed at 99.9 percentile\n",
        "\n",
        "speed_at_9999=Main_df['speed'].quantile(0.9999)\n",
        "print(speed_at_9999) #speed at 99.99 percentile\n",
        "\n",
        "speed_at_99999=Main_df['speed'].quantile(0.99999)\n",
        "print(speed_at_99999) #speed at 99.999 percentile"
      ],
      "execution_count": 24,
      "outputs": [
        {
          "output_type": "stream",
          "text": [
            "0.0\n",
            "6.171428571428572\n",
            "20.0\n",
            "37.103517680142005\n",
            "47.577801830947536\n",
            "58.57401285254454\n",
            "557.4106857153986\n"
          ],
          "name": "stdout"
        }
      ]
    },
    {
      "cell_type": "code",
      "metadata": {
        "id": "vqsWOljjyPM-"
      },
      "source": [
        "#Boxplot before cleaning\n",
        "sns.boxenplot(y='speed', data=Main_df)"
      ],
      "execution_count": 25,
      "outputs": []
    },
    {
      "cell_type": "code",
      "metadata": {
        "id": "n7FgefcEItfP",
        "colab": {
          "base_uri": "https://localhost:8080/"
        },
        "outputId": "99187485-2904-47e9-f0e0-a6cddbb68be5"
      },
      "source": [
        "Main_df = Main_df[(Main_df['speed']>0) & (Main_df['speed']<56.225679661650766)]\n",
        "print(Main_df)"
      ],
      "execution_count": 26,
      "outputs": [
        {
          "output_type": "stream",
          "text": [
            "         VendorID tpep_pickup_datetime  ... trip_duration      speed\n",
            "0             1.0  2020-03-01 00:31:13  ...     30.483333   9.250957\n",
            "2             1.0  2020-03-01 00:52:18  ...      6.966667   9.473684\n",
            "3             2.0  2020-03-01 00:47:53  ...      3.066667  17.021739\n",
            "4             1.0  2020-03-01 00:43:19  ...     15.133333  17.444934\n",
            "5             1.0  2020-03-01 00:04:43  ...     18.566667  11.310592\n",
            "...           ...                  ...  ...           ...        ...\n",
            "3007287       NaN  2020-03-31 23:21:00  ...     12.000000  27.150000\n",
            "3007288       NaN  2020-03-31 23:57:00  ...     29.000000  27.331034\n",
            "3007289       NaN  2020-03-31 23:22:01  ...     21.850000  33.336384\n",
            "3007290       NaN  2020-03-31 23:18:53  ...     13.466667  31.232673\n",
            "3007291       NaN  2020-03-31 23:11:00  ...     19.000000  19.926316\n",
            "\n",
            "[2933058 rows x 20 columns]\n"
          ],
          "name": "stdout"
        }
      ]
    },
    {
      "cell_type": "code",
      "metadata": {
        "id": "GFFJLoXl0pr5"
      },
      "source": [
        "#Boxplot after cleaning\n",
        "sns.boxenplot(y='speed', data=Main_df)"
      ],
      "execution_count": 27,
      "outputs": []
    },
    {
      "cell_type": "code",
      "metadata": {
        "id": "nrQk_EDP00GO"
      },
      "source": [
        "#Cleaning on total amount\n",
        "#Before cleaning on total amount\n",
        "sns.boxenplot(y='total_amount', data=Main_df)"
      ],
      "execution_count": 28,
      "outputs": []
    },
    {
      "cell_type": "code",
      "metadata": {
        "id": "OV_TzlBP1_y9",
        "colab": {
          "base_uri": "https://localhost:8080/"
        },
        "outputId": "cd73c6d9-e21c-43e0-87dc-d74c748cfde0"
      },
      "source": [
        "#Percentiles for Total amount\n",
        "ta_at_00=Main_df['total_amount'].quantile(0.00)\n",
        "print(ta_at_00) #total_amount at 0 percentile\n",
        "\n",
        "ta_at_09=Main_df['total_amount'].quantile(0.9)\n",
        "print(ta_at_09) #total_amount at 90 percentile\n",
        "\n",
        "ta_at_99=Main_df['total_amount'].quantile(0.99)\n",
        "print(ta_at_99) #total_amount at 99.0 percentile\n",
        "\n",
        "ta_at_999=Main_df['total_amount'].quantile(0.999)\n",
        "print(ta_at_999) #total_amount at 99.9 percentile\n",
        "\n",
        "ta_at_9999=Main_df['total_amount'].quantile(0.9999)\n",
        "print(ta_at_9999) #total_amount at 99.99 percentile\n",
        "\n",
        "ta_at_999999=Main_df['total_amount'].quantile(0.999999)\n",
        "print(ta_at_999999) #total_amount at 99.9999 percentile\n",
        "\n",
        "ta_at_9999999=Main_df['total_amount'].quantile(0.9999999)\n",
        "print(ta_at_9999999) #total_amount at 99.99999 percentile\n",
        "\n",
        "ta_at_100=Main_df['total_amount'].quantile(1)\n",
        "print(ta_at_100) #total_amount at 100 percentile"
      ],
      "execution_count": 29,
      "outputs": [
        {
          "output_type": "stream",
          "text": [
            "-502.02\n",
            "30.29\n",
            "73.67\n",
            "97.73829000001308\n",
            "138.33471499998123\n",
            "634.0644703713152\n",
            "474505.67711435794\n",
            "671103.17\n"
          ],
          "name": "stdout"
        }
      ]
    },
    {
      "cell_type": "code",
      "metadata": {
        "id": "pTb3Y7qC6cyx",
        "colab": {
          "base_uri": "https://localhost:8080/"
        },
        "outputId": "e1c2266e-e205-4e0f-83d1-6fa51830a220"
      },
      "source": [
        "Main_df = Main_df[(Main_df['total_amount']>0) & (Main_df['total_amount']<= 585.2633575955033)]\n",
        "print(Main_df)"
      ],
      "execution_count": 30,
      "outputs": [
        {
          "output_type": "stream",
          "text": [
            "         VendorID tpep_pickup_datetime  ... trip_duration      speed\n",
            "0             1.0  2020-03-01 00:31:13  ...     30.483333   9.250957\n",
            "2             1.0  2020-03-01 00:52:18  ...      6.966667   9.473684\n",
            "3             2.0  2020-03-01 00:47:53  ...      3.066667  17.021739\n",
            "4             1.0  2020-03-01 00:43:19  ...     15.133333  17.444934\n",
            "5             1.0  2020-03-01 00:04:43  ...     18.566667  11.310592\n",
            "...           ...                  ...  ...           ...        ...\n",
            "3007287       NaN  2020-03-31 23:21:00  ...     12.000000  27.150000\n",
            "3007288       NaN  2020-03-31 23:57:00  ...     29.000000  27.331034\n",
            "3007289       NaN  2020-03-31 23:22:01  ...     21.850000  33.336384\n",
            "3007290       NaN  2020-03-31 23:18:53  ...     13.466667  31.232673\n",
            "3007291       NaN  2020-03-31 23:11:00  ...     19.000000  19.926316\n",
            "\n",
            "[2924175 rows x 20 columns]\n"
          ],
          "name": "stdout"
        }
      ]
    },
    {
      "cell_type": "code",
      "metadata": {
        "id": "N7rgP6-r7eUs"
      },
      "source": [
        "#After cleaning on total amount\n",
        "sns.boxenplot(y='total_amount', data=Main_df)"
      ],
      "execution_count": 31,
      "outputs": []
    },
    {
      "cell_type": "code",
      "metadata": {
        "id": "zxGzH0jr74YB"
      },
      "source": [
        "#Cleaning on Distance\n",
        "#Before cleaning \n",
        "sns.boxenplot(y='trip_distance', data=Main_df)"
      ],
      "execution_count": 32,
      "outputs": []
    },
    {
      "cell_type": "code",
      "metadata": {
        "id": "Dcwfw7e-80Qm",
        "colab": {
          "base_uri": "https://localhost:8080/"
        },
        "outputId": "f72c5703-75be-4f49-a56b-0333ad49686b"
      },
      "source": [
        "#Percentiles for Total amount\n",
        "td_at_00=Main_df['trip_distance'].quantile(0.00)\n",
        "print(td_at_00) #trip_distance at 0 percentile\n",
        "\n",
        "td_at_09=Main_df['trip_distance'].quantile(0.9)\n",
        "print(td_at_09) #trip_distance at 90 percentile\n",
        "\n",
        "td_at_99=Main_df['trip_distance'].quantile(0.99)\n",
        "print(td_at_99) #trip_distance at 99.0 percentile\n",
        "\n",
        "td_at_999=Main_df['trip_distance'].quantile(0.999)\n",
        "print(td_at_999) #trip_distance at 99.9 percentile\n",
        "\n",
        "td_at_9999=Main_df['trip_distance'].quantile(0.9999)\n",
        "print(td_at_9999) #trip_distance at 99.99 percentile\n",
        "\n",
        "td_at_999999=Main_df['trip_distance'].quantile(0.999999)\n",
        "print(td_at_999999) #trip_distance at 99.9999 percentile\n",
        "\n",
        "td_at_9999999=Main_df['trip_distance'].quantile(0.9999999)\n",
        "print(td_at_9999999) #trip_distance at 99.99999 percentile\n",
        "\n",
        "td_at_100=Main_df['trip_distance'].quantile(1)\n",
        "print(td_at_100) #trip_distance at 100 percentile"
      ],
      "execution_count": 33,
      "outputs": [
        {
          "output_type": "stream",
          "text": [
            "0.01\n",
            "6.44\n",
            "18.71\n",
            "25.0682600000035\n",
            "35.28747799999546\n",
            "101.89857379994355\n",
            "149.92492512464523\n",
            "153.2\n"
          ],
          "name": "stdout"
        }
      ]
    },
    {
      "cell_type": "code",
      "metadata": {
        "id": "o6g9rTkc-DXk",
        "colab": {
          "base_uri": "https://localhost:8080/"
        },
        "outputId": "64e36ad0-b594-4b5c-f68a-ddf66b99e0b7"
      },
      "source": [
        "Main_df = Main_df[(Main_df['trip_distance']>0) & (Main_df['trip_distance']<= 33.2935949999839)]\n",
        "print(Main_df)"
      ],
      "execution_count": 34,
      "outputs": [
        {
          "output_type": "stream",
          "text": [
            "         VendorID tpep_pickup_datetime  ... trip_duration      speed\n",
            "0             1.0  2020-03-01 00:31:13  ...     30.483333   9.250957\n",
            "2             1.0  2020-03-01 00:52:18  ...      6.966667   9.473684\n",
            "3             2.0  2020-03-01 00:47:53  ...      3.066667  17.021739\n",
            "4             1.0  2020-03-01 00:43:19  ...     15.133333  17.444934\n",
            "5             1.0  2020-03-01 00:04:43  ...     18.566667  11.310592\n",
            "...           ...                  ...  ...           ...        ...\n",
            "3007287       NaN  2020-03-31 23:21:00  ...     12.000000  27.150000\n",
            "3007288       NaN  2020-03-31 23:57:00  ...     29.000000  27.331034\n",
            "3007289       NaN  2020-03-31 23:22:01  ...     21.850000  33.336384\n",
            "3007290       NaN  2020-03-31 23:18:53  ...     13.466667  31.232673\n",
            "3007291       NaN  2020-03-31 23:11:00  ...     19.000000  19.926316\n",
            "\n",
            "[2923798 rows x 20 columns]\n"
          ],
          "name": "stdout"
        }
      ]
    },
    {
      "cell_type": "code",
      "metadata": {
        "id": "NjBfu0ai-ZXK"
      },
      "source": [
        "#After cleaning on trip_distance\n",
        "sns.boxenplot(y='trip_distance', data=Main_df)"
      ],
      "execution_count": 35,
      "outputs": []
    },
    {
      "cell_type": "code",
      "metadata": {
        "cellView": "both",
        "id": "BDQRYz4S-tcS",
        "colab": {
          "base_uri": "https://localhost:8080/"
        },
        "outputId": "f346352b-1d1e-4e0e-8c7f-aef0e20f18bd"
      },
      "source": [
        "\n",
        "average_speed = sum(Main_df['speed'])/float(len(Main_df['speed']))\n",
        "print(average_speed)\n",
        "\n",
        "#11.691415935750623 is covered in 1 Hours, so approx 3 miles will be covered in 15 minutes."
      ],
      "execution_count": 36,
      "outputs": [
        {
          "output_type": "stream",
          "text": [
            "12.132872725232353\n"
          ],
          "name": "stdout"
        }
      ]
    },
    {
      "cell_type": "code",
      "metadata": {
        "id": "E6cWysfV8OfX"
      },
      "source": [
        "import pandas as pd\n",
        "from geopy.exc import GeocoderTimedOut \n",
        "from geopy.geocoders import Nominatim "
      ],
      "execution_count": 37,
      "outputs": []
    },
    {
      "cell_type": "code",
      "metadata": {
        "id": "vdUlmZYp8jRn",
        "colab": {
          "base_uri": "https://localhost:8080/",
          "height": 402
        },
        "outputId": "30f14a3d-c1a3-45ff-e460-c3be2bcf4574"
      },
      "source": [
        "df = pd.read_csv(LookUpPath)\n",
        "LookUp_df = df[0:263]\n",
        "LookUp_df"
      ],
      "execution_count": 38,
      "outputs": [
        {
          "output_type": "execute_result",
          "data": {
            "text/html": [
              "<div>\n",
              "<style scoped>\n",
              "    .dataframe tbody tr th:only-of-type {\n",
              "        vertical-align: middle;\n",
              "    }\n",
              "\n",
              "    .dataframe tbody tr th {\n",
              "        vertical-align: top;\n",
              "    }\n",
              "\n",
              "    .dataframe thead th {\n",
              "        text-align: right;\n",
              "    }\n",
              "</style>\n",
              "<table border=\"1\" class=\"dataframe\">\n",
              "  <thead>\n",
              "    <tr style=\"text-align: right;\">\n",
              "      <th></th>\n",
              "      <th>LocationID</th>\n",
              "      <th>Borough</th>\n",
              "      <th>Zone</th>\n",
              "      <th>service_zone</th>\n",
              "    </tr>\n",
              "  </thead>\n",
              "  <tbody>\n",
              "    <tr>\n",
              "      <th>0</th>\n",
              "      <td>1</td>\n",
              "      <td>EWR</td>\n",
              "      <td>Newark Airport</td>\n",
              "      <td>EWR</td>\n",
              "    </tr>\n",
              "    <tr>\n",
              "      <th>1</th>\n",
              "      <td>2</td>\n",
              "      <td>Queens</td>\n",
              "      <td>Jamaica Bay</td>\n",
              "      <td>Boro Zone</td>\n",
              "    </tr>\n",
              "    <tr>\n",
              "      <th>2</th>\n",
              "      <td>3</td>\n",
              "      <td>Bronx</td>\n",
              "      <td>Allerton/Pelham Gardens</td>\n",
              "      <td>Boro Zone</td>\n",
              "    </tr>\n",
              "    <tr>\n",
              "      <th>3</th>\n",
              "      <td>4</td>\n",
              "      <td>Manhattan</td>\n",
              "      <td>Alphabet City</td>\n",
              "      <td>Yellow Zone</td>\n",
              "    </tr>\n",
              "    <tr>\n",
              "      <th>4</th>\n",
              "      <td>5</td>\n",
              "      <td>Staten Island</td>\n",
              "      <td>Arden Heights</td>\n",
              "      <td>Boro Zone</td>\n",
              "    </tr>\n",
              "    <tr>\n",
              "      <th>...</th>\n",
              "      <td>...</td>\n",
              "      <td>...</td>\n",
              "      <td>...</td>\n",
              "      <td>...</td>\n",
              "    </tr>\n",
              "    <tr>\n",
              "      <th>258</th>\n",
              "      <td>259</td>\n",
              "      <td>Bronx</td>\n",
              "      <td>Woodlawn/Wakefield</td>\n",
              "      <td>Boro Zone</td>\n",
              "    </tr>\n",
              "    <tr>\n",
              "      <th>259</th>\n",
              "      <td>260</td>\n",
              "      <td>Queens</td>\n",
              "      <td>Woodside</td>\n",
              "      <td>Boro Zone</td>\n",
              "    </tr>\n",
              "    <tr>\n",
              "      <th>260</th>\n",
              "      <td>261</td>\n",
              "      <td>Manhattan</td>\n",
              "      <td>World Trade Center</td>\n",
              "      <td>Yellow Zone</td>\n",
              "    </tr>\n",
              "    <tr>\n",
              "      <th>261</th>\n",
              "      <td>262</td>\n",
              "      <td>Manhattan</td>\n",
              "      <td>Yorkville East</td>\n",
              "      <td>Yellow Zone</td>\n",
              "    </tr>\n",
              "    <tr>\n",
              "      <th>262</th>\n",
              "      <td>263</td>\n",
              "      <td>Manhattan</td>\n",
              "      <td>Yorkville West</td>\n",
              "      <td>Yellow Zone</td>\n",
              "    </tr>\n",
              "  </tbody>\n",
              "</table>\n",
              "<p>263 rows × 4 columns</p>\n",
              "</div>"
            ],
            "text/plain": [
              "     LocationID        Borough                     Zone service_zone\n",
              "0             1            EWR           Newark Airport          EWR\n",
              "1             2         Queens              Jamaica Bay    Boro Zone\n",
              "2             3          Bronx  Allerton/Pelham Gardens    Boro Zone\n",
              "3             4      Manhattan            Alphabet City  Yellow Zone\n",
              "4             5  Staten Island            Arden Heights    Boro Zone\n",
              "..          ...            ...                      ...          ...\n",
              "258         259          Bronx       Woodlawn/Wakefield    Boro Zone\n",
              "259         260         Queens                 Woodside    Boro Zone\n",
              "260         261      Manhattan       World Trade Center  Yellow Zone\n",
              "261         262      Manhattan           Yorkville East  Yellow Zone\n",
              "262         263      Manhattan           Yorkville West  Yellow Zone\n",
              "\n",
              "[263 rows x 4 columns]"
            ]
          },
          "metadata": {
            "tags": []
          },
          "execution_count": 38
        }
      ]
    },
    {
      "cell_type": "code",
      "metadata": {
        "id": "klOKLe9ZysfG",
        "colab": {
          "base_uri": "https://localhost:8080/"
        },
        "outputId": "b6395342-b459-414b-df9b-7d81e72b0000"
      },
      "source": [
        "Zone_list = []\n",
        "zone_split_list = LookUp_df['Zone'].str.split(pat = \"/\")\n",
        "for i in range(len(zone_split_list)):\n",
        "  if(len(zone_split_list[i])>1):\n",
        "    Zone_list.append(zone_split_list[i][0])\n",
        "\n",
        "  else:\n",
        "    Zone_list.append(zone_split_list[i][0])\n",
        "  \n",
        "len(Zone_list)"
      ],
      "execution_count": 39,
      "outputs": [
        {
          "output_type": "execute_result",
          "data": {
            "text/plain": [
              "263"
            ]
          },
          "metadata": {
            "tags": []
          },
          "execution_count": 39
        }
      ]
    },
    {
      "cell_type": "code",
      "metadata": {
        "id": "Ek3rWcX-CYWY",
        "colab": {
          "base_uri": "https://localhost:8080/"
        },
        "outputId": "34e53658-3ada-445e-857d-4dd45461dd31"
      },
      "source": [
        "LookUp_df['Zone_unique'] = Zone_list"
      ],
      "execution_count": 40,
      "outputs": [
        {
          "output_type": "stream",
          "text": [
            "/usr/local/lib/python3.6/dist-packages/ipykernel_launcher.py:1: SettingWithCopyWarning: \n",
            "A value is trying to be set on a copy of a slice from a DataFrame.\n",
            "Try using .loc[row_indexer,col_indexer] = value instead\n",
            "\n",
            "See the caveats in the documentation: https://pandas.pydata.org/pandas-docs/stable/user_guide/indexing.html#returning-a-view-versus-a-copy\n",
            "  \"\"\"Entry point for launching an IPython kernel.\n"
          ],
          "name": "stderr"
        }
      ]
    },
    {
      "cell_type": "code",
      "metadata": {
        "id": "pKXM2SqEChfq"
      },
      "source": [
        "LookUp_df = LookUp_df.drop(['Zone'], axis=1)"
      ],
      "execution_count": 41,
      "outputs": []
    },
    {
      "cell_type": "code",
      "metadata": {
        "id": "f8ncy5-j829q"
      },
      "source": [
        "Latitude = []\n",
        "Longitude = []\n",
        "geolocator = Nominatim(user_agent=\"Machine Learning Project\", timeout = 10)\n",
        "for str in LookUp_df['Zone_unique']:\n",
        "  if geolocator.geocode(str)!= None:\n",
        "    Latitude.append(geolocator.geocode(str).latitude)\n",
        "    Longitude.append(geolocator.geocode(str).longitude)\n",
        "\n",
        "  else:\n",
        "    Latitude.append(np.nan) \n",
        "    Longitude.append(np.nan) "
      ],
      "execution_count": 42,
      "outputs": []
    },
    {
      "cell_type": "code",
      "metadata": {
        "id": "SujAQlHu8-nn",
        "colab": {
          "base_uri": "https://localhost:8080/"
        },
        "outputId": "f95f136e-f471-47f1-d5d4-72b55fea717d"
      },
      "source": [
        "LookUp_df['Latitude'] = Latitude\n",
        "LookUp_df['Longitude'] = Longitude\n",
        "print(LookUp_df.iloc[255]['Zone_unique'])\n",
        "str=\"Williamsburg\"\n",
        "print(geolocator.geocode(str).latitude)\n",
        "geolocator.geocode(str).longitude"
      ],
      "execution_count": 43,
      "outputs": [
        {
          "output_type": "stream",
          "text": [
            "Williamsburg (South Side)\n",
            "37.27892105\n"
          ],
          "name": "stdout"
        },
        {
          "output_type": "execute_result",
          "data": {
            "text/plain": [
              "-76.69448606443117"
            ]
          },
          "metadata": {
            "tags": []
          },
          "execution_count": 43
        }
      ]
    },
    {
      "cell_type": "code",
      "metadata": {
        "id": "f0Sv1NUPlzXe",
        "colab": {
          "base_uri": "https://localhost:8080/",
          "height": 402
        },
        "outputId": "eaeb4100-c5d9-40d4-ba3a-d824773f5058"
      },
      "source": [
        "LookUp_df"
      ],
      "execution_count": 44,
      "outputs": [
        {
          "output_type": "execute_result",
          "data": {
            "text/html": [
              "<div>\n",
              "<style scoped>\n",
              "    .dataframe tbody tr th:only-of-type {\n",
              "        vertical-align: middle;\n",
              "    }\n",
              "\n",
              "    .dataframe tbody tr th {\n",
              "        vertical-align: top;\n",
              "    }\n",
              "\n",
              "    .dataframe thead th {\n",
              "        text-align: right;\n",
              "    }\n",
              "</style>\n",
              "<table border=\"1\" class=\"dataframe\">\n",
              "  <thead>\n",
              "    <tr style=\"text-align: right;\">\n",
              "      <th></th>\n",
              "      <th>LocationID</th>\n",
              "      <th>Borough</th>\n",
              "      <th>service_zone</th>\n",
              "      <th>Zone_unique</th>\n",
              "      <th>Latitude</th>\n",
              "      <th>Longitude</th>\n",
              "    </tr>\n",
              "  </thead>\n",
              "  <tbody>\n",
              "    <tr>\n",
              "      <th>0</th>\n",
              "      <td>1</td>\n",
              "      <td>EWR</td>\n",
              "      <td>EWR</td>\n",
              "      <td>Newark Airport</td>\n",
              "      <td>40.689064</td>\n",
              "      <td>-74.177255</td>\n",
              "    </tr>\n",
              "    <tr>\n",
              "      <th>1</th>\n",
              "      <td>2</td>\n",
              "      <td>Queens</td>\n",
              "      <td>Boro Zone</td>\n",
              "      <td>Jamaica Bay</td>\n",
              "      <td>40.603994</td>\n",
              "      <td>-73.835412</td>\n",
              "    </tr>\n",
              "    <tr>\n",
              "      <th>2</th>\n",
              "      <td>3</td>\n",
              "      <td>Bronx</td>\n",
              "      <td>Boro Zone</td>\n",
              "      <td>Allerton</td>\n",
              "      <td>39.915319</td>\n",
              "      <td>-87.933215</td>\n",
              "    </tr>\n",
              "    <tr>\n",
              "      <th>3</th>\n",
              "      <td>4</td>\n",
              "      <td>Manhattan</td>\n",
              "      <td>Yellow Zone</td>\n",
              "      <td>Alphabet City</td>\n",
              "      <td>40.725102</td>\n",
              "      <td>-73.979583</td>\n",
              "    </tr>\n",
              "    <tr>\n",
              "      <th>4</th>\n",
              "      <td>5</td>\n",
              "      <td>Staten Island</td>\n",
              "      <td>Boro Zone</td>\n",
              "      <td>Arden Heights</td>\n",
              "      <td>53.284833</td>\n",
              "      <td>-7.493904</td>\n",
              "    </tr>\n",
              "    <tr>\n",
              "      <th>...</th>\n",
              "      <td>...</td>\n",
              "      <td>...</td>\n",
              "      <td>...</td>\n",
              "      <td>...</td>\n",
              "      <td>...</td>\n",
              "      <td>...</td>\n",
              "    </tr>\n",
              "    <tr>\n",
              "      <th>258</th>\n",
              "      <td>259</td>\n",
              "      <td>Bronx</td>\n",
              "      <td>Boro Zone</td>\n",
              "      <td>Woodlawn</td>\n",
              "      <td>38.330050</td>\n",
              "      <td>-89.032569</td>\n",
              "    </tr>\n",
              "    <tr>\n",
              "      <th>259</th>\n",
              "      <td>260</td>\n",
              "      <td>Queens</td>\n",
              "      <td>Boro Zone</td>\n",
              "      <td>Woodside</td>\n",
              "      <td>37.429939</td>\n",
              "      <td>-122.253856</td>\n",
              "    </tr>\n",
              "    <tr>\n",
              "      <th>260</th>\n",
              "      <td>261</td>\n",
              "      <td>Manhattan</td>\n",
              "      <td>Yellow Zone</td>\n",
              "      <td>World Trade Center</td>\n",
              "      <td>40.711888</td>\n",
              "      <td>-74.012441</td>\n",
              "    </tr>\n",
              "    <tr>\n",
              "      <th>261</th>\n",
              "      <td>262</td>\n",
              "      <td>Manhattan</td>\n",
              "      <td>Yellow Zone</td>\n",
              "      <td>Yorkville East</td>\n",
              "      <td>40.778007</td>\n",
              "      <td>-73.948202</td>\n",
              "    </tr>\n",
              "    <tr>\n",
              "      <th>262</th>\n",
              "      <td>263</td>\n",
              "      <td>Manhattan</td>\n",
              "      <td>Yellow Zone</td>\n",
              "      <td>Yorkville West</td>\n",
              "      <td>40.778007</td>\n",
              "      <td>-73.948202</td>\n",
              "    </tr>\n",
              "  </tbody>\n",
              "</table>\n",
              "<p>263 rows × 6 columns</p>\n",
              "</div>"
            ],
            "text/plain": [
              "     LocationID        Borough  ...   Latitude   Longitude\n",
              "0             1            EWR  ...  40.689064  -74.177255\n",
              "1             2         Queens  ...  40.603994  -73.835412\n",
              "2             3          Bronx  ...  39.915319  -87.933215\n",
              "3             4      Manhattan  ...  40.725102  -73.979583\n",
              "4             5  Staten Island  ...  53.284833   -7.493904\n",
              "..          ...            ...  ...        ...         ...\n",
              "258         259          Bronx  ...  38.330050  -89.032569\n",
              "259         260         Queens  ...  37.429939 -122.253856\n",
              "260         261      Manhattan  ...  40.711888  -74.012441\n",
              "261         262      Manhattan  ...  40.778007  -73.948202\n",
              "262         263      Manhattan  ...  40.778007  -73.948202\n",
              "\n",
              "[263 rows x 6 columns]"
            ]
          },
          "metadata": {
            "tags": []
          },
          "execution_count": 44
        }
      ]
    },
    {
      "cell_type": "code",
      "metadata": {
        "id": "jKgotj--zFs_",
        "colab": {
          "base_uri": "https://localhost:8080/"
        },
        "outputId": "871a5a71-e7d5-4fdf-e0e8-84982893a320"
      },
      "source": [
        "len(LookUp_df['Zone_unique'].unique())"
      ],
      "execution_count": 45,
      "outputs": [
        {
          "output_type": "execute_result",
          "data": {
            "text/plain": [
              "254"
            ]
          },
          "metadata": {
            "tags": []
          },
          "execution_count": 45
        }
      ]
    },
    {
      "cell_type": "code",
      "metadata": {
        "id": "H4oNTUW7Jvr-"
      },
      "source": [
        "LookUp_df.loc[255, 'Latitude'] = 37.27892105\n",
        "LookUp_df.loc[255, 'Longitude'] = -76.69448606443117"
      ],
      "execution_count": 46,
      "outputs": []
    },
    {
      "cell_type": "code",
      "metadata": {
        "id": "o5E3EWYVJhzr",
        "colab": {
          "base_uri": "https://localhost:8080/",
          "height": 639
        },
        "outputId": "046d0884-cb22-43e6-991c-5ce6f7aeeaa5"
      },
      "source": [
        "LookUp_df[240:260]"
      ],
      "execution_count": 47,
      "outputs": [
        {
          "output_type": "execute_result",
          "data": {
            "text/html": [
              "<div>\n",
              "<style scoped>\n",
              "    .dataframe tbody tr th:only-of-type {\n",
              "        vertical-align: middle;\n",
              "    }\n",
              "\n",
              "    .dataframe tbody tr th {\n",
              "        vertical-align: top;\n",
              "    }\n",
              "\n",
              "    .dataframe thead th {\n",
              "        text-align: right;\n",
              "    }\n",
              "</style>\n",
              "<table border=\"1\" class=\"dataframe\">\n",
              "  <thead>\n",
              "    <tr style=\"text-align: right;\">\n",
              "      <th></th>\n",
              "      <th>LocationID</th>\n",
              "      <th>Borough</th>\n",
              "      <th>service_zone</th>\n",
              "      <th>Zone_unique</th>\n",
              "      <th>Latitude</th>\n",
              "      <th>Longitude</th>\n",
              "    </tr>\n",
              "  </thead>\n",
              "  <tbody>\n",
              "    <tr>\n",
              "      <th>240</th>\n",
              "      <td>241</td>\n",
              "      <td>Bronx</td>\n",
              "      <td>Boro Zone</td>\n",
              "      <td>Van Cortlandt Village</td>\n",
              "      <td>41.248694</td>\n",
              "      <td>-73.908586</td>\n",
              "    </tr>\n",
              "    <tr>\n",
              "      <th>241</th>\n",
              "      <td>242</td>\n",
              "      <td>Bronx</td>\n",
              "      <td>Boro Zone</td>\n",
              "      <td>Van Nest</td>\n",
              "      <td>40.848434</td>\n",
              "      <td>-73.863746</td>\n",
              "    </tr>\n",
              "    <tr>\n",
              "      <th>242</th>\n",
              "      <td>243</td>\n",
              "      <td>Manhattan</td>\n",
              "      <td>Boro Zone</td>\n",
              "      <td>Washington Heights North</td>\n",
              "      <td>40.840198</td>\n",
              "      <td>-73.940221</td>\n",
              "    </tr>\n",
              "    <tr>\n",
              "      <th>243</th>\n",
              "      <td>244</td>\n",
              "      <td>Manhattan</td>\n",
              "      <td>Boro Zone</td>\n",
              "      <td>Washington Heights South</td>\n",
              "      <td>40.883325</td>\n",
              "      <td>-72.515328</td>\n",
              "    </tr>\n",
              "    <tr>\n",
              "      <th>244</th>\n",
              "      <td>245</td>\n",
              "      <td>Staten Island</td>\n",
              "      <td>Boro Zone</td>\n",
              "      <td>West Brighton</td>\n",
              "      <td>40.578087</td>\n",
              "      <td>-73.974925</td>\n",
              "    </tr>\n",
              "    <tr>\n",
              "      <th>245</th>\n",
              "      <td>246</td>\n",
              "      <td>Manhattan</td>\n",
              "      <td>Yellow Zone</td>\n",
              "      <td>West Chelsea</td>\n",
              "      <td>37.915937</td>\n",
              "      <td>-96.785860</td>\n",
              "    </tr>\n",
              "    <tr>\n",
              "      <th>246</th>\n",
              "      <td>247</td>\n",
              "      <td>Bronx</td>\n",
              "      <td>Boro Zone</td>\n",
              "      <td>West Concourse</td>\n",
              "      <td>40.190987</td>\n",
              "      <td>-74.029083</td>\n",
              "    </tr>\n",
              "    <tr>\n",
              "      <th>247</th>\n",
              "      <td>248</td>\n",
              "      <td>Bronx</td>\n",
              "      <td>Boro Zone</td>\n",
              "      <td>West Farms</td>\n",
              "      <td>40.192057</td>\n",
              "      <td>-74.201255</td>\n",
              "    </tr>\n",
              "    <tr>\n",
              "      <th>248</th>\n",
              "      <td>249</td>\n",
              "      <td>Manhattan</td>\n",
              "      <td>Yellow Zone</td>\n",
              "      <td>West Village</td>\n",
              "      <td>40.734186</td>\n",
              "      <td>-74.005580</td>\n",
              "    </tr>\n",
              "    <tr>\n",
              "      <th>249</th>\n",
              "      <td>250</td>\n",
              "      <td>Bronx</td>\n",
              "      <td>Boro Zone</td>\n",
              "      <td>Westchester Village</td>\n",
              "      <td>42.539702</td>\n",
              "      <td>-83.255017</td>\n",
              "    </tr>\n",
              "    <tr>\n",
              "      <th>250</th>\n",
              "      <td>251</td>\n",
              "      <td>Staten Island</td>\n",
              "      <td>Boro Zone</td>\n",
              "      <td>Westerleigh</td>\n",
              "      <td>51.516541</td>\n",
              "      <td>-2.434635</td>\n",
              "    </tr>\n",
              "    <tr>\n",
              "      <th>251</th>\n",
              "      <td>252</td>\n",
              "      <td>Queens</td>\n",
              "      <td>Boro Zone</td>\n",
              "      <td>Whitestone</td>\n",
              "      <td>40.794546</td>\n",
              "      <td>-73.818467</td>\n",
              "    </tr>\n",
              "    <tr>\n",
              "      <th>252</th>\n",
              "      <td>253</td>\n",
              "      <td>Queens</td>\n",
              "      <td>Boro Zone</td>\n",
              "      <td>Willets Point</td>\n",
              "      <td>40.796708</td>\n",
              "      <td>-73.779396</td>\n",
              "    </tr>\n",
              "    <tr>\n",
              "      <th>253</th>\n",
              "      <td>254</td>\n",
              "      <td>Bronx</td>\n",
              "      <td>Boro Zone</td>\n",
              "      <td>Williamsbridge</td>\n",
              "      <td>40.877624</td>\n",
              "      <td>-73.877520</td>\n",
              "    </tr>\n",
              "    <tr>\n",
              "      <th>254</th>\n",
              "      <td>255</td>\n",
              "      <td>Brooklyn</td>\n",
              "      <td>Boro Zone</td>\n",
              "      <td>Williamsburg (North Side)</td>\n",
              "      <td>40.714622</td>\n",
              "      <td>-73.953450</td>\n",
              "    </tr>\n",
              "    <tr>\n",
              "      <th>255</th>\n",
              "      <td>256</td>\n",
              "      <td>Brooklyn</td>\n",
              "      <td>Boro Zone</td>\n",
              "      <td>Williamsburg (South Side)</td>\n",
              "      <td>37.278921</td>\n",
              "      <td>-76.694486</td>\n",
              "    </tr>\n",
              "    <tr>\n",
              "      <th>256</th>\n",
              "      <td>257</td>\n",
              "      <td>Brooklyn</td>\n",
              "      <td>Boro Zone</td>\n",
              "      <td>Windsor Terrace</td>\n",
              "      <td>40.655785</td>\n",
              "      <td>-73.976544</td>\n",
              "    </tr>\n",
              "    <tr>\n",
              "      <th>257</th>\n",
              "      <td>258</td>\n",
              "      <td>Queens</td>\n",
              "      <td>Boro Zone</td>\n",
              "      <td>Woodhaven</td>\n",
              "      <td>42.137052</td>\n",
              "      <td>-83.245107</td>\n",
              "    </tr>\n",
              "    <tr>\n",
              "      <th>258</th>\n",
              "      <td>259</td>\n",
              "      <td>Bronx</td>\n",
              "      <td>Boro Zone</td>\n",
              "      <td>Woodlawn</td>\n",
              "      <td>38.330050</td>\n",
              "      <td>-89.032569</td>\n",
              "    </tr>\n",
              "    <tr>\n",
              "      <th>259</th>\n",
              "      <td>260</td>\n",
              "      <td>Queens</td>\n",
              "      <td>Boro Zone</td>\n",
              "      <td>Woodside</td>\n",
              "      <td>37.429939</td>\n",
              "      <td>-122.253856</td>\n",
              "    </tr>\n",
              "  </tbody>\n",
              "</table>\n",
              "</div>"
            ],
            "text/plain": [
              "     LocationID        Borough  ...   Latitude   Longitude\n",
              "240         241          Bronx  ...  41.248694  -73.908586\n",
              "241         242          Bronx  ...  40.848434  -73.863746\n",
              "242         243      Manhattan  ...  40.840198  -73.940221\n",
              "243         244      Manhattan  ...  40.883325  -72.515328\n",
              "244         245  Staten Island  ...  40.578087  -73.974925\n",
              "245         246      Manhattan  ...  37.915937  -96.785860\n",
              "246         247          Bronx  ...  40.190987  -74.029083\n",
              "247         248          Bronx  ...  40.192057  -74.201255\n",
              "248         249      Manhattan  ...  40.734186  -74.005580\n",
              "249         250          Bronx  ...  42.539702  -83.255017\n",
              "250         251  Staten Island  ...  51.516541   -2.434635\n",
              "251         252         Queens  ...  40.794546  -73.818467\n",
              "252         253         Queens  ...  40.796708  -73.779396\n",
              "253         254          Bronx  ...  40.877624  -73.877520\n",
              "254         255       Brooklyn  ...  40.714622  -73.953450\n",
              "255         256       Brooklyn  ...  37.278921  -76.694486\n",
              "256         257       Brooklyn  ...  40.655785  -73.976544\n",
              "257         258         Queens  ...  42.137052  -83.245107\n",
              "258         259          Bronx  ...  38.330050  -89.032569\n",
              "259         260         Queens  ...  37.429939 -122.253856\n",
              "\n",
              "[20 rows x 6 columns]"
            ]
          },
          "metadata": {
            "tags": []
          },
          "execution_count": 47
        }
      ]
    },
    {
      "cell_type": "code",
      "metadata": {
        "id": "30u8-_Fev7Z0",
        "colab": {
          "base_uri": "https://localhost:8080/",
          "height": 639
        },
        "outputId": "7ec6a034-7b1a-458b-b72f-64ff9b8f01a8"
      },
      "source": [
        "LookUp_df_PULocation = LookUp_df.rename(columns={'LocationID': 'PULocationID'})\n",
        "LookUp_df_PULocation = LookUp_df_PULocation.drop(['Borough', 'Zone_unique', 'service_zone'], axis=1)\n",
        "LookUp_df_PULocation[240:260]"
      ],
      "execution_count": 48,
      "outputs": [
        {
          "output_type": "execute_result",
          "data": {
            "text/html": [
              "<div>\n",
              "<style scoped>\n",
              "    .dataframe tbody tr th:only-of-type {\n",
              "        vertical-align: middle;\n",
              "    }\n",
              "\n",
              "    .dataframe tbody tr th {\n",
              "        vertical-align: top;\n",
              "    }\n",
              "\n",
              "    .dataframe thead th {\n",
              "        text-align: right;\n",
              "    }\n",
              "</style>\n",
              "<table border=\"1\" class=\"dataframe\">\n",
              "  <thead>\n",
              "    <tr style=\"text-align: right;\">\n",
              "      <th></th>\n",
              "      <th>PULocationID</th>\n",
              "      <th>Latitude</th>\n",
              "      <th>Longitude</th>\n",
              "    </tr>\n",
              "  </thead>\n",
              "  <tbody>\n",
              "    <tr>\n",
              "      <th>240</th>\n",
              "      <td>241</td>\n",
              "      <td>41.248694</td>\n",
              "      <td>-73.908586</td>\n",
              "    </tr>\n",
              "    <tr>\n",
              "      <th>241</th>\n",
              "      <td>242</td>\n",
              "      <td>40.848434</td>\n",
              "      <td>-73.863746</td>\n",
              "    </tr>\n",
              "    <tr>\n",
              "      <th>242</th>\n",
              "      <td>243</td>\n",
              "      <td>40.840198</td>\n",
              "      <td>-73.940221</td>\n",
              "    </tr>\n",
              "    <tr>\n",
              "      <th>243</th>\n",
              "      <td>244</td>\n",
              "      <td>40.883325</td>\n",
              "      <td>-72.515328</td>\n",
              "    </tr>\n",
              "    <tr>\n",
              "      <th>244</th>\n",
              "      <td>245</td>\n",
              "      <td>40.578087</td>\n",
              "      <td>-73.974925</td>\n",
              "    </tr>\n",
              "    <tr>\n",
              "      <th>245</th>\n",
              "      <td>246</td>\n",
              "      <td>37.915937</td>\n",
              "      <td>-96.785860</td>\n",
              "    </tr>\n",
              "    <tr>\n",
              "      <th>246</th>\n",
              "      <td>247</td>\n",
              "      <td>40.190987</td>\n",
              "      <td>-74.029083</td>\n",
              "    </tr>\n",
              "    <tr>\n",
              "      <th>247</th>\n",
              "      <td>248</td>\n",
              "      <td>40.192057</td>\n",
              "      <td>-74.201255</td>\n",
              "    </tr>\n",
              "    <tr>\n",
              "      <th>248</th>\n",
              "      <td>249</td>\n",
              "      <td>40.734186</td>\n",
              "      <td>-74.005580</td>\n",
              "    </tr>\n",
              "    <tr>\n",
              "      <th>249</th>\n",
              "      <td>250</td>\n",
              "      <td>42.539702</td>\n",
              "      <td>-83.255017</td>\n",
              "    </tr>\n",
              "    <tr>\n",
              "      <th>250</th>\n",
              "      <td>251</td>\n",
              "      <td>51.516541</td>\n",
              "      <td>-2.434635</td>\n",
              "    </tr>\n",
              "    <tr>\n",
              "      <th>251</th>\n",
              "      <td>252</td>\n",
              "      <td>40.794546</td>\n",
              "      <td>-73.818467</td>\n",
              "    </tr>\n",
              "    <tr>\n",
              "      <th>252</th>\n",
              "      <td>253</td>\n",
              "      <td>40.796708</td>\n",
              "      <td>-73.779396</td>\n",
              "    </tr>\n",
              "    <tr>\n",
              "      <th>253</th>\n",
              "      <td>254</td>\n",
              "      <td>40.877624</td>\n",
              "      <td>-73.877520</td>\n",
              "    </tr>\n",
              "    <tr>\n",
              "      <th>254</th>\n",
              "      <td>255</td>\n",
              "      <td>40.714622</td>\n",
              "      <td>-73.953450</td>\n",
              "    </tr>\n",
              "    <tr>\n",
              "      <th>255</th>\n",
              "      <td>256</td>\n",
              "      <td>37.278921</td>\n",
              "      <td>-76.694486</td>\n",
              "    </tr>\n",
              "    <tr>\n",
              "      <th>256</th>\n",
              "      <td>257</td>\n",
              "      <td>40.655785</td>\n",
              "      <td>-73.976544</td>\n",
              "    </tr>\n",
              "    <tr>\n",
              "      <th>257</th>\n",
              "      <td>258</td>\n",
              "      <td>42.137052</td>\n",
              "      <td>-83.245107</td>\n",
              "    </tr>\n",
              "    <tr>\n",
              "      <th>258</th>\n",
              "      <td>259</td>\n",
              "      <td>38.330050</td>\n",
              "      <td>-89.032569</td>\n",
              "    </tr>\n",
              "    <tr>\n",
              "      <th>259</th>\n",
              "      <td>260</td>\n",
              "      <td>37.429939</td>\n",
              "      <td>-122.253856</td>\n",
              "    </tr>\n",
              "  </tbody>\n",
              "</table>\n",
              "</div>"
            ],
            "text/plain": [
              "     PULocationID   Latitude   Longitude\n",
              "240           241  41.248694  -73.908586\n",
              "241           242  40.848434  -73.863746\n",
              "242           243  40.840198  -73.940221\n",
              "243           244  40.883325  -72.515328\n",
              "244           245  40.578087  -73.974925\n",
              "245           246  37.915937  -96.785860\n",
              "246           247  40.190987  -74.029083\n",
              "247           248  40.192057  -74.201255\n",
              "248           249  40.734186  -74.005580\n",
              "249           250  42.539702  -83.255017\n",
              "250           251  51.516541   -2.434635\n",
              "251           252  40.794546  -73.818467\n",
              "252           253  40.796708  -73.779396\n",
              "253           254  40.877624  -73.877520\n",
              "254           255  40.714622  -73.953450\n",
              "255           256  37.278921  -76.694486\n",
              "256           257  40.655785  -73.976544\n",
              "257           258  42.137052  -83.245107\n",
              "258           259  38.330050  -89.032569\n",
              "259           260  37.429939 -122.253856"
            ]
          },
          "metadata": {
            "tags": []
          },
          "execution_count": 48
        }
      ]
    },
    {
      "cell_type": "code",
      "metadata": {
        "id": "tZbiDbVguQ8o",
        "colab": {
          "base_uri": "https://localhost:8080/",
          "height": 422
        },
        "outputId": "028fdc7b-7d1c-48ec-c81b-837f8ddf4f50"
      },
      "source": [
        "Main_df_loc = Main_df.merge(LookUp_df_PULocation, on='PULocationID')\n",
        "Main_df_loc_PU = Main_df_loc.rename(columns={'Latitude': 'PULatitude', 'Longitude':'PULongitude'})\n",
        "Main_df_loc_PU"
      ],
      "execution_count": 49,
      "outputs": [
        {
          "output_type": "execute_result",
          "data": {
            "text/html": [
              "<div>\n",
              "<style scoped>\n",
              "    .dataframe tbody tr th:only-of-type {\n",
              "        vertical-align: middle;\n",
              "    }\n",
              "\n",
              "    .dataframe tbody tr th {\n",
              "        vertical-align: top;\n",
              "    }\n",
              "\n",
              "    .dataframe thead th {\n",
              "        text-align: right;\n",
              "    }\n",
              "</style>\n",
              "<table border=\"1\" class=\"dataframe\">\n",
              "  <thead>\n",
              "    <tr style=\"text-align: right;\">\n",
              "      <th></th>\n",
              "      <th>VendorID</th>\n",
              "      <th>tpep_pickup_datetime</th>\n",
              "      <th>tpep_dropoff_datetime</th>\n",
              "      <th>passenger_count</th>\n",
              "      <th>trip_distance</th>\n",
              "      <th>RatecodeID</th>\n",
              "      <th>store_and_fwd_flag</th>\n",
              "      <th>PULocationID</th>\n",
              "      <th>DOLocationID</th>\n",
              "      <th>payment_type</th>\n",
              "      <th>fare_amount</th>\n",
              "      <th>extra</th>\n",
              "      <th>mta_tax</th>\n",
              "      <th>tip_amount</th>\n",
              "      <th>tolls_amount</th>\n",
              "      <th>improvement_surcharge</th>\n",
              "      <th>total_amount</th>\n",
              "      <th>congestion_surcharge</th>\n",
              "      <th>trip_duration</th>\n",
              "      <th>speed</th>\n",
              "      <th>PULatitude</th>\n",
              "      <th>PULongitude</th>\n",
              "    </tr>\n",
              "  </thead>\n",
              "  <tbody>\n",
              "    <tr>\n",
              "      <th>0</th>\n",
              "      <td>1.0</td>\n",
              "      <td>2020-03-01 00:31:13</td>\n",
              "      <td>2020-03-01 01:01:42</td>\n",
              "      <td>1.0</td>\n",
              "      <td>4.70</td>\n",
              "      <td>1.0</td>\n",
              "      <td>N</td>\n",
              "      <td>88</td>\n",
              "      <td>255</td>\n",
              "      <td>1.0</td>\n",
              "      <td>22.00</td>\n",
              "      <td>3.0</td>\n",
              "      <td>0.5</td>\n",
              "      <td>2.00</td>\n",
              "      <td>0.00</td>\n",
              "      <td>0.3</td>\n",
              "      <td>27.80</td>\n",
              "      <td>2.5</td>\n",
              "      <td>30.483333</td>\n",
              "      <td>9.250957</td>\n",
              "      <td>40.707612</td>\n",
              "      <td>-74.009378</td>\n",
              "    </tr>\n",
              "    <tr>\n",
              "      <th>1</th>\n",
              "      <td>1.0</td>\n",
              "      <td>2020-03-01 00:05:44</td>\n",
              "      <td>2020-03-01 00:19:54</td>\n",
              "      <td>2.0</td>\n",
              "      <td>8.00</td>\n",
              "      <td>1.0</td>\n",
              "      <td>N</td>\n",
              "      <td>88</td>\n",
              "      <td>263</td>\n",
              "      <td>2.0</td>\n",
              "      <td>23.50</td>\n",
              "      <td>3.0</td>\n",
              "      <td>0.5</td>\n",
              "      <td>0.00</td>\n",
              "      <td>0.00</td>\n",
              "      <td>0.3</td>\n",
              "      <td>27.30</td>\n",
              "      <td>2.5</td>\n",
              "      <td>14.166667</td>\n",
              "      <td>33.882353</td>\n",
              "      <td>40.707612</td>\n",
              "      <td>-74.009378</td>\n",
              "    </tr>\n",
              "    <tr>\n",
              "      <th>2</th>\n",
              "      <td>2.0</td>\n",
              "      <td>2020-03-01 00:27:15</td>\n",
              "      <td>2020-03-01 00:47:22</td>\n",
              "      <td>2.0</td>\n",
              "      <td>3.34</td>\n",
              "      <td>1.0</td>\n",
              "      <td>N</td>\n",
              "      <td>88</td>\n",
              "      <td>170</td>\n",
              "      <td>1.0</td>\n",
              "      <td>14.50</td>\n",
              "      <td>0.5</td>\n",
              "      <td>0.5</td>\n",
              "      <td>3.66</td>\n",
              "      <td>0.00</td>\n",
              "      <td>0.3</td>\n",
              "      <td>21.96</td>\n",
              "      <td>2.5</td>\n",
              "      <td>20.116667</td>\n",
              "      <td>9.961889</td>\n",
              "      <td>40.707612</td>\n",
              "      <td>-74.009378</td>\n",
              "    </tr>\n",
              "    <tr>\n",
              "      <th>3</th>\n",
              "      <td>1.0</td>\n",
              "      <td>2020-03-01 00:29:40</td>\n",
              "      <td>2020-03-01 00:42:38</td>\n",
              "      <td>2.0</td>\n",
              "      <td>3.60</td>\n",
              "      <td>1.0</td>\n",
              "      <td>N</td>\n",
              "      <td>88</td>\n",
              "      <td>79</td>\n",
              "      <td>2.0</td>\n",
              "      <td>13.50</td>\n",
              "      <td>3.0</td>\n",
              "      <td>0.5</td>\n",
              "      <td>0.00</td>\n",
              "      <td>0.00</td>\n",
              "      <td>0.3</td>\n",
              "      <td>17.30</td>\n",
              "      <td>2.5</td>\n",
              "      <td>12.966667</td>\n",
              "      <td>16.658098</td>\n",
              "      <td>40.707612</td>\n",
              "      <td>-74.009378</td>\n",
              "    </tr>\n",
              "    <tr>\n",
              "      <th>4</th>\n",
              "      <td>1.0</td>\n",
              "      <td>2020-03-01 00:41:27</td>\n",
              "      <td>2020-03-01 00:57:10</td>\n",
              "      <td>2.0</td>\n",
              "      <td>2.90</td>\n",
              "      <td>1.0</td>\n",
              "      <td>N</td>\n",
              "      <td>88</td>\n",
              "      <td>249</td>\n",
              "      <td>1.0</td>\n",
              "      <td>13.00</td>\n",
              "      <td>3.0</td>\n",
              "      <td>0.5</td>\n",
              "      <td>3.35</td>\n",
              "      <td>0.00</td>\n",
              "      <td>0.3</td>\n",
              "      <td>20.15</td>\n",
              "      <td>2.5</td>\n",
              "      <td>15.716667</td>\n",
              "      <td>11.071050</td>\n",
              "      <td>40.707612</td>\n",
              "      <td>-74.009378</td>\n",
              "    </tr>\n",
              "    <tr>\n",
              "      <th>...</th>\n",
              "      <td>...</td>\n",
              "      <td>...</td>\n",
              "      <td>...</td>\n",
              "      <td>...</td>\n",
              "      <td>...</td>\n",
              "      <td>...</td>\n",
              "      <td>...</td>\n",
              "      <td>...</td>\n",
              "      <td>...</td>\n",
              "      <td>...</td>\n",
              "      <td>...</td>\n",
              "      <td>...</td>\n",
              "      <td>...</td>\n",
              "      <td>...</td>\n",
              "      <td>...</td>\n",
              "      <td>...</td>\n",
              "      <td>...</td>\n",
              "      <td>...</td>\n",
              "      <td>...</td>\n",
              "      <td>...</td>\n",
              "      <td>...</td>\n",
              "      <td>...</td>\n",
              "    </tr>\n",
              "    <tr>\n",
              "      <th>2923793</th>\n",
              "      <td>NaN</td>\n",
              "      <td>2020-03-09 17:30:00</td>\n",
              "      <td>2020-03-09 18:10:00</td>\n",
              "      <td>NaN</td>\n",
              "      <td>17.22</td>\n",
              "      <td>NaN</td>\n",
              "      <td>NaN</td>\n",
              "      <td>27</td>\n",
              "      <td>139</td>\n",
              "      <td>NaN</td>\n",
              "      <td>51.97</td>\n",
              "      <td>0.0</td>\n",
              "      <td>0.5</td>\n",
              "      <td>0.00</td>\n",
              "      <td>2.29</td>\n",
              "      <td>0.3</td>\n",
              "      <td>55.06</td>\n",
              "      <td>0.0</td>\n",
              "      <td>40.000000</td>\n",
              "      <td>25.830000</td>\n",
              "      <td>46.616630</td>\n",
              "      <td>-94.216935</td>\n",
              "    </tr>\n",
              "    <tr>\n",
              "      <th>2923794</th>\n",
              "      <td>NaN</td>\n",
              "      <td>2020-03-10 10:00:00</td>\n",
              "      <td>2020-03-10 10:20:00</td>\n",
              "      <td>NaN</td>\n",
              "      <td>7.72</td>\n",
              "      <td>NaN</td>\n",
              "      <td>NaN</td>\n",
              "      <td>27</td>\n",
              "      <td>91</td>\n",
              "      <td>NaN</td>\n",
              "      <td>21.40</td>\n",
              "      <td>0.0</td>\n",
              "      <td>0.5</td>\n",
              "      <td>0.00</td>\n",
              "      <td>2.29</td>\n",
              "      <td>0.3</td>\n",
              "      <td>24.49</td>\n",
              "      <td>0.0</td>\n",
              "      <td>20.000000</td>\n",
              "      <td>23.160000</td>\n",
              "      <td>46.616630</td>\n",
              "      <td>-94.216935</td>\n",
              "    </tr>\n",
              "    <tr>\n",
              "      <th>2923795</th>\n",
              "      <td>NaN</td>\n",
              "      <td>2020-03-17 06:48:00</td>\n",
              "      <td>2020-03-17 07:35:00</td>\n",
              "      <td>NaN</td>\n",
              "      <td>28.89</td>\n",
              "      <td>NaN</td>\n",
              "      <td>NaN</td>\n",
              "      <td>27</td>\n",
              "      <td>32</td>\n",
              "      <td>NaN</td>\n",
              "      <td>71.55</td>\n",
              "      <td>0.0</td>\n",
              "      <td>0.5</td>\n",
              "      <td>0.00</td>\n",
              "      <td>10.70</td>\n",
              "      <td>0.3</td>\n",
              "      <td>83.05</td>\n",
              "      <td>0.0</td>\n",
              "      <td>47.000000</td>\n",
              "      <td>36.880851</td>\n",
              "      <td>46.616630</td>\n",
              "      <td>-94.216935</td>\n",
              "    </tr>\n",
              "    <tr>\n",
              "      <th>2923796</th>\n",
              "      <td>NaN</td>\n",
              "      <td>2020-03-11 12:37:26</td>\n",
              "      <td>2020-03-11 13:15:09</td>\n",
              "      <td>NaN</td>\n",
              "      <td>23.55</td>\n",
              "      <td>NaN</td>\n",
              "      <td>NaN</td>\n",
              "      <td>245</td>\n",
              "      <td>179</td>\n",
              "      <td>NaN</td>\n",
              "      <td>60.98</td>\n",
              "      <td>0.0</td>\n",
              "      <td>0.0</td>\n",
              "      <td>0.00</td>\n",
              "      <td>25.99</td>\n",
              "      <td>0.3</td>\n",
              "      <td>89.22</td>\n",
              "      <td>0.0</td>\n",
              "      <td>37.716667</td>\n",
              "      <td>37.463544</td>\n",
              "      <td>40.578087</td>\n",
              "      <td>-73.974925</td>\n",
              "    </tr>\n",
              "    <tr>\n",
              "      <th>2923797</th>\n",
              "      <td>NaN</td>\n",
              "      <td>2020-03-19 14:12:00</td>\n",
              "      <td>2020-03-19 14:37:00</td>\n",
              "      <td>NaN</td>\n",
              "      <td>6.00</td>\n",
              "      <td>NaN</td>\n",
              "      <td>NaN</td>\n",
              "      <td>251</td>\n",
              "      <td>156</td>\n",
              "      <td>NaN</td>\n",
              "      <td>22.10</td>\n",
              "      <td>0.0</td>\n",
              "      <td>0.5</td>\n",
              "      <td>0.00</td>\n",
              "      <td>0.00</td>\n",
              "      <td>0.3</td>\n",
              "      <td>24.85</td>\n",
              "      <td>0.0</td>\n",
              "      <td>25.000000</td>\n",
              "      <td>14.400000</td>\n",
              "      <td>51.516541</td>\n",
              "      <td>-2.434635</td>\n",
              "    </tr>\n",
              "  </tbody>\n",
              "</table>\n",
              "<p>2923798 rows × 22 columns</p>\n",
              "</div>"
            ],
            "text/plain": [
              "         VendorID tpep_pickup_datetime  ... PULatitude  PULongitude\n",
              "0             1.0  2020-03-01 00:31:13  ...  40.707612   -74.009378\n",
              "1             1.0  2020-03-01 00:05:44  ...  40.707612   -74.009378\n",
              "2             2.0  2020-03-01 00:27:15  ...  40.707612   -74.009378\n",
              "3             1.0  2020-03-01 00:29:40  ...  40.707612   -74.009378\n",
              "4             1.0  2020-03-01 00:41:27  ...  40.707612   -74.009378\n",
              "...           ...                  ...  ...        ...          ...\n",
              "2923793       NaN  2020-03-09 17:30:00  ...  46.616630   -94.216935\n",
              "2923794       NaN  2020-03-10 10:00:00  ...  46.616630   -94.216935\n",
              "2923795       NaN  2020-03-17 06:48:00  ...  46.616630   -94.216935\n",
              "2923796       NaN  2020-03-11 12:37:26  ...  40.578087   -73.974925\n",
              "2923797       NaN  2020-03-19 14:12:00  ...  51.516541    -2.434635\n",
              "\n",
              "[2923798 rows x 22 columns]"
            ]
          },
          "metadata": {
            "tags": []
          },
          "execution_count": 49
        }
      ]
    },
    {
      "cell_type": "code",
      "metadata": {
        "id": "bw-Tqju8wd4x",
        "colab": {
          "base_uri": "https://localhost:8080/",
          "height": 422
        },
        "outputId": "c0b440b8-5189-4758-8e22-f51d8913ebb1"
      },
      "source": [
        "Main_df_loc_PU = Main_df_loc.rename(columns={'Latitude': 'PULatitude', 'Longitude':'PULongitude'})\n",
        "Main_df_loc_PU"
      ],
      "execution_count": 50,
      "outputs": [
        {
          "output_type": "execute_result",
          "data": {
            "text/html": [
              "<div>\n",
              "<style scoped>\n",
              "    .dataframe tbody tr th:only-of-type {\n",
              "        vertical-align: middle;\n",
              "    }\n",
              "\n",
              "    .dataframe tbody tr th {\n",
              "        vertical-align: top;\n",
              "    }\n",
              "\n",
              "    .dataframe thead th {\n",
              "        text-align: right;\n",
              "    }\n",
              "</style>\n",
              "<table border=\"1\" class=\"dataframe\">\n",
              "  <thead>\n",
              "    <tr style=\"text-align: right;\">\n",
              "      <th></th>\n",
              "      <th>VendorID</th>\n",
              "      <th>tpep_pickup_datetime</th>\n",
              "      <th>tpep_dropoff_datetime</th>\n",
              "      <th>passenger_count</th>\n",
              "      <th>trip_distance</th>\n",
              "      <th>RatecodeID</th>\n",
              "      <th>store_and_fwd_flag</th>\n",
              "      <th>PULocationID</th>\n",
              "      <th>DOLocationID</th>\n",
              "      <th>payment_type</th>\n",
              "      <th>fare_amount</th>\n",
              "      <th>extra</th>\n",
              "      <th>mta_tax</th>\n",
              "      <th>tip_amount</th>\n",
              "      <th>tolls_amount</th>\n",
              "      <th>improvement_surcharge</th>\n",
              "      <th>total_amount</th>\n",
              "      <th>congestion_surcharge</th>\n",
              "      <th>trip_duration</th>\n",
              "      <th>speed</th>\n",
              "      <th>PULatitude</th>\n",
              "      <th>PULongitude</th>\n",
              "    </tr>\n",
              "  </thead>\n",
              "  <tbody>\n",
              "    <tr>\n",
              "      <th>0</th>\n",
              "      <td>1.0</td>\n",
              "      <td>2020-03-01 00:31:13</td>\n",
              "      <td>2020-03-01 01:01:42</td>\n",
              "      <td>1.0</td>\n",
              "      <td>4.70</td>\n",
              "      <td>1.0</td>\n",
              "      <td>N</td>\n",
              "      <td>88</td>\n",
              "      <td>255</td>\n",
              "      <td>1.0</td>\n",
              "      <td>22.00</td>\n",
              "      <td>3.0</td>\n",
              "      <td>0.5</td>\n",
              "      <td>2.00</td>\n",
              "      <td>0.00</td>\n",
              "      <td>0.3</td>\n",
              "      <td>27.80</td>\n",
              "      <td>2.5</td>\n",
              "      <td>30.483333</td>\n",
              "      <td>9.250957</td>\n",
              "      <td>40.707612</td>\n",
              "      <td>-74.009378</td>\n",
              "    </tr>\n",
              "    <tr>\n",
              "      <th>1</th>\n",
              "      <td>1.0</td>\n",
              "      <td>2020-03-01 00:05:44</td>\n",
              "      <td>2020-03-01 00:19:54</td>\n",
              "      <td>2.0</td>\n",
              "      <td>8.00</td>\n",
              "      <td>1.0</td>\n",
              "      <td>N</td>\n",
              "      <td>88</td>\n",
              "      <td>263</td>\n",
              "      <td>2.0</td>\n",
              "      <td>23.50</td>\n",
              "      <td>3.0</td>\n",
              "      <td>0.5</td>\n",
              "      <td>0.00</td>\n",
              "      <td>0.00</td>\n",
              "      <td>0.3</td>\n",
              "      <td>27.30</td>\n",
              "      <td>2.5</td>\n",
              "      <td>14.166667</td>\n",
              "      <td>33.882353</td>\n",
              "      <td>40.707612</td>\n",
              "      <td>-74.009378</td>\n",
              "    </tr>\n",
              "    <tr>\n",
              "      <th>2</th>\n",
              "      <td>2.0</td>\n",
              "      <td>2020-03-01 00:27:15</td>\n",
              "      <td>2020-03-01 00:47:22</td>\n",
              "      <td>2.0</td>\n",
              "      <td>3.34</td>\n",
              "      <td>1.0</td>\n",
              "      <td>N</td>\n",
              "      <td>88</td>\n",
              "      <td>170</td>\n",
              "      <td>1.0</td>\n",
              "      <td>14.50</td>\n",
              "      <td>0.5</td>\n",
              "      <td>0.5</td>\n",
              "      <td>3.66</td>\n",
              "      <td>0.00</td>\n",
              "      <td>0.3</td>\n",
              "      <td>21.96</td>\n",
              "      <td>2.5</td>\n",
              "      <td>20.116667</td>\n",
              "      <td>9.961889</td>\n",
              "      <td>40.707612</td>\n",
              "      <td>-74.009378</td>\n",
              "    </tr>\n",
              "    <tr>\n",
              "      <th>3</th>\n",
              "      <td>1.0</td>\n",
              "      <td>2020-03-01 00:29:40</td>\n",
              "      <td>2020-03-01 00:42:38</td>\n",
              "      <td>2.0</td>\n",
              "      <td>3.60</td>\n",
              "      <td>1.0</td>\n",
              "      <td>N</td>\n",
              "      <td>88</td>\n",
              "      <td>79</td>\n",
              "      <td>2.0</td>\n",
              "      <td>13.50</td>\n",
              "      <td>3.0</td>\n",
              "      <td>0.5</td>\n",
              "      <td>0.00</td>\n",
              "      <td>0.00</td>\n",
              "      <td>0.3</td>\n",
              "      <td>17.30</td>\n",
              "      <td>2.5</td>\n",
              "      <td>12.966667</td>\n",
              "      <td>16.658098</td>\n",
              "      <td>40.707612</td>\n",
              "      <td>-74.009378</td>\n",
              "    </tr>\n",
              "    <tr>\n",
              "      <th>4</th>\n",
              "      <td>1.0</td>\n",
              "      <td>2020-03-01 00:41:27</td>\n",
              "      <td>2020-03-01 00:57:10</td>\n",
              "      <td>2.0</td>\n",
              "      <td>2.90</td>\n",
              "      <td>1.0</td>\n",
              "      <td>N</td>\n",
              "      <td>88</td>\n",
              "      <td>249</td>\n",
              "      <td>1.0</td>\n",
              "      <td>13.00</td>\n",
              "      <td>3.0</td>\n",
              "      <td>0.5</td>\n",
              "      <td>3.35</td>\n",
              "      <td>0.00</td>\n",
              "      <td>0.3</td>\n",
              "      <td>20.15</td>\n",
              "      <td>2.5</td>\n",
              "      <td>15.716667</td>\n",
              "      <td>11.071050</td>\n",
              "      <td>40.707612</td>\n",
              "      <td>-74.009378</td>\n",
              "    </tr>\n",
              "    <tr>\n",
              "      <th>...</th>\n",
              "      <td>...</td>\n",
              "      <td>...</td>\n",
              "      <td>...</td>\n",
              "      <td>...</td>\n",
              "      <td>...</td>\n",
              "      <td>...</td>\n",
              "      <td>...</td>\n",
              "      <td>...</td>\n",
              "      <td>...</td>\n",
              "      <td>...</td>\n",
              "      <td>...</td>\n",
              "      <td>...</td>\n",
              "      <td>...</td>\n",
              "      <td>...</td>\n",
              "      <td>...</td>\n",
              "      <td>...</td>\n",
              "      <td>...</td>\n",
              "      <td>...</td>\n",
              "      <td>...</td>\n",
              "      <td>...</td>\n",
              "      <td>...</td>\n",
              "      <td>...</td>\n",
              "    </tr>\n",
              "    <tr>\n",
              "      <th>2923793</th>\n",
              "      <td>NaN</td>\n",
              "      <td>2020-03-09 17:30:00</td>\n",
              "      <td>2020-03-09 18:10:00</td>\n",
              "      <td>NaN</td>\n",
              "      <td>17.22</td>\n",
              "      <td>NaN</td>\n",
              "      <td>NaN</td>\n",
              "      <td>27</td>\n",
              "      <td>139</td>\n",
              "      <td>NaN</td>\n",
              "      <td>51.97</td>\n",
              "      <td>0.0</td>\n",
              "      <td>0.5</td>\n",
              "      <td>0.00</td>\n",
              "      <td>2.29</td>\n",
              "      <td>0.3</td>\n",
              "      <td>55.06</td>\n",
              "      <td>0.0</td>\n",
              "      <td>40.000000</td>\n",
              "      <td>25.830000</td>\n",
              "      <td>46.616630</td>\n",
              "      <td>-94.216935</td>\n",
              "    </tr>\n",
              "    <tr>\n",
              "      <th>2923794</th>\n",
              "      <td>NaN</td>\n",
              "      <td>2020-03-10 10:00:00</td>\n",
              "      <td>2020-03-10 10:20:00</td>\n",
              "      <td>NaN</td>\n",
              "      <td>7.72</td>\n",
              "      <td>NaN</td>\n",
              "      <td>NaN</td>\n",
              "      <td>27</td>\n",
              "      <td>91</td>\n",
              "      <td>NaN</td>\n",
              "      <td>21.40</td>\n",
              "      <td>0.0</td>\n",
              "      <td>0.5</td>\n",
              "      <td>0.00</td>\n",
              "      <td>2.29</td>\n",
              "      <td>0.3</td>\n",
              "      <td>24.49</td>\n",
              "      <td>0.0</td>\n",
              "      <td>20.000000</td>\n",
              "      <td>23.160000</td>\n",
              "      <td>46.616630</td>\n",
              "      <td>-94.216935</td>\n",
              "    </tr>\n",
              "    <tr>\n",
              "      <th>2923795</th>\n",
              "      <td>NaN</td>\n",
              "      <td>2020-03-17 06:48:00</td>\n",
              "      <td>2020-03-17 07:35:00</td>\n",
              "      <td>NaN</td>\n",
              "      <td>28.89</td>\n",
              "      <td>NaN</td>\n",
              "      <td>NaN</td>\n",
              "      <td>27</td>\n",
              "      <td>32</td>\n",
              "      <td>NaN</td>\n",
              "      <td>71.55</td>\n",
              "      <td>0.0</td>\n",
              "      <td>0.5</td>\n",
              "      <td>0.00</td>\n",
              "      <td>10.70</td>\n",
              "      <td>0.3</td>\n",
              "      <td>83.05</td>\n",
              "      <td>0.0</td>\n",
              "      <td>47.000000</td>\n",
              "      <td>36.880851</td>\n",
              "      <td>46.616630</td>\n",
              "      <td>-94.216935</td>\n",
              "    </tr>\n",
              "    <tr>\n",
              "      <th>2923796</th>\n",
              "      <td>NaN</td>\n",
              "      <td>2020-03-11 12:37:26</td>\n",
              "      <td>2020-03-11 13:15:09</td>\n",
              "      <td>NaN</td>\n",
              "      <td>23.55</td>\n",
              "      <td>NaN</td>\n",
              "      <td>NaN</td>\n",
              "      <td>245</td>\n",
              "      <td>179</td>\n",
              "      <td>NaN</td>\n",
              "      <td>60.98</td>\n",
              "      <td>0.0</td>\n",
              "      <td>0.0</td>\n",
              "      <td>0.00</td>\n",
              "      <td>25.99</td>\n",
              "      <td>0.3</td>\n",
              "      <td>89.22</td>\n",
              "      <td>0.0</td>\n",
              "      <td>37.716667</td>\n",
              "      <td>37.463544</td>\n",
              "      <td>40.578087</td>\n",
              "      <td>-73.974925</td>\n",
              "    </tr>\n",
              "    <tr>\n",
              "      <th>2923797</th>\n",
              "      <td>NaN</td>\n",
              "      <td>2020-03-19 14:12:00</td>\n",
              "      <td>2020-03-19 14:37:00</td>\n",
              "      <td>NaN</td>\n",
              "      <td>6.00</td>\n",
              "      <td>NaN</td>\n",
              "      <td>NaN</td>\n",
              "      <td>251</td>\n",
              "      <td>156</td>\n",
              "      <td>NaN</td>\n",
              "      <td>22.10</td>\n",
              "      <td>0.0</td>\n",
              "      <td>0.5</td>\n",
              "      <td>0.00</td>\n",
              "      <td>0.00</td>\n",
              "      <td>0.3</td>\n",
              "      <td>24.85</td>\n",
              "      <td>0.0</td>\n",
              "      <td>25.000000</td>\n",
              "      <td>14.400000</td>\n",
              "      <td>51.516541</td>\n",
              "      <td>-2.434635</td>\n",
              "    </tr>\n",
              "  </tbody>\n",
              "</table>\n",
              "<p>2923798 rows × 22 columns</p>\n",
              "</div>"
            ],
            "text/plain": [
              "         VendorID tpep_pickup_datetime  ... PULatitude  PULongitude\n",
              "0             1.0  2020-03-01 00:31:13  ...  40.707612   -74.009378\n",
              "1             1.0  2020-03-01 00:05:44  ...  40.707612   -74.009378\n",
              "2             2.0  2020-03-01 00:27:15  ...  40.707612   -74.009378\n",
              "3             1.0  2020-03-01 00:29:40  ...  40.707612   -74.009378\n",
              "4             1.0  2020-03-01 00:41:27  ...  40.707612   -74.009378\n",
              "...           ...                  ...  ...        ...          ...\n",
              "2923793       NaN  2020-03-09 17:30:00  ...  46.616630   -94.216935\n",
              "2923794       NaN  2020-03-10 10:00:00  ...  46.616630   -94.216935\n",
              "2923795       NaN  2020-03-17 06:48:00  ...  46.616630   -94.216935\n",
              "2923796       NaN  2020-03-11 12:37:26  ...  40.578087   -73.974925\n",
              "2923797       NaN  2020-03-19 14:12:00  ...  51.516541    -2.434635\n",
              "\n",
              "[2923798 rows x 22 columns]"
            ]
          },
          "metadata": {
            "tags": []
          },
          "execution_count": 50
        }
      ]
    },
    {
      "cell_type": "code",
      "metadata": {
        "id": "k_sgHOJZUbku"
      },
      "source": [
        "#Adding the Dropoff location's lat long"
      ],
      "execution_count": 51,
      "outputs": []
    },
    {
      "cell_type": "code",
      "metadata": {
        "id": "zUhk9SEoUIVx",
        "colab": {
          "base_uri": "https://localhost:8080/",
          "height": 402
        },
        "outputId": "38276823-ea96-478d-bfdd-4c94fecd5df4"
      },
      "source": [
        "LookUp_df_DOLocation = LookUp_df_PULocation.rename(columns={'PULocationID': 'DOLocationID'})\n",
        "LookUp_df_DOLocation"
      ],
      "execution_count": 52,
      "outputs": [
        {
          "output_type": "execute_result",
          "data": {
            "text/html": [
              "<div>\n",
              "<style scoped>\n",
              "    .dataframe tbody tr th:only-of-type {\n",
              "        vertical-align: middle;\n",
              "    }\n",
              "\n",
              "    .dataframe tbody tr th {\n",
              "        vertical-align: top;\n",
              "    }\n",
              "\n",
              "    .dataframe thead th {\n",
              "        text-align: right;\n",
              "    }\n",
              "</style>\n",
              "<table border=\"1\" class=\"dataframe\">\n",
              "  <thead>\n",
              "    <tr style=\"text-align: right;\">\n",
              "      <th></th>\n",
              "      <th>DOLocationID</th>\n",
              "      <th>Latitude</th>\n",
              "      <th>Longitude</th>\n",
              "    </tr>\n",
              "  </thead>\n",
              "  <tbody>\n",
              "    <tr>\n",
              "      <th>0</th>\n",
              "      <td>1</td>\n",
              "      <td>40.689064</td>\n",
              "      <td>-74.177255</td>\n",
              "    </tr>\n",
              "    <tr>\n",
              "      <th>1</th>\n",
              "      <td>2</td>\n",
              "      <td>40.603994</td>\n",
              "      <td>-73.835412</td>\n",
              "    </tr>\n",
              "    <tr>\n",
              "      <th>2</th>\n",
              "      <td>3</td>\n",
              "      <td>39.915319</td>\n",
              "      <td>-87.933215</td>\n",
              "    </tr>\n",
              "    <tr>\n",
              "      <th>3</th>\n",
              "      <td>4</td>\n",
              "      <td>40.725102</td>\n",
              "      <td>-73.979583</td>\n",
              "    </tr>\n",
              "    <tr>\n",
              "      <th>4</th>\n",
              "      <td>5</td>\n",
              "      <td>53.284833</td>\n",
              "      <td>-7.493904</td>\n",
              "    </tr>\n",
              "    <tr>\n",
              "      <th>...</th>\n",
              "      <td>...</td>\n",
              "      <td>...</td>\n",
              "      <td>...</td>\n",
              "    </tr>\n",
              "    <tr>\n",
              "      <th>258</th>\n",
              "      <td>259</td>\n",
              "      <td>38.330050</td>\n",
              "      <td>-89.032569</td>\n",
              "    </tr>\n",
              "    <tr>\n",
              "      <th>259</th>\n",
              "      <td>260</td>\n",
              "      <td>37.429939</td>\n",
              "      <td>-122.253856</td>\n",
              "    </tr>\n",
              "    <tr>\n",
              "      <th>260</th>\n",
              "      <td>261</td>\n",
              "      <td>40.711888</td>\n",
              "      <td>-74.012441</td>\n",
              "    </tr>\n",
              "    <tr>\n",
              "      <th>261</th>\n",
              "      <td>262</td>\n",
              "      <td>40.778007</td>\n",
              "      <td>-73.948202</td>\n",
              "    </tr>\n",
              "    <tr>\n",
              "      <th>262</th>\n",
              "      <td>263</td>\n",
              "      <td>40.778007</td>\n",
              "      <td>-73.948202</td>\n",
              "    </tr>\n",
              "  </tbody>\n",
              "</table>\n",
              "<p>263 rows × 3 columns</p>\n",
              "</div>"
            ],
            "text/plain": [
              "     DOLocationID   Latitude   Longitude\n",
              "0               1  40.689064  -74.177255\n",
              "1               2  40.603994  -73.835412\n",
              "2               3  39.915319  -87.933215\n",
              "3               4  40.725102  -73.979583\n",
              "4               5  53.284833   -7.493904\n",
              "..            ...        ...         ...\n",
              "258           259  38.330050  -89.032569\n",
              "259           260  37.429939 -122.253856\n",
              "260           261  40.711888  -74.012441\n",
              "261           262  40.778007  -73.948202\n",
              "262           263  40.778007  -73.948202\n",
              "\n",
              "[263 rows x 3 columns]"
            ]
          },
          "metadata": {
            "tags": []
          },
          "execution_count": 52
        }
      ]
    },
    {
      "cell_type": "code",
      "metadata": {
        "id": "6urcPwfRUIis",
        "colab": {
          "base_uri": "https://localhost:8080/",
          "height": 422
        },
        "outputId": "67629d95-c327-4712-996c-8109be1e6a0f"
      },
      "source": [
        "Main_df_loc_DO = Main_df_loc_PU.merge(LookUp_df_DOLocation, how='left', on='DOLocationID')\n",
        "Main_df_loc_DO_Updated = Main_df_loc_DO.rename(columns={'Latitude': 'DOLatitude', 'Longitude':'DOLongitude'})\n",
        "Main_df_loc_DO_Updated"
      ],
      "execution_count": 53,
      "outputs": [
        {
          "output_type": "execute_result",
          "data": {
            "text/html": [
              "<div>\n",
              "<style scoped>\n",
              "    .dataframe tbody tr th:only-of-type {\n",
              "        vertical-align: middle;\n",
              "    }\n",
              "\n",
              "    .dataframe tbody tr th {\n",
              "        vertical-align: top;\n",
              "    }\n",
              "\n",
              "    .dataframe thead th {\n",
              "        text-align: right;\n",
              "    }\n",
              "</style>\n",
              "<table border=\"1\" class=\"dataframe\">\n",
              "  <thead>\n",
              "    <tr style=\"text-align: right;\">\n",
              "      <th></th>\n",
              "      <th>VendorID</th>\n",
              "      <th>tpep_pickup_datetime</th>\n",
              "      <th>tpep_dropoff_datetime</th>\n",
              "      <th>passenger_count</th>\n",
              "      <th>trip_distance</th>\n",
              "      <th>RatecodeID</th>\n",
              "      <th>store_and_fwd_flag</th>\n",
              "      <th>PULocationID</th>\n",
              "      <th>DOLocationID</th>\n",
              "      <th>payment_type</th>\n",
              "      <th>fare_amount</th>\n",
              "      <th>extra</th>\n",
              "      <th>mta_tax</th>\n",
              "      <th>tip_amount</th>\n",
              "      <th>tolls_amount</th>\n",
              "      <th>improvement_surcharge</th>\n",
              "      <th>total_amount</th>\n",
              "      <th>congestion_surcharge</th>\n",
              "      <th>trip_duration</th>\n",
              "      <th>speed</th>\n",
              "      <th>PULatitude</th>\n",
              "      <th>PULongitude</th>\n",
              "      <th>DOLatitude</th>\n",
              "      <th>DOLongitude</th>\n",
              "    </tr>\n",
              "  </thead>\n",
              "  <tbody>\n",
              "    <tr>\n",
              "      <th>0</th>\n",
              "      <td>1.0</td>\n",
              "      <td>2020-03-01 00:31:13</td>\n",
              "      <td>2020-03-01 01:01:42</td>\n",
              "      <td>1.0</td>\n",
              "      <td>4.70</td>\n",
              "      <td>1.0</td>\n",
              "      <td>N</td>\n",
              "      <td>88</td>\n",
              "      <td>255</td>\n",
              "      <td>1.0</td>\n",
              "      <td>22.00</td>\n",
              "      <td>3.0</td>\n",
              "      <td>0.5</td>\n",
              "      <td>2.00</td>\n",
              "      <td>0.00</td>\n",
              "      <td>0.3</td>\n",
              "      <td>27.80</td>\n",
              "      <td>2.5</td>\n",
              "      <td>30.483333</td>\n",
              "      <td>9.250957</td>\n",
              "      <td>40.707612</td>\n",
              "      <td>-74.009378</td>\n",
              "      <td>40.714622</td>\n",
              "      <td>-73.953450</td>\n",
              "    </tr>\n",
              "    <tr>\n",
              "      <th>1</th>\n",
              "      <td>1.0</td>\n",
              "      <td>2020-03-01 00:05:44</td>\n",
              "      <td>2020-03-01 00:19:54</td>\n",
              "      <td>2.0</td>\n",
              "      <td>8.00</td>\n",
              "      <td>1.0</td>\n",
              "      <td>N</td>\n",
              "      <td>88</td>\n",
              "      <td>263</td>\n",
              "      <td>2.0</td>\n",
              "      <td>23.50</td>\n",
              "      <td>3.0</td>\n",
              "      <td>0.5</td>\n",
              "      <td>0.00</td>\n",
              "      <td>0.00</td>\n",
              "      <td>0.3</td>\n",
              "      <td>27.30</td>\n",
              "      <td>2.5</td>\n",
              "      <td>14.166667</td>\n",
              "      <td>33.882353</td>\n",
              "      <td>40.707612</td>\n",
              "      <td>-74.009378</td>\n",
              "      <td>40.778007</td>\n",
              "      <td>-73.948202</td>\n",
              "    </tr>\n",
              "    <tr>\n",
              "      <th>2</th>\n",
              "      <td>2.0</td>\n",
              "      <td>2020-03-01 00:27:15</td>\n",
              "      <td>2020-03-01 00:47:22</td>\n",
              "      <td>2.0</td>\n",
              "      <td>3.34</td>\n",
              "      <td>1.0</td>\n",
              "      <td>N</td>\n",
              "      <td>88</td>\n",
              "      <td>170</td>\n",
              "      <td>1.0</td>\n",
              "      <td>14.50</td>\n",
              "      <td>0.5</td>\n",
              "      <td>0.5</td>\n",
              "      <td>3.66</td>\n",
              "      <td>0.00</td>\n",
              "      <td>0.3</td>\n",
              "      <td>21.96</td>\n",
              "      <td>2.5</td>\n",
              "      <td>20.116667</td>\n",
              "      <td>9.961889</td>\n",
              "      <td>40.707612</td>\n",
              "      <td>-74.009378</td>\n",
              "      <td>38.290348</td>\n",
              "      <td>-85.588294</td>\n",
              "    </tr>\n",
              "    <tr>\n",
              "      <th>3</th>\n",
              "      <td>1.0</td>\n",
              "      <td>2020-03-01 00:29:40</td>\n",
              "      <td>2020-03-01 00:42:38</td>\n",
              "      <td>2.0</td>\n",
              "      <td>3.60</td>\n",
              "      <td>1.0</td>\n",
              "      <td>N</td>\n",
              "      <td>88</td>\n",
              "      <td>79</td>\n",
              "      <td>2.0</td>\n",
              "      <td>13.50</td>\n",
              "      <td>3.0</td>\n",
              "      <td>0.5</td>\n",
              "      <td>0.00</td>\n",
              "      <td>0.00</td>\n",
              "      <td>0.3</td>\n",
              "      <td>17.30</td>\n",
              "      <td>2.5</td>\n",
              "      <td>12.966667</td>\n",
              "      <td>16.658098</td>\n",
              "      <td>40.707612</td>\n",
              "      <td>-74.009378</td>\n",
              "      <td>40.729269</td>\n",
              "      <td>-73.987361</td>\n",
              "    </tr>\n",
              "    <tr>\n",
              "      <th>4</th>\n",
              "      <td>1.0</td>\n",
              "      <td>2020-03-01 00:41:27</td>\n",
              "      <td>2020-03-01 00:57:10</td>\n",
              "      <td>2.0</td>\n",
              "      <td>2.90</td>\n",
              "      <td>1.0</td>\n",
              "      <td>N</td>\n",
              "      <td>88</td>\n",
              "      <td>249</td>\n",
              "      <td>1.0</td>\n",
              "      <td>13.00</td>\n",
              "      <td>3.0</td>\n",
              "      <td>0.5</td>\n",
              "      <td>3.35</td>\n",
              "      <td>0.00</td>\n",
              "      <td>0.3</td>\n",
              "      <td>20.15</td>\n",
              "      <td>2.5</td>\n",
              "      <td>15.716667</td>\n",
              "      <td>11.071050</td>\n",
              "      <td>40.707612</td>\n",
              "      <td>-74.009378</td>\n",
              "      <td>40.734186</td>\n",
              "      <td>-74.005580</td>\n",
              "    </tr>\n",
              "    <tr>\n",
              "      <th>...</th>\n",
              "      <td>...</td>\n",
              "      <td>...</td>\n",
              "      <td>...</td>\n",
              "      <td>...</td>\n",
              "      <td>...</td>\n",
              "      <td>...</td>\n",
              "      <td>...</td>\n",
              "      <td>...</td>\n",
              "      <td>...</td>\n",
              "      <td>...</td>\n",
              "      <td>...</td>\n",
              "      <td>...</td>\n",
              "      <td>...</td>\n",
              "      <td>...</td>\n",
              "      <td>...</td>\n",
              "      <td>...</td>\n",
              "      <td>...</td>\n",
              "      <td>...</td>\n",
              "      <td>...</td>\n",
              "      <td>...</td>\n",
              "      <td>...</td>\n",
              "      <td>...</td>\n",
              "      <td>...</td>\n",
              "      <td>...</td>\n",
              "    </tr>\n",
              "    <tr>\n",
              "      <th>2923793</th>\n",
              "      <td>NaN</td>\n",
              "      <td>2020-03-09 17:30:00</td>\n",
              "      <td>2020-03-09 18:10:00</td>\n",
              "      <td>NaN</td>\n",
              "      <td>17.22</td>\n",
              "      <td>NaN</td>\n",
              "      <td>NaN</td>\n",
              "      <td>27</td>\n",
              "      <td>139</td>\n",
              "      <td>NaN</td>\n",
              "      <td>51.97</td>\n",
              "      <td>0.0</td>\n",
              "      <td>0.5</td>\n",
              "      <td>0.00</td>\n",
              "      <td>2.29</td>\n",
              "      <td>0.3</td>\n",
              "      <td>55.06</td>\n",
              "      <td>0.0</td>\n",
              "      <td>40.000000</td>\n",
              "      <td>25.830000</td>\n",
              "      <td>46.616630</td>\n",
              "      <td>-94.216935</td>\n",
              "      <td>40.666770</td>\n",
              "      <td>-73.751521</td>\n",
              "    </tr>\n",
              "    <tr>\n",
              "      <th>2923794</th>\n",
              "      <td>NaN</td>\n",
              "      <td>2020-03-10 10:00:00</td>\n",
              "      <td>2020-03-10 10:20:00</td>\n",
              "      <td>NaN</td>\n",
              "      <td>7.72</td>\n",
              "      <td>NaN</td>\n",
              "      <td>NaN</td>\n",
              "      <td>27</td>\n",
              "      <td>91</td>\n",
              "      <td>NaN</td>\n",
              "      <td>21.40</td>\n",
              "      <td>0.0</td>\n",
              "      <td>0.5</td>\n",
              "      <td>0.00</td>\n",
              "      <td>2.29</td>\n",
              "      <td>0.3</td>\n",
              "      <td>24.49</td>\n",
              "      <td>0.0</td>\n",
              "      <td>20.000000</td>\n",
              "      <td>23.160000</td>\n",
              "      <td>46.616630</td>\n",
              "      <td>-94.216935</td>\n",
              "      <td>40.621215</td>\n",
              "      <td>-73.934860</td>\n",
              "    </tr>\n",
              "    <tr>\n",
              "      <th>2923795</th>\n",
              "      <td>NaN</td>\n",
              "      <td>2020-03-17 06:48:00</td>\n",
              "      <td>2020-03-17 07:35:00</td>\n",
              "      <td>NaN</td>\n",
              "      <td>28.89</td>\n",
              "      <td>NaN</td>\n",
              "      <td>NaN</td>\n",
              "      <td>27</td>\n",
              "      <td>32</td>\n",
              "      <td>NaN</td>\n",
              "      <td>71.55</td>\n",
              "      <td>0.0</td>\n",
              "      <td>0.5</td>\n",
              "      <td>0.00</td>\n",
              "      <td>10.70</td>\n",
              "      <td>0.3</td>\n",
              "      <td>83.05</td>\n",
              "      <td>0.0</td>\n",
              "      <td>47.000000</td>\n",
              "      <td>36.880851</td>\n",
              "      <td>46.616630</td>\n",
              "      <td>-94.216935</td>\n",
              "      <td>40.826378</td>\n",
              "      <td>-73.867196</td>\n",
              "    </tr>\n",
              "    <tr>\n",
              "      <th>2923796</th>\n",
              "      <td>NaN</td>\n",
              "      <td>2020-03-11 12:37:26</td>\n",
              "      <td>2020-03-11 13:15:09</td>\n",
              "      <td>NaN</td>\n",
              "      <td>23.55</td>\n",
              "      <td>NaN</td>\n",
              "      <td>NaN</td>\n",
              "      <td>245</td>\n",
              "      <td>179</td>\n",
              "      <td>NaN</td>\n",
              "      <td>60.98</td>\n",
              "      <td>0.0</td>\n",
              "      <td>0.0</td>\n",
              "      <td>0.00</td>\n",
              "      <td>25.99</td>\n",
              "      <td>0.3</td>\n",
              "      <td>89.22</td>\n",
              "      <td>0.0</td>\n",
              "      <td>37.716667</td>\n",
              "      <td>37.463544</td>\n",
              "      <td>40.578087</td>\n",
              "      <td>-73.974925</td>\n",
              "      <td>46.187885</td>\n",
              "      <td>-123.831256</td>\n",
              "    </tr>\n",
              "    <tr>\n",
              "      <th>2923797</th>\n",
              "      <td>NaN</td>\n",
              "      <td>2020-03-19 14:12:00</td>\n",
              "      <td>2020-03-19 14:37:00</td>\n",
              "      <td>NaN</td>\n",
              "      <td>6.00</td>\n",
              "      <td>NaN</td>\n",
              "      <td>NaN</td>\n",
              "      <td>251</td>\n",
              "      <td>156</td>\n",
              "      <td>NaN</td>\n",
              "      <td>22.10</td>\n",
              "      <td>0.0</td>\n",
              "      <td>0.5</td>\n",
              "      <td>0.00</td>\n",
              "      <td>0.00</td>\n",
              "      <td>0.3</td>\n",
              "      <td>24.85</td>\n",
              "      <td>0.0</td>\n",
              "      <td>25.000000</td>\n",
              "      <td>14.400000</td>\n",
              "      <td>51.516541</td>\n",
              "      <td>-2.434635</td>\n",
              "      <td>40.636770</td>\n",
              "      <td>-74.158755</td>\n",
              "    </tr>\n",
              "  </tbody>\n",
              "</table>\n",
              "<p>2923798 rows × 24 columns</p>\n",
              "</div>"
            ],
            "text/plain": [
              "         VendorID tpep_pickup_datetime  ... DOLatitude  DOLongitude\n",
              "0             1.0  2020-03-01 00:31:13  ...  40.714622   -73.953450\n",
              "1             1.0  2020-03-01 00:05:44  ...  40.778007   -73.948202\n",
              "2             2.0  2020-03-01 00:27:15  ...  38.290348   -85.588294\n",
              "3             1.0  2020-03-01 00:29:40  ...  40.729269   -73.987361\n",
              "4             1.0  2020-03-01 00:41:27  ...  40.734186   -74.005580\n",
              "...           ...                  ...  ...        ...          ...\n",
              "2923793       NaN  2020-03-09 17:30:00  ...  40.666770   -73.751521\n",
              "2923794       NaN  2020-03-10 10:00:00  ...  40.621215   -73.934860\n",
              "2923795       NaN  2020-03-17 06:48:00  ...  40.826378   -73.867196\n",
              "2923796       NaN  2020-03-11 12:37:26  ...  46.187885  -123.831256\n",
              "2923797       NaN  2020-03-19 14:12:00  ...  40.636770   -74.158755\n",
              "\n",
              "[2923798 rows x 24 columns]"
            ]
          },
          "metadata": {
            "tags": []
          },
          "execution_count": 53
        }
      ]
    },
    {
      "cell_type": "code",
      "metadata": {
        "id": "LCNup20IUIw6"
      },
      "source": [
        "#(40.5774, -74.15) & (40.9176,-73.7004)"
      ],
      "execution_count": 54,
      "outputs": []
    },
    {
      "cell_type": "code",
      "metadata": {
        "id": "iet6STf5Pji4",
        "colab": {
          "base_uri": "https://localhost:8080/"
        },
        "outputId": "02888d64-478e-4da2-b27c-d9bcf6b5efb3"
      },
      "source": [
        "Main_df = Main_df[(Main_df['total_amount']>0) & (Main_df['total_amount']<= 585.2633575955033)]\n",
        "print(Main_df)"
      ],
      "execution_count": 55,
      "outputs": [
        {
          "output_type": "stream",
          "text": [
            "         VendorID tpep_pickup_datetime  ... trip_duration      speed\n",
            "0             1.0  2020-03-01 00:31:13  ...     30.483333   9.250957\n",
            "2             1.0  2020-03-01 00:52:18  ...      6.966667   9.473684\n",
            "3             2.0  2020-03-01 00:47:53  ...      3.066667  17.021739\n",
            "4             1.0  2020-03-01 00:43:19  ...     15.133333  17.444934\n",
            "5             1.0  2020-03-01 00:04:43  ...     18.566667  11.310592\n",
            "...           ...                  ...  ...           ...        ...\n",
            "3007287       NaN  2020-03-31 23:21:00  ...     12.000000  27.150000\n",
            "3007288       NaN  2020-03-31 23:57:00  ...     29.000000  27.331034\n",
            "3007289       NaN  2020-03-31 23:22:01  ...     21.850000  33.336384\n",
            "3007290       NaN  2020-03-31 23:18:53  ...     13.466667  31.232673\n",
            "3007291       NaN  2020-03-31 23:11:00  ...     19.000000  19.926316\n",
            "\n",
            "[2923798 rows x 20 columns]\n"
          ],
          "name": "stdout"
        }
      ]
    },
    {
      "cell_type": "code",
      "metadata": {
        "id": "BOsZ352RO9-f"
      },
      "source": [
        "Main_df_loc_DO_Updated_loc = Main_df_loc_DO_Updated[((Main_df_loc_DO_Updated['PULatitude']>40.5774) & (Main_df_loc_DO_Updated['DOLatitude']<40.9176)\\\n",
        "                                                      & (Main_df_loc_DO_Updated['PULongitude']>-74.15) & (Main_df_loc_DO_Updated['PULongitude']<-73.7004))]"
      ],
      "execution_count": 56,
      "outputs": []
    },
    {
      "cell_type": "code",
      "metadata": {
        "id": "MGGyLx8eR_W7"
      },
      "source": [
        "#Data Clustering\n",
        "from sklearn.cluster import KMeans\n",
        "from sklearn.metrics import silhouette_samples, silhouette_score"
      ],
      "execution_count": 57,
      "outputs": []
    },
    {
      "cell_type": "code",
      "metadata": {
        "id": "qeB2HpKhWjkr",
        "colab": {
          "base_uri": "https://localhost:8080/"
        },
        "outputId": "3cc6d626-3ad1-4294-e810-4784cc4bf6f0"
      },
      "source": [
        "!pip install haversine\n",
        "!pip install gpxpy"
      ],
      "execution_count": 58,
      "outputs": [
        {
          "output_type": "stream",
          "text": [
            "Collecting haversine\n",
            "  Downloading https://files.pythonhosted.org/packages/f4/52/a13286844780c7b1740edbbee8a8f0524e2a6d51c068b59dda39a6a119f5/haversine-2.3.0-py2.py3-none-any.whl\n",
            "Installing collected packages: haversine\n",
            "Successfully installed haversine-2.3.0\n",
            "Collecting gpxpy\n",
            "\u001b[?25l  Downloading https://files.pythonhosted.org/packages/dd/23/a1c04fb3ea8d57d4b46cf2956c99a62dfbe009bbe091babeef90cc3d0ef6/gpxpy-1.4.2.tar.gz (105kB)\n",
            "\u001b[K     |████████████████████████████████| 112kB 9.0MB/s \n",
            "\u001b[?25hBuilding wheels for collected packages: gpxpy\n",
            "  Building wheel for gpxpy (setup.py) ... \u001b[?25l\u001b[?25hdone\n",
            "  Created wheel for gpxpy: filename=gpxpy-1.4.2-cp36-none-any.whl size=42547 sha256=c620a69c74316edf36e1130a69f6f24b2d473e80d14c0642519404dfcb3664ac\n",
            "  Stored in directory: /root/.cache/pip/wheels/d9/df/ed/b52985999b3967fa0ef8de22b3dc8ad3494ce3380d5328dd0f\n",
            "Successfully built gpxpy\n",
            "Installing collected packages: gpxpy\n",
            "Successfully installed gpxpy-1.4.2\n"
          ],
          "name": "stdout"
        }
      ]
    },
    {
      "cell_type": "code",
      "metadata": {
        "id": "V_cQc4K0Wj7f"
      },
      "source": [
        "import geopy.distance\n",
        "import haversine\n",
        "import gpxpy"
      ],
      "execution_count": 59,
      "outputs": []
    },
    {
      "cell_type": "code",
      "metadata": {
        "id": "8Q-cfF-cWbFx"
      },
      "source": [
        "from sklearn.cluster import KMeans"
      ],
      "execution_count": 60,
      "outputs": []
    },
    {
      "cell_type": "code",
      "metadata": {
        "id": "AsicIp3lWkBW"
      },
      "source": [
        "loc_coords = Main_df_loc_DO_Updated_loc[['PULatitude', 'PULongitude']].values\n",
        "kmeans = KMeans(n_clusters=30,random_state=0).fit(loc_coords)\n",
        "Main_df_loc_DO_Updated['pickup_cluster_formed'] = kmeans.predict(Main_df_loc_DO_Updated[['PULatitude', 'PULongitude']])"
      ],
      "execution_count": 61,
      "outputs": []
    },
    {
      "cell_type": "code",
      "metadata": {
        "id": "wPq-bHkJS83T"
      },
      "source": [
        "import folium\n",
        "global str\n"
      ],
      "execution_count": 62,
      "outputs": []
    },
    {
      "cell_type": "code",
      "metadata": {
        "id": "vUDhpqecS0kS",
        "colab": {
          "base_uri": "https://localhost:8080/",
          "height": 866
        },
        "outputId": "725f9174-e537-4203-93df-089835c52913"
      },
      "source": [
        "# Plotting the cluster centers on OSM\n",
        "cluster_centers = kmeans.cluster_centers_\n",
        "map_osm = folium.Map(location=[40.734695, -73.990372], tiles='Stamen Toner')\n",
        "for i in range(len(cluster_centers)):\n",
        "    folium.Marker(list((cluster_centers[i][0],cluster_centers[i][1]))).add_to(map_osm)\n",
        "map_osm"
      ],
      "execution_count": 63,
      "outputs": [
        {
          "output_type": "execute_result",
          "data": {
            "text/html": [
              "<div style=\"width:100%;\"><div style=\"position:relative;width:100%;height:0;padding-bottom:60%;\"><span style=\"color:#565656\">Make this Notebook Trusted to load map: File -> Trust Notebook</span><iframe src=\"about:blank\" style=\"position:absolute;width:100%;height:100%;left:0;top:0;border:none !important;\" data-html=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 onload=\"this.contentDocument.open();this.contentDocument.write(atob(this.getAttribute('data-html')));this.contentDocument.close();\" allowfullscreen webkitallowfullscreen mozallowfullscreen></iframe></div></div>"
            ],
            "text/plain": [
              "<folium.folium.Map at 0x7ff4aa6fcdd8>"
            ]
          },
          "metadata": {
            "tags": []
          },
          "execution_count": 63
        }
      ]
    },
    {
      "cell_type": "code",
      "metadata": {
        "id": "Cn6NE9CRu3V0",
        "colab": {
          "base_uri": "https://localhost:8080/"
        },
        "outputId": "d47d3f22-43d1-4464-eeee-e149e5c0cf95"
      },
      "source": [
        "Main_df_loc_DO_Updated['pickup_cluster_formed'].unique()"
      ],
      "execution_count": 64,
      "outputs": [
        {
          "output_type": "execute_result",
          "data": {
            "text/plain": [
              "array([ 6, 25, 26, 24, 11,  7, 14,  3,  9, 15, 29,  2, 12,  0, 16,  4,  5,\n",
              "        8, 10, 13, 28,  1, 21, 20, 27, 19, 23, 17, 22, 18], dtype=int32)"
            ]
          },
          "metadata": {
            "tags": []
          },
          "execution_count": 64
        }
      ]
    },
    {
      "cell_type": "code",
      "metadata": {
        "id": "sZHORc5E0ooC",
        "colab": {
          "base_uri": "https://localhost:8080/",
          "height": 422
        },
        "outputId": "075dba80-35ae-45db-9f1a-3113a795b3a9"
      },
      "source": [
        "Main_df_loc_DO_Updated"
      ],
      "execution_count": 65,
      "outputs": [
        {
          "output_type": "execute_result",
          "data": {
            "text/html": [
              "<div>\n",
              "<style scoped>\n",
              "    .dataframe tbody tr th:only-of-type {\n",
              "        vertical-align: middle;\n",
              "    }\n",
              "\n",
              "    .dataframe tbody tr th {\n",
              "        vertical-align: top;\n",
              "    }\n",
              "\n",
              "    .dataframe thead th {\n",
              "        text-align: right;\n",
              "    }\n",
              "</style>\n",
              "<table border=\"1\" class=\"dataframe\">\n",
              "  <thead>\n",
              "    <tr style=\"text-align: right;\">\n",
              "      <th></th>\n",
              "      <th>VendorID</th>\n",
              "      <th>tpep_pickup_datetime</th>\n",
              "      <th>tpep_dropoff_datetime</th>\n",
              "      <th>passenger_count</th>\n",
              "      <th>trip_distance</th>\n",
              "      <th>RatecodeID</th>\n",
              "      <th>store_and_fwd_flag</th>\n",
              "      <th>PULocationID</th>\n",
              "      <th>DOLocationID</th>\n",
              "      <th>payment_type</th>\n",
              "      <th>fare_amount</th>\n",
              "      <th>extra</th>\n",
              "      <th>mta_tax</th>\n",
              "      <th>tip_amount</th>\n",
              "      <th>tolls_amount</th>\n",
              "      <th>improvement_surcharge</th>\n",
              "      <th>total_amount</th>\n",
              "      <th>congestion_surcharge</th>\n",
              "      <th>trip_duration</th>\n",
              "      <th>speed</th>\n",
              "      <th>PULatitude</th>\n",
              "      <th>PULongitude</th>\n",
              "      <th>DOLatitude</th>\n",
              "      <th>DOLongitude</th>\n",
              "      <th>pickup_cluster_formed</th>\n",
              "    </tr>\n",
              "  </thead>\n",
              "  <tbody>\n",
              "    <tr>\n",
              "      <th>0</th>\n",
              "      <td>1.0</td>\n",
              "      <td>2020-03-01 00:31:13</td>\n",
              "      <td>2020-03-01 01:01:42</td>\n",
              "      <td>1.0</td>\n",
              "      <td>4.70</td>\n",
              "      <td>1.0</td>\n",
              "      <td>N</td>\n",
              "      <td>88</td>\n",
              "      <td>255</td>\n",
              "      <td>1.0</td>\n",
              "      <td>22.00</td>\n",
              "      <td>3.0</td>\n",
              "      <td>0.5</td>\n",
              "      <td>2.00</td>\n",
              "      <td>0.00</td>\n",
              "      <td>0.3</td>\n",
              "      <td>27.80</td>\n",
              "      <td>2.5</td>\n",
              "      <td>30.483333</td>\n",
              "      <td>9.250957</td>\n",
              "      <td>40.707612</td>\n",
              "      <td>-74.009378</td>\n",
              "      <td>40.714622</td>\n",
              "      <td>-73.953450</td>\n",
              "      <td>6</td>\n",
              "    </tr>\n",
              "    <tr>\n",
              "      <th>1</th>\n",
              "      <td>1.0</td>\n",
              "      <td>2020-03-01 00:05:44</td>\n",
              "      <td>2020-03-01 00:19:54</td>\n",
              "      <td>2.0</td>\n",
              "      <td>8.00</td>\n",
              "      <td>1.0</td>\n",
              "      <td>N</td>\n",
              "      <td>88</td>\n",
              "      <td>263</td>\n",
              "      <td>2.0</td>\n",
              "      <td>23.50</td>\n",
              "      <td>3.0</td>\n",
              "      <td>0.5</td>\n",
              "      <td>0.00</td>\n",
              "      <td>0.00</td>\n",
              "      <td>0.3</td>\n",
              "      <td>27.30</td>\n",
              "      <td>2.5</td>\n",
              "      <td>14.166667</td>\n",
              "      <td>33.882353</td>\n",
              "      <td>40.707612</td>\n",
              "      <td>-74.009378</td>\n",
              "      <td>40.778007</td>\n",
              "      <td>-73.948202</td>\n",
              "      <td>6</td>\n",
              "    </tr>\n",
              "    <tr>\n",
              "      <th>2</th>\n",
              "      <td>2.0</td>\n",
              "      <td>2020-03-01 00:27:15</td>\n",
              "      <td>2020-03-01 00:47:22</td>\n",
              "      <td>2.0</td>\n",
              "      <td>3.34</td>\n",
              "      <td>1.0</td>\n",
              "      <td>N</td>\n",
              "      <td>88</td>\n",
              "      <td>170</td>\n",
              "      <td>1.0</td>\n",
              "      <td>14.50</td>\n",
              "      <td>0.5</td>\n",
              "      <td>0.5</td>\n",
              "      <td>3.66</td>\n",
              "      <td>0.00</td>\n",
              "      <td>0.3</td>\n",
              "      <td>21.96</td>\n",
              "      <td>2.5</td>\n",
              "      <td>20.116667</td>\n",
              "      <td>9.961889</td>\n",
              "      <td>40.707612</td>\n",
              "      <td>-74.009378</td>\n",
              "      <td>38.290348</td>\n",
              "      <td>-85.588294</td>\n",
              "      <td>6</td>\n",
              "    </tr>\n",
              "    <tr>\n",
              "      <th>3</th>\n",
              "      <td>1.0</td>\n",
              "      <td>2020-03-01 00:29:40</td>\n",
              "      <td>2020-03-01 00:42:38</td>\n",
              "      <td>2.0</td>\n",
              "      <td>3.60</td>\n",
              "      <td>1.0</td>\n",
              "      <td>N</td>\n",
              "      <td>88</td>\n",
              "      <td>79</td>\n",
              "      <td>2.0</td>\n",
              "      <td>13.50</td>\n",
              "      <td>3.0</td>\n",
              "      <td>0.5</td>\n",
              "      <td>0.00</td>\n",
              "      <td>0.00</td>\n",
              "      <td>0.3</td>\n",
              "      <td>17.30</td>\n",
              "      <td>2.5</td>\n",
              "      <td>12.966667</td>\n",
              "      <td>16.658098</td>\n",
              "      <td>40.707612</td>\n",
              "      <td>-74.009378</td>\n",
              "      <td>40.729269</td>\n",
              "      <td>-73.987361</td>\n",
              "      <td>6</td>\n",
              "    </tr>\n",
              "    <tr>\n",
              "      <th>4</th>\n",
              "      <td>1.0</td>\n",
              "      <td>2020-03-01 00:41:27</td>\n",
              "      <td>2020-03-01 00:57:10</td>\n",
              "      <td>2.0</td>\n",
              "      <td>2.90</td>\n",
              "      <td>1.0</td>\n",
              "      <td>N</td>\n",
              "      <td>88</td>\n",
              "      <td>249</td>\n",
              "      <td>1.0</td>\n",
              "      <td>13.00</td>\n",
              "      <td>3.0</td>\n",
              "      <td>0.5</td>\n",
              "      <td>3.35</td>\n",
              "      <td>0.00</td>\n",
              "      <td>0.3</td>\n",
              "      <td>20.15</td>\n",
              "      <td>2.5</td>\n",
              "      <td>15.716667</td>\n",
              "      <td>11.071050</td>\n",
              "      <td>40.707612</td>\n",
              "      <td>-74.009378</td>\n",
              "      <td>40.734186</td>\n",
              "      <td>-74.005580</td>\n",
              "      <td>6</td>\n",
              "    </tr>\n",
              "    <tr>\n",
              "      <th>...</th>\n",
              "      <td>...</td>\n",
              "      <td>...</td>\n",
              "      <td>...</td>\n",
              "      <td>...</td>\n",
              "      <td>...</td>\n",
              "      <td>...</td>\n",
              "      <td>...</td>\n",
              "      <td>...</td>\n",
              "      <td>...</td>\n",
              "      <td>...</td>\n",
              "      <td>...</td>\n",
              "      <td>...</td>\n",
              "      <td>...</td>\n",
              "      <td>...</td>\n",
              "      <td>...</td>\n",
              "      <td>...</td>\n",
              "      <td>...</td>\n",
              "      <td>...</td>\n",
              "      <td>...</td>\n",
              "      <td>...</td>\n",
              "      <td>...</td>\n",
              "      <td>...</td>\n",
              "      <td>...</td>\n",
              "      <td>...</td>\n",
              "      <td>...</td>\n",
              "    </tr>\n",
              "    <tr>\n",
              "      <th>2923793</th>\n",
              "      <td>NaN</td>\n",
              "      <td>2020-03-09 17:30:00</td>\n",
              "      <td>2020-03-09 18:10:00</td>\n",
              "      <td>NaN</td>\n",
              "      <td>17.22</td>\n",
              "      <td>NaN</td>\n",
              "      <td>NaN</td>\n",
              "      <td>27</td>\n",
              "      <td>139</td>\n",
              "      <td>NaN</td>\n",
              "      <td>51.97</td>\n",
              "      <td>0.0</td>\n",
              "      <td>0.5</td>\n",
              "      <td>0.00</td>\n",
              "      <td>2.29</td>\n",
              "      <td>0.3</td>\n",
              "      <td>55.06</td>\n",
              "      <td>0.0</td>\n",
              "      <td>40.000000</td>\n",
              "      <td>25.830000</td>\n",
              "      <td>46.616630</td>\n",
              "      <td>-94.216935</td>\n",
              "      <td>40.666770</td>\n",
              "      <td>-73.751521</td>\n",
              "      <td>25</td>\n",
              "    </tr>\n",
              "    <tr>\n",
              "      <th>2923794</th>\n",
              "      <td>NaN</td>\n",
              "      <td>2020-03-10 10:00:00</td>\n",
              "      <td>2020-03-10 10:20:00</td>\n",
              "      <td>NaN</td>\n",
              "      <td>7.72</td>\n",
              "      <td>NaN</td>\n",
              "      <td>NaN</td>\n",
              "      <td>27</td>\n",
              "      <td>91</td>\n",
              "      <td>NaN</td>\n",
              "      <td>21.40</td>\n",
              "      <td>0.0</td>\n",
              "      <td>0.5</td>\n",
              "      <td>0.00</td>\n",
              "      <td>2.29</td>\n",
              "      <td>0.3</td>\n",
              "      <td>24.49</td>\n",
              "      <td>0.0</td>\n",
              "      <td>20.000000</td>\n",
              "      <td>23.160000</td>\n",
              "      <td>46.616630</td>\n",
              "      <td>-94.216935</td>\n",
              "      <td>40.621215</td>\n",
              "      <td>-73.934860</td>\n",
              "      <td>25</td>\n",
              "    </tr>\n",
              "    <tr>\n",
              "      <th>2923795</th>\n",
              "      <td>NaN</td>\n",
              "      <td>2020-03-17 06:48:00</td>\n",
              "      <td>2020-03-17 07:35:00</td>\n",
              "      <td>NaN</td>\n",
              "      <td>28.89</td>\n",
              "      <td>NaN</td>\n",
              "      <td>NaN</td>\n",
              "      <td>27</td>\n",
              "      <td>32</td>\n",
              "      <td>NaN</td>\n",
              "      <td>71.55</td>\n",
              "      <td>0.0</td>\n",
              "      <td>0.5</td>\n",
              "      <td>0.00</td>\n",
              "      <td>10.70</td>\n",
              "      <td>0.3</td>\n",
              "      <td>83.05</td>\n",
              "      <td>0.0</td>\n",
              "      <td>47.000000</td>\n",
              "      <td>36.880851</td>\n",
              "      <td>46.616630</td>\n",
              "      <td>-94.216935</td>\n",
              "      <td>40.826378</td>\n",
              "      <td>-73.867196</td>\n",
              "      <td>25</td>\n",
              "    </tr>\n",
              "    <tr>\n",
              "      <th>2923796</th>\n",
              "      <td>NaN</td>\n",
              "      <td>2020-03-11 12:37:26</td>\n",
              "      <td>2020-03-11 13:15:09</td>\n",
              "      <td>NaN</td>\n",
              "      <td>23.55</td>\n",
              "      <td>NaN</td>\n",
              "      <td>NaN</td>\n",
              "      <td>245</td>\n",
              "      <td>179</td>\n",
              "      <td>NaN</td>\n",
              "      <td>60.98</td>\n",
              "      <td>0.0</td>\n",
              "      <td>0.0</td>\n",
              "      <td>0.00</td>\n",
              "      <td>25.99</td>\n",
              "      <td>0.3</td>\n",
              "      <td>89.22</td>\n",
              "      <td>0.0</td>\n",
              "      <td>37.716667</td>\n",
              "      <td>37.463544</td>\n",
              "      <td>40.578087</td>\n",
              "      <td>-73.974925</td>\n",
              "      <td>46.187885</td>\n",
              "      <td>-123.831256</td>\n",
              "      <td>15</td>\n",
              "    </tr>\n",
              "    <tr>\n",
              "      <th>2923797</th>\n",
              "      <td>NaN</td>\n",
              "      <td>2020-03-19 14:12:00</td>\n",
              "      <td>2020-03-19 14:37:00</td>\n",
              "      <td>NaN</td>\n",
              "      <td>6.00</td>\n",
              "      <td>NaN</td>\n",
              "      <td>NaN</td>\n",
              "      <td>251</td>\n",
              "      <td>156</td>\n",
              "      <td>NaN</td>\n",
              "      <td>22.10</td>\n",
              "      <td>0.0</td>\n",
              "      <td>0.5</td>\n",
              "      <td>0.00</td>\n",
              "      <td>0.00</td>\n",
              "      <td>0.3</td>\n",
              "      <td>24.85</td>\n",
              "      <td>0.0</td>\n",
              "      <td>25.000000</td>\n",
              "      <td>14.400000</td>\n",
              "      <td>51.516541</td>\n",
              "      <td>-2.434635</td>\n",
              "      <td>40.636770</td>\n",
              "      <td>-74.158755</td>\n",
              "      <td>3</td>\n",
              "    </tr>\n",
              "  </tbody>\n",
              "</table>\n",
              "<p>2923798 rows × 25 columns</p>\n",
              "</div>"
            ],
            "text/plain": [
              "         VendorID tpep_pickup_datetime  ... DOLongitude  pickup_cluster_formed\n",
              "0             1.0  2020-03-01 00:31:13  ...  -73.953450                      6\n",
              "1             1.0  2020-03-01 00:05:44  ...  -73.948202                      6\n",
              "2             2.0  2020-03-01 00:27:15  ...  -85.588294                      6\n",
              "3             1.0  2020-03-01 00:29:40  ...  -73.987361                      6\n",
              "4             1.0  2020-03-01 00:41:27  ...  -74.005580                      6\n",
              "...           ...                  ...  ...         ...                    ...\n",
              "2923793       NaN  2020-03-09 17:30:00  ...  -73.751521                     25\n",
              "2923794       NaN  2020-03-10 10:00:00  ...  -73.934860                     25\n",
              "2923795       NaN  2020-03-17 06:48:00  ...  -73.867196                     25\n",
              "2923796       NaN  2020-03-11 12:37:26  ... -123.831256                     15\n",
              "2923797       NaN  2020-03-19 14:12:00  ...  -74.158755                      3\n",
              "\n",
              "[2923798 rows x 25 columns]"
            ]
          },
          "metadata": {
            "tags": []
          },
          "execution_count": 65
        }
      ]
    },
    {
      "cell_type": "code",
      "metadata": {
        "id": "sqDuNzMuJ5Xd",
        "colab": {
          "base_uri": "https://localhost:8080/",
          "height": 67
        },
        "outputId": "ec6bd168-bb86-499d-a365-711bc731c4e9"
      },
      "source": [
        "Main_df_loc_DO_Updated[(Main_df_loc_DO_Updated['tpep_pickup_datetime']=='2020-02-29 23:45:00')]"
      ],
      "execution_count": 66,
      "outputs": [
        {
          "output_type": "execute_result",
          "data": {
            "text/html": [
              "<div>\n",
              "<style scoped>\n",
              "    .dataframe tbody tr th:only-of-type {\n",
              "        vertical-align: middle;\n",
              "    }\n",
              "\n",
              "    .dataframe tbody tr th {\n",
              "        vertical-align: top;\n",
              "    }\n",
              "\n",
              "    .dataframe thead th {\n",
              "        text-align: right;\n",
              "    }\n",
              "</style>\n",
              "<table border=\"1\" class=\"dataframe\">\n",
              "  <thead>\n",
              "    <tr style=\"text-align: right;\">\n",
              "      <th></th>\n",
              "      <th>VendorID</th>\n",
              "      <th>tpep_pickup_datetime</th>\n",
              "      <th>tpep_dropoff_datetime</th>\n",
              "      <th>passenger_count</th>\n",
              "      <th>trip_distance</th>\n",
              "      <th>RatecodeID</th>\n",
              "      <th>store_and_fwd_flag</th>\n",
              "      <th>PULocationID</th>\n",
              "      <th>DOLocationID</th>\n",
              "      <th>payment_type</th>\n",
              "      <th>fare_amount</th>\n",
              "      <th>extra</th>\n",
              "      <th>mta_tax</th>\n",
              "      <th>tip_amount</th>\n",
              "      <th>tolls_amount</th>\n",
              "      <th>improvement_surcharge</th>\n",
              "      <th>total_amount</th>\n",
              "      <th>congestion_surcharge</th>\n",
              "      <th>trip_duration</th>\n",
              "      <th>speed</th>\n",
              "      <th>PULatitude</th>\n",
              "      <th>PULongitude</th>\n",
              "      <th>DOLatitude</th>\n",
              "      <th>DOLongitude</th>\n",
              "      <th>pickup_cluster_formed</th>\n",
              "    </tr>\n",
              "  </thead>\n",
              "  <tbody>\n",
              "  </tbody>\n",
              "</table>\n",
              "</div>"
            ],
            "text/plain": [
              "Empty DataFrame\n",
              "Columns: [VendorID, tpep_pickup_datetime, tpep_dropoff_datetime, passenger_count, trip_distance, RatecodeID, store_and_fwd_flag, PULocationID, DOLocationID, payment_type, fare_amount, extra, mta_tax, tip_amount, tolls_amount, improvement_surcharge, total_amount, congestion_surcharge, trip_duration, speed, PULatitude, PULongitude, DOLatitude, DOLongitude, pickup_cluster_formed]\n",
              "Index: []"
            ]
          },
          "metadata": {
            "tags": []
          },
          "execution_count": 66
        }
      ]
    },
    {
      "cell_type": "code",
      "metadata": {
        "id": "FJ2mlyosK2E1"
      },
      "source": [
        "#02/29/2020 @ 11:45pm (UTC)\n"
      ],
      "execution_count": 67,
      "outputs": []
    },
    {
      "cell_type": "code",
      "metadata": {
        "id": "zN7_cT8eSrnb",
        "colab": {
          "base_uri": "https://localhost:8080/"
        },
        "outputId": "db29a8f4-1817-475c-e312-8efb95b5a242"
      },
      "source": [
        "Main_df_loc_DO_Updated.columns"
      ],
      "execution_count": 68,
      "outputs": [
        {
          "output_type": "execute_result",
          "data": {
            "text/plain": [
              "Index(['VendorID', 'tpep_pickup_datetime', 'tpep_dropoff_datetime',\n",
              "       'passenger_count', 'trip_distance', 'RatecodeID', 'store_and_fwd_flag',\n",
              "       'PULocationID', 'DOLocationID', 'payment_type', 'fare_amount', 'extra',\n",
              "       'mta_tax', 'tip_amount', 'tolls_amount', 'improvement_surcharge',\n",
              "       'total_amount', 'congestion_surcharge', 'trip_duration', 'speed',\n",
              "       'PULatitude', 'PULongitude', 'DOLatitude', 'DOLongitude',\n",
              "       'pickup_cluster_formed'],\n",
              "      dtype='object')"
            ]
          },
          "metadata": {
            "tags": []
          },
          "execution_count": 68
        }
      ]
    },
    {
      "cell_type": "code",
      "metadata": {
        "id": "rFDVgkm-ycDz",
        "colab": {
          "base_uri": "https://localhost:8080/"
        },
        "outputId": "f227c242-4eb2-445e-c77f-fe5b0b39981b"
      },
      "source": [
        "!pip install dask[complete]"
      ],
      "execution_count": 69,
      "outputs": [
        {
          "output_type": "stream",
          "text": [
            "Requirement already satisfied: dask[complete] in /usr/local/lib/python3.6/dist-packages (2.12.0)\n",
            "Requirement already satisfied: cloudpickle>=0.2.1; extra == \"complete\" in /usr/local/lib/python3.6/dist-packages (from dask[complete]) (1.3.0)\n",
            "Requirement already satisfied: PyYaml; extra == \"complete\" in /usr/local/lib/python3.6/dist-packages (from dask[complete]) (3.13)\n",
            "Collecting partd>=0.3.10; extra == \"complete\"\n",
            "  Downloading https://files.pythonhosted.org/packages/44/e1/68dbe731c9c067655bff1eca5b7d40c20ca4b23fd5ec9f3d17e201a6f36b/partd-1.1.0-py3-none-any.whl\n",
            "Collecting distributed>=2.0; extra == \"complete\"\n",
            "\u001b[?25l  Downloading https://files.pythonhosted.org/packages/b5/12/3c25bb53c9b508e6332b62c33a8806ec7a33c926d8e32e7e53df0b512b84/distributed-2020.12.0-py3-none-any.whl (669kB)\n",
            "\u001b[K     |████████████████████████████████| 675kB 10.8MB/s \n",
            "\u001b[?25hRequirement already satisfied: numpy>=1.13.0; extra == \"complete\" in /usr/local/lib/python3.6/dist-packages (from dask[complete]) (1.19.4)\n",
            "Requirement already satisfied: bokeh>=1.0.0; extra == \"complete\" in /usr/local/lib/python3.6/dist-packages (from dask[complete]) (2.1.1)\n",
            "Requirement already satisfied: toolz>=0.7.3; extra == \"complete\" in /usr/local/lib/python3.6/dist-packages (from dask[complete]) (0.11.1)\n",
            "Collecting fsspec>=0.6.0; extra == \"complete\"\n",
            "\u001b[?25l  Downloading https://files.pythonhosted.org/packages/ec/80/72ac0982cc833945fada4b76c52f0f65435ba4d53bc9317d1c70b5f7e7d5/fsspec-0.8.5-py3-none-any.whl (98kB)\n",
            "\u001b[K     |████████████████████████████████| 102kB 11.8MB/s \n",
            "\u001b[?25hRequirement already satisfied: pandas>=0.23.0; extra == \"complete\" in /usr/local/lib/python3.6/dist-packages (from dask[complete]) (1.1.5)\n",
            "Collecting locket\n",
            "  Downloading https://files.pythonhosted.org/packages/d0/22/3c0f97614e0be8386542facb3a7dcfc2584f7b83608c02333bced641281c/locket-0.2.0.tar.gz\n",
            "Collecting contextvars; python_version < \"3.7\"\n",
            "  Downloading https://files.pythonhosted.org/packages/83/96/55b82d9f13763be9d672622e1b8106c85acb83edd7cc2fa5bc67cd9877e9/contextvars-2.4.tar.gz\n",
            "Requirement already satisfied: tornado>=5; python_version < \"3.8\" in /usr/local/lib/python3.6/dist-packages (from distributed>=2.0; extra == \"complete\"->dask[complete]) (5.1.1)\n",
            "Requirement already satisfied: msgpack>=0.6.0 in /usr/local/lib/python3.6/dist-packages (from distributed>=2.0; extra == \"complete\"->dask[complete]) (1.0.1)\n",
            "Requirement already satisfied: sortedcontainers!=2.0.0,!=2.0.1 in /usr/local/lib/python3.6/dist-packages (from distributed>=2.0; extra == \"complete\"->dask[complete]) (2.3.0)\n",
            "Requirement already satisfied: tblib>=1.6.0 in /usr/local/lib/python3.6/dist-packages (from distributed>=2.0; extra == \"complete\"->dask[complete]) (1.7.0)\n",
            "Requirement already satisfied: click>=6.6 in /usr/local/lib/python3.6/dist-packages (from distributed>=2.0; extra == \"complete\"->dask[complete]) (7.1.2)\n",
            "Requirement already satisfied: psutil>=5.0 in /usr/local/lib/python3.6/dist-packages (from distributed>=2.0; extra == \"complete\"->dask[complete]) (5.4.8)\n",
            "Requirement already satisfied: setuptools in /usr/local/lib/python3.6/dist-packages (from distributed>=2.0; extra == \"complete\"->dask[complete]) (50.3.2)\n",
            "Requirement already satisfied: zict>=0.1.3 in /usr/local/lib/python3.6/dist-packages (from distributed>=2.0; extra == \"complete\"->dask[complete]) (2.0.0)\n",
            "Requirement already satisfied: packaging>=16.8 in /usr/local/lib/python3.6/dist-packages (from bokeh>=1.0.0; extra == \"complete\"->dask[complete]) (20.8)\n",
            "Requirement already satisfied: pillow>=4.0 in /usr/local/lib/python3.6/dist-packages (from bokeh>=1.0.0; extra == \"complete\"->dask[complete]) (7.0.0)\n",
            "Requirement already satisfied: typing-extensions>=3.7.4 in /usr/local/lib/python3.6/dist-packages (from bokeh>=1.0.0; extra == \"complete\"->dask[complete]) (3.7.4.3)\n",
            "Requirement already satisfied: python-dateutil>=2.1 in /usr/local/lib/python3.6/dist-packages (from bokeh>=1.0.0; extra == \"complete\"->dask[complete]) (2.8.1)\n",
            "Requirement already satisfied: Jinja2>=2.7 in /usr/local/lib/python3.6/dist-packages (from bokeh>=1.0.0; extra == \"complete\"->dask[complete]) (2.11.2)\n",
            "Requirement already satisfied: pytz>=2017.2 in /usr/local/lib/python3.6/dist-packages (from pandas>=0.23.0; extra == \"complete\"->dask[complete]) (2018.9)\n",
            "Collecting immutables>=0.9\n",
            "\u001b[?25l  Downloading https://files.pythonhosted.org/packages/99/e0/ea6fd4697120327d26773b5a84853f897a68e33d3f9376b00a8ff96e4f63/immutables-0.14-cp36-cp36m-manylinux1_x86_64.whl (98kB)\n",
            "\u001b[K     |████████████████████████████████| 102kB 10.6MB/s \n",
            "\u001b[?25hRequirement already satisfied: heapdict in /usr/local/lib/python3.6/dist-packages (from zict>=0.1.3->distributed>=2.0; extra == \"complete\"->dask[complete]) (1.0.1)\n",
            "Requirement already satisfied: pyparsing>=2.0.2 in /usr/local/lib/python3.6/dist-packages (from packaging>=16.8->bokeh>=1.0.0; extra == \"complete\"->dask[complete]) (2.4.7)\n",
            "Requirement already satisfied: six>=1.5 in /usr/local/lib/python3.6/dist-packages (from python-dateutil>=2.1->bokeh>=1.0.0; extra == \"complete\"->dask[complete]) (1.15.0)\n",
            "Requirement already satisfied: MarkupSafe>=0.23 in /usr/local/lib/python3.6/dist-packages (from Jinja2>=2.7->bokeh>=1.0.0; extra == \"complete\"->dask[complete]) (1.1.1)\n",
            "Building wheels for collected packages: locket, contextvars\n",
            "  Building wheel for locket (setup.py) ... \u001b[?25l\u001b[?25hdone\n",
            "  Created wheel for locket: filename=locket-0.2.0-cp36-none-any.whl size=4042 sha256=ada6d5abc8e82edabac82b9dc433eab8f797e399c70141ee7d2adcd9dd88ab09\n",
            "  Stored in directory: /root/.cache/pip/wheels/26/1e/e8/4fa236ec931b1a0cdd61578e20d4934d7bf188858723b84698\n",
            "  Building wheel for contextvars (setup.py) ... \u001b[?25l\u001b[?25hdone\n",
            "  Created wheel for contextvars: filename=contextvars-2.4-cp36-none-any.whl size=7667 sha256=39c2e1f5f8793ed0118881808eb5a34706d2c47a2e0b8aa92306e2df133c0d32\n",
            "  Stored in directory: /root/.cache/pip/wheels/a5/7d/68/1ebae2668bda2228686e3c1cf16f2c2384cea6e9334ad5f6de\n",
            "Successfully built locket contextvars\n",
            "\u001b[31mERROR: distributed 2020.12.0 has requirement cloudpickle>=1.5.0, but you'll have cloudpickle 1.3.0 which is incompatible.\u001b[0m\n",
            "\u001b[31mERROR: distributed 2020.12.0 has requirement dask>=2020.12.0, but you'll have dask 2.12.0 which is incompatible.\u001b[0m\n",
            "Installing collected packages: locket, partd, immutables, contextvars, distributed, fsspec\n",
            "  Found existing installation: distributed 1.25.3\n",
            "    Uninstalling distributed-1.25.3:\n",
            "      Successfully uninstalled distributed-1.25.3\n",
            "Successfully installed contextvars-2.4 distributed-2020.12.0 fsspec-0.8.5 immutables-0.14 locket-0.2.0 partd-1.1.0\n"
          ],
          "name": "stdout"
        }
      ]
    },
    {
      "cell_type": "code",
      "metadata": {
        "id": "RS5wWVf0aKcW"
      },
      "source": [
        "\n",
        "from dask import dataframe as dd \n",
        "\n",
        "def convert_to_unix(s):\n",
        "    return time.mktime(datetime.datetime.strptime(s, \"%Y-%m-%d %H:%M:%S\").timetuple())\n",
        "\n",
        "\n",
        "duration = dd.from_pandas(Main_df_loc_DO_Updated[['tpep_pickup_datetime','tpep_dropoff_datetime']],npartitions=1).compute()\n",
        "duration_pickup = [convert_to_unix(x) for x in duration['tpep_pickup_datetime'].values]\n",
        "\n",
        "Main_df_loc_DO_Updated['pickup_times'] = duration_pickup"
      ],
      "execution_count": 70,
      "outputs": []
    },
    {
      "cell_type": "code",
      "metadata": {
        "id": "vQCEMJYWUVed",
        "colab": {
          "base_uri": "https://localhost:8080/",
          "height": 215
        },
        "outputId": "aeac4172-f2cb-4e16-8243-8d924d6db9c4"
      },
      "source": [
        "Main_df_loc_DO_Updated.head()"
      ],
      "execution_count": 71,
      "outputs": [
        {
          "output_type": "execute_result",
          "data": {
            "text/html": [
              "<div>\n",
              "<style scoped>\n",
              "    .dataframe tbody tr th:only-of-type {\n",
              "        vertical-align: middle;\n",
              "    }\n",
              "\n",
              "    .dataframe tbody tr th {\n",
              "        vertical-align: top;\n",
              "    }\n",
              "\n",
              "    .dataframe thead th {\n",
              "        text-align: right;\n",
              "    }\n",
              "</style>\n",
              "<table border=\"1\" class=\"dataframe\">\n",
              "  <thead>\n",
              "    <tr style=\"text-align: right;\">\n",
              "      <th></th>\n",
              "      <th>VendorID</th>\n",
              "      <th>tpep_pickup_datetime</th>\n",
              "      <th>tpep_dropoff_datetime</th>\n",
              "      <th>passenger_count</th>\n",
              "      <th>trip_distance</th>\n",
              "      <th>RatecodeID</th>\n",
              "      <th>store_and_fwd_flag</th>\n",
              "      <th>PULocationID</th>\n",
              "      <th>DOLocationID</th>\n",
              "      <th>payment_type</th>\n",
              "      <th>fare_amount</th>\n",
              "      <th>extra</th>\n",
              "      <th>mta_tax</th>\n",
              "      <th>tip_amount</th>\n",
              "      <th>tolls_amount</th>\n",
              "      <th>improvement_surcharge</th>\n",
              "      <th>total_amount</th>\n",
              "      <th>congestion_surcharge</th>\n",
              "      <th>trip_duration</th>\n",
              "      <th>speed</th>\n",
              "      <th>PULatitude</th>\n",
              "      <th>PULongitude</th>\n",
              "      <th>DOLatitude</th>\n",
              "      <th>DOLongitude</th>\n",
              "      <th>pickup_cluster_formed</th>\n",
              "      <th>pickup_times</th>\n",
              "    </tr>\n",
              "  </thead>\n",
              "  <tbody>\n",
              "    <tr>\n",
              "      <th>0</th>\n",
              "      <td>1.0</td>\n",
              "      <td>2020-03-01 00:31:13</td>\n",
              "      <td>2020-03-01 01:01:42</td>\n",
              "      <td>1.0</td>\n",
              "      <td>4.70</td>\n",
              "      <td>1.0</td>\n",
              "      <td>N</td>\n",
              "      <td>88</td>\n",
              "      <td>255</td>\n",
              "      <td>1.0</td>\n",
              "      <td>22.0</td>\n",
              "      <td>3.0</td>\n",
              "      <td>0.5</td>\n",
              "      <td>2.00</td>\n",
              "      <td>0.0</td>\n",
              "      <td>0.3</td>\n",
              "      <td>27.80</td>\n",
              "      <td>2.5</td>\n",
              "      <td>30.483333</td>\n",
              "      <td>9.250957</td>\n",
              "      <td>40.707612</td>\n",
              "      <td>-74.009378</td>\n",
              "      <td>40.714622</td>\n",
              "      <td>-73.953450</td>\n",
              "      <td>6</td>\n",
              "      <td>1.583023e+09</td>\n",
              "    </tr>\n",
              "    <tr>\n",
              "      <th>1</th>\n",
              "      <td>1.0</td>\n",
              "      <td>2020-03-01 00:05:44</td>\n",
              "      <td>2020-03-01 00:19:54</td>\n",
              "      <td>2.0</td>\n",
              "      <td>8.00</td>\n",
              "      <td>1.0</td>\n",
              "      <td>N</td>\n",
              "      <td>88</td>\n",
              "      <td>263</td>\n",
              "      <td>2.0</td>\n",
              "      <td>23.5</td>\n",
              "      <td>3.0</td>\n",
              "      <td>0.5</td>\n",
              "      <td>0.00</td>\n",
              "      <td>0.0</td>\n",
              "      <td>0.3</td>\n",
              "      <td>27.30</td>\n",
              "      <td>2.5</td>\n",
              "      <td>14.166667</td>\n",
              "      <td>33.882353</td>\n",
              "      <td>40.707612</td>\n",
              "      <td>-74.009378</td>\n",
              "      <td>40.778007</td>\n",
              "      <td>-73.948202</td>\n",
              "      <td>6</td>\n",
              "      <td>1.583021e+09</td>\n",
              "    </tr>\n",
              "    <tr>\n",
              "      <th>2</th>\n",
              "      <td>2.0</td>\n",
              "      <td>2020-03-01 00:27:15</td>\n",
              "      <td>2020-03-01 00:47:22</td>\n",
              "      <td>2.0</td>\n",
              "      <td>3.34</td>\n",
              "      <td>1.0</td>\n",
              "      <td>N</td>\n",
              "      <td>88</td>\n",
              "      <td>170</td>\n",
              "      <td>1.0</td>\n",
              "      <td>14.5</td>\n",
              "      <td>0.5</td>\n",
              "      <td>0.5</td>\n",
              "      <td>3.66</td>\n",
              "      <td>0.0</td>\n",
              "      <td>0.3</td>\n",
              "      <td>21.96</td>\n",
              "      <td>2.5</td>\n",
              "      <td>20.116667</td>\n",
              "      <td>9.961889</td>\n",
              "      <td>40.707612</td>\n",
              "      <td>-74.009378</td>\n",
              "      <td>38.290348</td>\n",
              "      <td>-85.588294</td>\n",
              "      <td>6</td>\n",
              "      <td>1.583022e+09</td>\n",
              "    </tr>\n",
              "    <tr>\n",
              "      <th>3</th>\n",
              "      <td>1.0</td>\n",
              "      <td>2020-03-01 00:29:40</td>\n",
              "      <td>2020-03-01 00:42:38</td>\n",
              "      <td>2.0</td>\n",
              "      <td>3.60</td>\n",
              "      <td>1.0</td>\n",
              "      <td>N</td>\n",
              "      <td>88</td>\n",
              "      <td>79</td>\n",
              "      <td>2.0</td>\n",
              "      <td>13.5</td>\n",
              "      <td>3.0</td>\n",
              "      <td>0.5</td>\n",
              "      <td>0.00</td>\n",
              "      <td>0.0</td>\n",
              "      <td>0.3</td>\n",
              "      <td>17.30</td>\n",
              "      <td>2.5</td>\n",
              "      <td>12.966667</td>\n",
              "      <td>16.658098</td>\n",
              "      <td>40.707612</td>\n",
              "      <td>-74.009378</td>\n",
              "      <td>40.729269</td>\n",
              "      <td>-73.987361</td>\n",
              "      <td>6</td>\n",
              "      <td>1.583023e+09</td>\n",
              "    </tr>\n",
              "    <tr>\n",
              "      <th>4</th>\n",
              "      <td>1.0</td>\n",
              "      <td>2020-03-01 00:41:27</td>\n",
              "      <td>2020-03-01 00:57:10</td>\n",
              "      <td>2.0</td>\n",
              "      <td>2.90</td>\n",
              "      <td>1.0</td>\n",
              "      <td>N</td>\n",
              "      <td>88</td>\n",
              "      <td>249</td>\n",
              "      <td>1.0</td>\n",
              "      <td>13.0</td>\n",
              "      <td>3.0</td>\n",
              "      <td>0.5</td>\n",
              "      <td>3.35</td>\n",
              "      <td>0.0</td>\n",
              "      <td>0.3</td>\n",
              "      <td>20.15</td>\n",
              "      <td>2.5</td>\n",
              "      <td>15.716667</td>\n",
              "      <td>11.071050</td>\n",
              "      <td>40.707612</td>\n",
              "      <td>-74.009378</td>\n",
              "      <td>40.734186</td>\n",
              "      <td>-74.005580</td>\n",
              "      <td>6</td>\n",
              "      <td>1.583023e+09</td>\n",
              "    </tr>\n",
              "  </tbody>\n",
              "</table>\n",
              "</div>"
            ],
            "text/plain": [
              "   VendorID tpep_pickup_datetime  ... pickup_cluster_formed  pickup_times\n",
              "0       1.0  2020-03-01 00:31:13  ...                     6  1.583023e+09\n",
              "1       1.0  2020-03-01 00:05:44  ...                     6  1.583021e+09\n",
              "2       2.0  2020-03-01 00:27:15  ...                     6  1.583022e+09\n",
              "3       1.0  2020-03-01 00:29:40  ...                     6  1.583023e+09\n",
              "4       1.0  2020-03-01 00:41:27  ...                     6  1.583023e+09\n",
              "\n",
              "[5 rows x 26 columns]"
            ]
          },
          "metadata": {
            "tags": []
          },
          "execution_count": 71
        }
      ]
    },
    {
      "cell_type": "code",
      "metadata": {
        "id": "KeUibAbgO8bM"
      },
      "source": [
        "#Outlier!!!\n",
        "Main_df_loc_DO_Updated = Main_df_loc_DO_Updated[(Main_df_loc_DO_Updated['pickup_times']>=1583020800)]\n",
        "Main_df_loc_DO_Updated = Main_df_loc_DO_Updated[(Main_df_loc_DO_Updated['pickup_times']<1585980275)]"
      ],
      "execution_count": 72,
      "outputs": []
    },
    {
      "cell_type": "code",
      "metadata": {
        "id": "4wv3xuX121Qb"
      },
      "source": [
        "unix_pickup_times=[i for i in Main_df_loc_DO_Updated['pickup_times'].values]\n",
        "fifteenminutewise_binned_unix_pickup_times=[(int((i-1583020800)/900)) for i in unix_pickup_times]\n",
        "Main_df_loc_DO_Updated['pickup_bins'] = np.array(fifteenminutewise_binned_unix_pickup_times)"
      ],
      "execution_count": 73,
      "outputs": []
    },
    {
      "cell_type": "code",
      "metadata": {
        "id": "sfIbK5c79OzN",
        "colab": {
          "base_uri": "https://localhost:8080/",
          "height": 422
        },
        "outputId": "0e8ef23f-aca2-40cb-efcf-e5e3cd9240cc"
      },
      "source": [
        "Main_df_loc_DO_Updated"
      ],
      "execution_count": 74,
      "outputs": [
        {
          "output_type": "execute_result",
          "data": {
            "text/html": [
              "<div>\n",
              "<style scoped>\n",
              "    .dataframe tbody tr th:only-of-type {\n",
              "        vertical-align: middle;\n",
              "    }\n",
              "\n",
              "    .dataframe tbody tr th {\n",
              "        vertical-align: top;\n",
              "    }\n",
              "\n",
              "    .dataframe thead th {\n",
              "        text-align: right;\n",
              "    }\n",
              "</style>\n",
              "<table border=\"1\" class=\"dataframe\">\n",
              "  <thead>\n",
              "    <tr style=\"text-align: right;\">\n",
              "      <th></th>\n",
              "      <th>VendorID</th>\n",
              "      <th>tpep_pickup_datetime</th>\n",
              "      <th>tpep_dropoff_datetime</th>\n",
              "      <th>passenger_count</th>\n",
              "      <th>trip_distance</th>\n",
              "      <th>RatecodeID</th>\n",
              "      <th>store_and_fwd_flag</th>\n",
              "      <th>PULocationID</th>\n",
              "      <th>DOLocationID</th>\n",
              "      <th>payment_type</th>\n",
              "      <th>fare_amount</th>\n",
              "      <th>extra</th>\n",
              "      <th>mta_tax</th>\n",
              "      <th>tip_amount</th>\n",
              "      <th>tolls_amount</th>\n",
              "      <th>improvement_surcharge</th>\n",
              "      <th>total_amount</th>\n",
              "      <th>congestion_surcharge</th>\n",
              "      <th>trip_duration</th>\n",
              "      <th>speed</th>\n",
              "      <th>PULatitude</th>\n",
              "      <th>PULongitude</th>\n",
              "      <th>DOLatitude</th>\n",
              "      <th>DOLongitude</th>\n",
              "      <th>pickup_cluster_formed</th>\n",
              "      <th>pickup_times</th>\n",
              "      <th>pickup_bins</th>\n",
              "    </tr>\n",
              "  </thead>\n",
              "  <tbody>\n",
              "    <tr>\n",
              "      <th>0</th>\n",
              "      <td>1.0</td>\n",
              "      <td>2020-03-01 00:31:13</td>\n",
              "      <td>2020-03-01 01:01:42</td>\n",
              "      <td>1.0</td>\n",
              "      <td>4.70</td>\n",
              "      <td>1.0</td>\n",
              "      <td>N</td>\n",
              "      <td>88</td>\n",
              "      <td>255</td>\n",
              "      <td>1.0</td>\n",
              "      <td>22.00</td>\n",
              "      <td>3.0</td>\n",
              "      <td>0.5</td>\n",
              "      <td>2.00</td>\n",
              "      <td>0.00</td>\n",
              "      <td>0.3</td>\n",
              "      <td>27.80</td>\n",
              "      <td>2.5</td>\n",
              "      <td>30.483333</td>\n",
              "      <td>9.250957</td>\n",
              "      <td>40.707612</td>\n",
              "      <td>-74.009378</td>\n",
              "      <td>40.714622</td>\n",
              "      <td>-73.953450</td>\n",
              "      <td>6</td>\n",
              "      <td>1.583023e+09</td>\n",
              "      <td>2</td>\n",
              "    </tr>\n",
              "    <tr>\n",
              "      <th>1</th>\n",
              "      <td>1.0</td>\n",
              "      <td>2020-03-01 00:05:44</td>\n",
              "      <td>2020-03-01 00:19:54</td>\n",
              "      <td>2.0</td>\n",
              "      <td>8.00</td>\n",
              "      <td>1.0</td>\n",
              "      <td>N</td>\n",
              "      <td>88</td>\n",
              "      <td>263</td>\n",
              "      <td>2.0</td>\n",
              "      <td>23.50</td>\n",
              "      <td>3.0</td>\n",
              "      <td>0.5</td>\n",
              "      <td>0.00</td>\n",
              "      <td>0.00</td>\n",
              "      <td>0.3</td>\n",
              "      <td>27.30</td>\n",
              "      <td>2.5</td>\n",
              "      <td>14.166667</td>\n",
              "      <td>33.882353</td>\n",
              "      <td>40.707612</td>\n",
              "      <td>-74.009378</td>\n",
              "      <td>40.778007</td>\n",
              "      <td>-73.948202</td>\n",
              "      <td>6</td>\n",
              "      <td>1.583021e+09</td>\n",
              "      <td>0</td>\n",
              "    </tr>\n",
              "    <tr>\n",
              "      <th>2</th>\n",
              "      <td>2.0</td>\n",
              "      <td>2020-03-01 00:27:15</td>\n",
              "      <td>2020-03-01 00:47:22</td>\n",
              "      <td>2.0</td>\n",
              "      <td>3.34</td>\n",
              "      <td>1.0</td>\n",
              "      <td>N</td>\n",
              "      <td>88</td>\n",
              "      <td>170</td>\n",
              "      <td>1.0</td>\n",
              "      <td>14.50</td>\n",
              "      <td>0.5</td>\n",
              "      <td>0.5</td>\n",
              "      <td>3.66</td>\n",
              "      <td>0.00</td>\n",
              "      <td>0.3</td>\n",
              "      <td>21.96</td>\n",
              "      <td>2.5</td>\n",
              "      <td>20.116667</td>\n",
              "      <td>9.961889</td>\n",
              "      <td>40.707612</td>\n",
              "      <td>-74.009378</td>\n",
              "      <td>38.290348</td>\n",
              "      <td>-85.588294</td>\n",
              "      <td>6</td>\n",
              "      <td>1.583022e+09</td>\n",
              "      <td>1</td>\n",
              "    </tr>\n",
              "    <tr>\n",
              "      <th>3</th>\n",
              "      <td>1.0</td>\n",
              "      <td>2020-03-01 00:29:40</td>\n",
              "      <td>2020-03-01 00:42:38</td>\n",
              "      <td>2.0</td>\n",
              "      <td>3.60</td>\n",
              "      <td>1.0</td>\n",
              "      <td>N</td>\n",
              "      <td>88</td>\n",
              "      <td>79</td>\n",
              "      <td>2.0</td>\n",
              "      <td>13.50</td>\n",
              "      <td>3.0</td>\n",
              "      <td>0.5</td>\n",
              "      <td>0.00</td>\n",
              "      <td>0.00</td>\n",
              "      <td>0.3</td>\n",
              "      <td>17.30</td>\n",
              "      <td>2.5</td>\n",
              "      <td>12.966667</td>\n",
              "      <td>16.658098</td>\n",
              "      <td>40.707612</td>\n",
              "      <td>-74.009378</td>\n",
              "      <td>40.729269</td>\n",
              "      <td>-73.987361</td>\n",
              "      <td>6</td>\n",
              "      <td>1.583023e+09</td>\n",
              "      <td>1</td>\n",
              "    </tr>\n",
              "    <tr>\n",
              "      <th>4</th>\n",
              "      <td>1.0</td>\n",
              "      <td>2020-03-01 00:41:27</td>\n",
              "      <td>2020-03-01 00:57:10</td>\n",
              "      <td>2.0</td>\n",
              "      <td>2.90</td>\n",
              "      <td>1.0</td>\n",
              "      <td>N</td>\n",
              "      <td>88</td>\n",
              "      <td>249</td>\n",
              "      <td>1.0</td>\n",
              "      <td>13.00</td>\n",
              "      <td>3.0</td>\n",
              "      <td>0.5</td>\n",
              "      <td>3.35</td>\n",
              "      <td>0.00</td>\n",
              "      <td>0.3</td>\n",
              "      <td>20.15</td>\n",
              "      <td>2.5</td>\n",
              "      <td>15.716667</td>\n",
              "      <td>11.071050</td>\n",
              "      <td>40.707612</td>\n",
              "      <td>-74.009378</td>\n",
              "      <td>40.734186</td>\n",
              "      <td>-74.005580</td>\n",
              "      <td>6</td>\n",
              "      <td>1.583023e+09</td>\n",
              "      <td>2</td>\n",
              "    </tr>\n",
              "    <tr>\n",
              "      <th>...</th>\n",
              "      <td>...</td>\n",
              "      <td>...</td>\n",
              "      <td>...</td>\n",
              "      <td>...</td>\n",
              "      <td>...</td>\n",
              "      <td>...</td>\n",
              "      <td>...</td>\n",
              "      <td>...</td>\n",
              "      <td>...</td>\n",
              "      <td>...</td>\n",
              "      <td>...</td>\n",
              "      <td>...</td>\n",
              "      <td>...</td>\n",
              "      <td>...</td>\n",
              "      <td>...</td>\n",
              "      <td>...</td>\n",
              "      <td>...</td>\n",
              "      <td>...</td>\n",
              "      <td>...</td>\n",
              "      <td>...</td>\n",
              "      <td>...</td>\n",
              "      <td>...</td>\n",
              "      <td>...</td>\n",
              "      <td>...</td>\n",
              "      <td>...</td>\n",
              "      <td>...</td>\n",
              "      <td>...</td>\n",
              "    </tr>\n",
              "    <tr>\n",
              "      <th>2923793</th>\n",
              "      <td>NaN</td>\n",
              "      <td>2020-03-09 17:30:00</td>\n",
              "      <td>2020-03-09 18:10:00</td>\n",
              "      <td>NaN</td>\n",
              "      <td>17.22</td>\n",
              "      <td>NaN</td>\n",
              "      <td>NaN</td>\n",
              "      <td>27</td>\n",
              "      <td>139</td>\n",
              "      <td>NaN</td>\n",
              "      <td>51.97</td>\n",
              "      <td>0.0</td>\n",
              "      <td>0.5</td>\n",
              "      <td>0.00</td>\n",
              "      <td>2.29</td>\n",
              "      <td>0.3</td>\n",
              "      <td>55.06</td>\n",
              "      <td>0.0</td>\n",
              "      <td>40.000000</td>\n",
              "      <td>25.830000</td>\n",
              "      <td>46.616630</td>\n",
              "      <td>-94.216935</td>\n",
              "      <td>40.666770</td>\n",
              "      <td>-73.751521</td>\n",
              "      <td>25</td>\n",
              "      <td>1.583775e+09</td>\n",
              "      <td>838</td>\n",
              "    </tr>\n",
              "    <tr>\n",
              "      <th>2923794</th>\n",
              "      <td>NaN</td>\n",
              "      <td>2020-03-10 10:00:00</td>\n",
              "      <td>2020-03-10 10:20:00</td>\n",
              "      <td>NaN</td>\n",
              "      <td>7.72</td>\n",
              "      <td>NaN</td>\n",
              "      <td>NaN</td>\n",
              "      <td>27</td>\n",
              "      <td>91</td>\n",
              "      <td>NaN</td>\n",
              "      <td>21.40</td>\n",
              "      <td>0.0</td>\n",
              "      <td>0.5</td>\n",
              "      <td>0.00</td>\n",
              "      <td>2.29</td>\n",
              "      <td>0.3</td>\n",
              "      <td>24.49</td>\n",
              "      <td>0.0</td>\n",
              "      <td>20.000000</td>\n",
              "      <td>23.160000</td>\n",
              "      <td>46.616630</td>\n",
              "      <td>-94.216935</td>\n",
              "      <td>40.621215</td>\n",
              "      <td>-73.934860</td>\n",
              "      <td>25</td>\n",
              "      <td>1.583834e+09</td>\n",
              "      <td>904</td>\n",
              "    </tr>\n",
              "    <tr>\n",
              "      <th>2923795</th>\n",
              "      <td>NaN</td>\n",
              "      <td>2020-03-17 06:48:00</td>\n",
              "      <td>2020-03-17 07:35:00</td>\n",
              "      <td>NaN</td>\n",
              "      <td>28.89</td>\n",
              "      <td>NaN</td>\n",
              "      <td>NaN</td>\n",
              "      <td>27</td>\n",
              "      <td>32</td>\n",
              "      <td>NaN</td>\n",
              "      <td>71.55</td>\n",
              "      <td>0.0</td>\n",
              "      <td>0.5</td>\n",
              "      <td>0.00</td>\n",
              "      <td>10.70</td>\n",
              "      <td>0.3</td>\n",
              "      <td>83.05</td>\n",
              "      <td>0.0</td>\n",
              "      <td>47.000000</td>\n",
              "      <td>36.880851</td>\n",
              "      <td>46.616630</td>\n",
              "      <td>-94.216935</td>\n",
              "      <td>40.826378</td>\n",
              "      <td>-73.867196</td>\n",
              "      <td>25</td>\n",
              "      <td>1.584428e+09</td>\n",
              "      <td>1563</td>\n",
              "    </tr>\n",
              "    <tr>\n",
              "      <th>2923796</th>\n",
              "      <td>NaN</td>\n",
              "      <td>2020-03-11 12:37:26</td>\n",
              "      <td>2020-03-11 13:15:09</td>\n",
              "      <td>NaN</td>\n",
              "      <td>23.55</td>\n",
              "      <td>NaN</td>\n",
              "      <td>NaN</td>\n",
              "      <td>245</td>\n",
              "      <td>179</td>\n",
              "      <td>NaN</td>\n",
              "      <td>60.98</td>\n",
              "      <td>0.0</td>\n",
              "      <td>0.0</td>\n",
              "      <td>0.00</td>\n",
              "      <td>25.99</td>\n",
              "      <td>0.3</td>\n",
              "      <td>89.22</td>\n",
              "      <td>0.0</td>\n",
              "      <td>37.716667</td>\n",
              "      <td>37.463544</td>\n",
              "      <td>40.578087</td>\n",
              "      <td>-73.974925</td>\n",
              "      <td>46.187885</td>\n",
              "      <td>-123.831256</td>\n",
              "      <td>15</td>\n",
              "      <td>1.583930e+09</td>\n",
              "      <td>1010</td>\n",
              "    </tr>\n",
              "    <tr>\n",
              "      <th>2923797</th>\n",
              "      <td>NaN</td>\n",
              "      <td>2020-03-19 14:12:00</td>\n",
              "      <td>2020-03-19 14:37:00</td>\n",
              "      <td>NaN</td>\n",
              "      <td>6.00</td>\n",
              "      <td>NaN</td>\n",
              "      <td>NaN</td>\n",
              "      <td>251</td>\n",
              "      <td>156</td>\n",
              "      <td>NaN</td>\n",
              "      <td>22.10</td>\n",
              "      <td>0.0</td>\n",
              "      <td>0.5</td>\n",
              "      <td>0.00</td>\n",
              "      <td>0.00</td>\n",
              "      <td>0.3</td>\n",
              "      <td>24.85</td>\n",
              "      <td>0.0</td>\n",
              "      <td>25.000000</td>\n",
              "      <td>14.400000</td>\n",
              "      <td>51.516541</td>\n",
              "      <td>-2.434635</td>\n",
              "      <td>40.636770</td>\n",
              "      <td>-74.158755</td>\n",
              "      <td>3</td>\n",
              "      <td>1.584627e+09</td>\n",
              "      <td>1784</td>\n",
              "    </tr>\n",
              "  </tbody>\n",
              "</table>\n",
              "<p>2923395 rows × 27 columns</p>\n",
              "</div>"
            ],
            "text/plain": [
              "         VendorID tpep_pickup_datetime  ...  pickup_times  pickup_bins\n",
              "0             1.0  2020-03-01 00:31:13  ...  1.583023e+09            2\n",
              "1             1.0  2020-03-01 00:05:44  ...  1.583021e+09            0\n",
              "2             2.0  2020-03-01 00:27:15  ...  1.583022e+09            1\n",
              "3             1.0  2020-03-01 00:29:40  ...  1.583023e+09            1\n",
              "4             1.0  2020-03-01 00:41:27  ...  1.583023e+09            2\n",
              "...           ...                  ...  ...           ...          ...\n",
              "2923793       NaN  2020-03-09 17:30:00  ...  1.583775e+09          838\n",
              "2923794       NaN  2020-03-10 10:00:00  ...  1.583834e+09          904\n",
              "2923795       NaN  2020-03-17 06:48:00  ...  1.584428e+09         1563\n",
              "2923796       NaN  2020-03-11 12:37:26  ...  1.583930e+09         1010\n",
              "2923797       NaN  2020-03-19 14:12:00  ...  1.584627e+09         1784\n",
              "\n",
              "[2923395 rows x 27 columns]"
            ]
          },
          "metadata": {
            "tags": []
          },
          "execution_count": 74
        }
      ]
    },
    {
      "cell_type": "code",
      "metadata": {
        "id": "O0dlyhmT7mjV",
        "colab": {
          "base_uri": "https://localhost:8080/"
        },
        "outputId": "4d38880e-2912-4e59-da77-e301477e5a67"
      },
      "source": [
        "count = 0\n",
        "for i in Main_df_loc_DO_Updated['pickup_times'].values:\n",
        "  if i<1583020800:\n",
        "    count=count+1\n",
        "    print(i)\n",
        "\n",
        "print(count)"
      ],
      "execution_count": 75,
      "outputs": [
        {
          "output_type": "stream",
          "text": [
            "0\n"
          ],
          "name": "stdout"
        }
      ]
    },
    {
      "cell_type": "code",
      "metadata": {
        "id": "z3TdTGzCRrs0",
        "colab": {
          "base_uri": "https://localhost:8080/"
        },
        "outputId": "843519c8-8372-454f-fa90-fc21f5e6c8b7"
      },
      "source": [
        "print(\"No of pickup bins formed in a month: \", Main_df_loc_DO_Updated['pickup_bins'].unique().shape[0])\n",
        "print (Main_df_loc_DO_Updated['pickup_bins'].max())\n",
        "print (Main_df_loc_DO_Updated['pickup_bins'].min())"
      ],
      "execution_count": 76,
      "outputs": [
        {
          "output_type": "stream",
          "text": [
            "No of pickup bins formed in a month:  2972\n",
            "2975\n",
            "0\n"
          ],
          "name": "stdout"
        }
      ]
    },
    {
      "cell_type": "code",
      "metadata": {
        "id": "VW6WrtZ13lze"
      },
      "source": [
        "mar_2020_groupby = Main_df_loc_DO_Updated[['pickup_cluster_formed','pickup_bins','trip_distance']].groupby(['pickup_cluster_formed','pickup_bins']).count()"
      ],
      "execution_count": 77,
      "outputs": []
    },
    {
      "cell_type": "code",
      "metadata": {
        "id": "tpchtI0_4Fu4",
        "colab": {
          "base_uri": "https://localhost:8080/",
          "height": 431
        },
        "outputId": "c3b31e5b-b8b5-4e1d-bab3-0d0fc93a28d9"
      },
      "source": [
        "mar_2020_groupby"
      ],
      "execution_count": 78,
      "outputs": [
        {
          "output_type": "execute_result",
          "data": {
            "text/html": [
              "<div>\n",
              "<style scoped>\n",
              "    .dataframe tbody tr th:only-of-type {\n",
              "        vertical-align: middle;\n",
              "    }\n",
              "\n",
              "    .dataframe tbody tr th {\n",
              "        vertical-align: top;\n",
              "    }\n",
              "\n",
              "    .dataframe thead th {\n",
              "        text-align: right;\n",
              "    }\n",
              "</style>\n",
              "<table border=\"1\" class=\"dataframe\">\n",
              "  <thead>\n",
              "    <tr style=\"text-align: right;\">\n",
              "      <th></th>\n",
              "      <th></th>\n",
              "      <th>trip_distance</th>\n",
              "    </tr>\n",
              "    <tr>\n",
              "      <th>pickup_cluster_formed</th>\n",
              "      <th>pickup_bins</th>\n",
              "      <th></th>\n",
              "    </tr>\n",
              "  </thead>\n",
              "  <tbody>\n",
              "    <tr>\n",
              "      <th rowspan=\"5\" valign=\"top\">0</th>\n",
              "      <th>0</th>\n",
              "      <td>60</td>\n",
              "    </tr>\n",
              "    <tr>\n",
              "      <th>1</th>\n",
              "      <td>64</td>\n",
              "    </tr>\n",
              "    <tr>\n",
              "      <th>2</th>\n",
              "      <td>65</td>\n",
              "    </tr>\n",
              "    <tr>\n",
              "      <th>3</th>\n",
              "      <td>56</td>\n",
              "    </tr>\n",
              "    <tr>\n",
              "      <th>4</th>\n",
              "      <td>56</td>\n",
              "    </tr>\n",
              "    <tr>\n",
              "      <th>...</th>\n",
              "      <th>...</th>\n",
              "      <td>...</td>\n",
              "    </tr>\n",
              "    <tr>\n",
              "      <th rowspan=\"5\" valign=\"top\">29</th>\n",
              "      <th>2971</th>\n",
              "      <td>3</td>\n",
              "    </tr>\n",
              "    <tr>\n",
              "      <th>2972</th>\n",
              "      <td>1</td>\n",
              "    </tr>\n",
              "    <tr>\n",
              "      <th>2973</th>\n",
              "      <td>1</td>\n",
              "    </tr>\n",
              "    <tr>\n",
              "      <th>2974</th>\n",
              "      <td>3</td>\n",
              "    </tr>\n",
              "    <tr>\n",
              "      <th>2975</th>\n",
              "      <td>1</td>\n",
              "    </tr>\n",
              "  </tbody>\n",
              "</table>\n",
              "<p>71292 rows × 1 columns</p>\n",
              "</div>"
            ],
            "text/plain": [
              "                                   trip_distance\n",
              "pickup_cluster_formed pickup_bins               \n",
              "0                     0                       60\n",
              "                      1                       64\n",
              "                      2                       65\n",
              "                      3                       56\n",
              "                      4                       56\n",
              "...                                          ...\n",
              "29                    2971                     3\n",
              "                      2972                     1\n",
              "                      2973                     1\n",
              "                      2974                     3\n",
              "                      2975                     1\n",
              "\n",
              "[71292 rows x 1 columns]"
            ]
          },
          "metadata": {
            "tags": []
          },
          "execution_count": 78
        }
      ]
    },
    {
      "cell_type": "code",
      "metadata": {
        "id": "HASC6wk8XRph"
      },
      "source": [
        ""
      ],
      "execution_count": 78,
      "outputs": []
    },
    {
      "cell_type": "code",
      "metadata": {
        "id": "n9_YEyrrvwnd"
      },
      "source": [
        ""
      ],
      "execution_count": 78,
      "outputs": []
    },
    {
      "cell_type": "code",
      "metadata": {
        "id": "QgorsUSTXRnn"
      },
      "source": [
        "c=0\n",
        "c1=0\n",
        "lst=[]\n",
        "for i in Main_df_loc_DO_Updated['pickup_bins']:\n",
        "  if int(i)>int(2976):\n",
        "      #print(i)\n",
        "      c=c+1\n",
        "      l=Main_df_loc_DO_Updated.iloc[c1]['pickup_times']\n",
        "      print(l)\n",
        "      lst.append(c1)\n",
        "  c1=c1+1"
      ],
      "execution_count": 79,
      "outputs": []
    },
    {
      "cell_type": "code",
      "metadata": {
        "id": "E5g5cHeLXRkQ"
      },
      "source": [
        "#Time Binning Done!!!"
      ],
      "execution_count": 80,
      "outputs": []
    },
    {
      "cell_type": "code",
      "metadata": {
        "id": "OO4ituabnh6q"
      },
      "source": [
        "#smoothing"
      ],
      "execution_count": 81,
      "outputs": []
    },
    {
      "cell_type": "code",
      "metadata": {
        "id": "uklXJE3VnktW",
        "colab": {
          "base_uri": "https://localhost:8080/",
          "height": 162
        },
        "outputId": "469af996-7d91-4a57-ade7-b893275c0cfa"
      },
      "source": [
        "mar_2020_unique = return_unique_bins(Main_df_loc_DO_Updated)"
      ],
      "execution_count": 82,
      "outputs": [
        {
          "output_type": "error",
          "ename": "NameError",
          "evalue": "ignored",
          "traceback": [
            "\u001b[0;31m---------------------------------------------------------------------------\u001b[0m",
            "\u001b[0;31mNameError\u001b[0m                                 Traceback (most recent call last)",
            "\u001b[0;32m<ipython-input-82-184836547f54>\u001b[0m in \u001b[0;36m<module>\u001b[0;34m()\u001b[0m\n\u001b[0;32m----> 1\u001b[0;31m \u001b[0mmar_2020_unique\u001b[0m \u001b[0;34m=\u001b[0m \u001b[0mreturn_unique_bins\u001b[0m\u001b[0;34m(\u001b[0m\u001b[0mMain_df_loc_DO_Updated\u001b[0m\u001b[0;34m)\u001b[0m\u001b[0;34m\u001b[0m\u001b[0;34m\u001b[0m\u001b[0m\n\u001b[0m",
            "\u001b[0;31mNameError\u001b[0m: name 'return_unique_bins' is not defined"
          ]
        }
      ]
    },
    {
      "cell_type": "code",
      "metadata": {
        "id": "tuEdaiF_nlVe"
      },
      "source": [
        "#No of zero pickups in each bin\n",
        "for i in range(30):\n",
        "    print(i,\"has total zero pickups: \",2976 - len(set(mar_2020_unique[i])))\n",
        "    print('^'*60)"
      ],
      "execution_count": null,
      "outputs": []
    },
    {
      "cell_type": "code",
      "metadata": {
        "id": "R6GXA6_6nmwD"
      },
      "source": [
        "mar_2020_fill = fill_zero_pickups(mar_2020_groupby['trip_distance'].values,mar_2020_unique)\n",
        "\n",
        "mar_2020_smooth = smoothing_function(mar_2020_groupby['trip_distance'].values,mar_2020_unique)"
      ],
      "execution_count": null,
      "outputs": []
    },
    {
      "cell_type": "code",
      "metadata": {
        "id": "NKBxJ18ZnnOr"
      },
      "source": [
        "\n",
        "print(\"number of 15 min intravels among all the clusters \",len(mar_2020_fill))"
      ],
      "execution_count": null,
      "outputs": []
    },
    {
      "cell_type": "code",
      "metadata": {
        "id": "NQ06AnFhn7SM"
      },
      "source": [
        "regions_final_list = []\n",
        "\n",
        "\n",
        "for i in range(0,30):\n",
        "    regions_final_list.append(mar_2020_smooth[2976*i:2976*(i+1)])"
      ],
      "execution_count": null,
      "outputs": []
    },
    {
      "cell_type": "code",
      "metadata": {
        "id": "Rlwct--bPBxI"
      },
      "source": [
        "#Time Series\n",
        "import matplotlib.pyplot as plt"
      ],
      "execution_count": null,
      "outputs": []
    },
    {
      "cell_type": "code",
      "metadata": {
        "id": "TJrfQRxQPD51"
      },
      "source": [
        "first_x = list(range(0,2976))\n",
        "for i in range(30):\n",
        "    plt.plot(first_x,regions_final_list[i][:2976], color=plt.cm.gist_ncar(np.random.random()), label='2020 March')\n",
        "    plt.legend()\n",
        "    plt.show()"
      ],
      "execution_count": null,
      "outputs": []
    },
    {
      "cell_type": "code",
      "metadata": {
        "id": "EJs82-pBZ6-l"
      },
      "source": [
        "Exponential_wgt_avg_pred_train = [i[:2079] for i in ewa_pred_list]\n",
        "Exponential_wgt_avg_pred_test = [i[2079:] for i in ewa_pred_list]\n",
        "\n",
        "test_EWA_standard = sum(Exponential_wgt_avg_pred_test, [])"
      ],
      "execution_count": null,
      "outputs": []
    },
    {
      "cell_type": "code",
      "metadata": {
        "id": "tZR0GR2khWtN"
      },
      "source": [
        "len(test_EWA_standard)"
      ],
      "execution_count": null,
      "outputs": []
    },
    {
      "cell_type": "code",
      "metadata": {
        "id": "lTDCTD7in9qb"
      },
      "source": [
        "#Data modeling\n",
        "Model_features = []\n",
        "target = []\n",
        "Model_features = [0]*5\n",
        "#The windows taken for Time series analysis is 5, on the basis of the window we are predicting the 6th unit time instance\n",
        "for i in range(0, 30):\n",
        "  Model_features = np.vstack((Model_features, [regions_final_list[i][region_index:region_index+5] for region_index in range(0,len(regions_final_list[i])-5)]))\n",
        "  target.append(regions_final_list[i][5:])\n",
        "\n",
        "Model_features = Model_features[1:]"
      ],
      "execution_count": null,
      "outputs": []
    },
    {
      "cell_type": "code",
      "metadata": {
        "id": "A96JS2Bsn-Qz"
      },
      "source": [
        "Model_features.shape"
      ],
      "execution_count": null,
      "outputs": []
    },
    {
      "cell_type": "code",
      "metadata": {
        "id": "vC4Th_sMYCA0"
      },
      "source": [
        "#Splitting the dataset size in 70:30 Ratio\n",
        "print(\"size of train data :\", int(2971*0.7))\n",
        "print(\"size of test data :\", int(2971*0.3))"
      ],
      "execution_count": null,
      "outputs": []
    },
    {
      "cell_type": "code",
      "metadata": {
        "id": "oeAi86U5XRg4"
      },
      "source": [
        "#Train and test features\n",
        "\n",
        "train_features_list =  [Model_features[i*2971:(2971*i+2079)] for i in range(0,30)]  \n",
        "\n",
        "test_features_list = [Model_features[(2971*(i))+2079:2971*(i+1)] for i in range(0,30)]"
      ],
      "execution_count": null,
      "outputs": []
    },
    {
      "cell_type": "code",
      "metadata": {
        "id": "1fSVnoM9dRqS"
      },
      "source": [
        "#Train and test labels\n",
        "train_target = [i[:2079] for i in target]\n",
        "\n",
        "test_target = [i[2079:] for i in target]\n"
      ],
      "execution_count": null,
      "outputs": []
    },
    {
      "cell_type": "code",
      "metadata": {
        "id": "zH_rix4rkm4Y"
      },
      "source": [
        "len(train_target[1])"
      ],
      "execution_count": null,
      "outputs": []
    },
    {
      "cell_type": "code",
      "metadata": {
        "id": "-FnESdvYd60m"
      },
      "source": [
        "train_target_standard = sum(train_target, [])\n",
        "test_target_standard = sum(test_target, [])"
      ],
      "execution_count": null,
      "outputs": []
    },
    {
      "cell_type": "code",
      "metadata": {
        "id": "X19uAcYfkcnF"
      },
      "source": [
        "len(train_target_standard)"
      ],
      "execution_count": null,
      "outputs": []
    },
    {
      "cell_type": "code",
      "metadata": {
        "id": "bGQ8h4lEkhfT"
      },
      "source": [
        "len(test_target_standard)"
      ],
      "execution_count": null,
      "outputs": []
    },
    {
      "cell_type": "code",
      "metadata": {
        "id": "q9etoM63_WgX"
      },
      "source": [
        "train_new_features = []\n",
        "for i in range(0,40):\n",
        "    train_new_features.extend(train_features_list[i])\n",
        "test_new_features = []\n",
        "for i in range(0,40):\n",
        "    test_new_features.extend(test_features_list[i])"
      ],
      "execution_count": null,
      "outputs": []
    },
    {
      "cell_type": "code",
      "metadata": {
        "id": "CoBqR-fRniqx"
      },
      "source": [
        "columns = ['series 5','series 4','series 3','series 2','series 1']\n",
        "df_train = pd.DataFrame(data=train_new_features, columns=columns) \n",
        "\n",
        "df_test = pd.DataFrame(data=test_new_features, columns=columns)"
      ],
      "execution_count": null,
      "outputs": []
    },
    {
      "cell_type": "code",
      "metadata": {
        "id": "S5u7eXJocXnB"
      },
      "source": [
        "df_train"
      ],
      "execution_count": null,
      "outputs": []
    },
    {
      "cell_type": "code",
      "metadata": {
        "id": "TI0wRdJzn70G"
      },
      "source": [
        "#Exponential Weighted Average"
      ],
      "execution_count": null,
      "outputs": []
    },
    {
      "cell_type": "code",
      "metadata": {
        "id": "Iu_YrgTBEsgj"
      },
      "source": [
        "MAE_list = []\n",
        "MSE_list = []"
      ],
      "execution_count": null,
      "outputs": []
    },
    {
      "cell_type": "code",
      "metadata": {
        "id": "RQDigrpynrcM"
      },
      "source": [
        "MSE_list.append(mean_squared_error(test_target_standard, test_EWA_standard))\n",
        "MAE_list.append(mean_absolute_error(test_target_standard, test_EWA_standard))"
      ],
      "execution_count": null,
      "outputs": []
    },
    {
      "cell_type": "code",
      "metadata": {
        "id": "TvpVUHrMc8HM"
      },
      "source": [
        "#Linear Regression\n",
        "from sklearn.linear_model import LinearRegression"
      ],
      "execution_count": null,
      "outputs": []
    },
    {
      "cell_type": "code",
      "metadata": {
        "id": "0Vh9BIjodBo0"
      },
      "source": [
        "linear=LinearRegression()\n",
        "linear.fit(df_train, train_target_standard)\n",
        "y_pred = linear.predict(df_test)"
      ],
      "execution_count": null,
      "outputs": []
    },
    {
      "cell_type": "code",
      "metadata": {
        "id": "mtGDTe9rl9Ay"
      },
      "source": [
        "len(y_pred)"
      ],
      "execution_count": null,
      "outputs": []
    },
    {
      "cell_type": "code",
      "metadata": {
        "id": "piepT6Uuli4G"
      },
      "source": [
        "from sklearn.metrics import mean_squared_error\n",
        "from sklearn.metrics import mean_absolute_error\n",
        "MSE_list.append(mean_squared_error(test_target_standard, y_pred))\n",
        "MAE_list.append(mean_absolute_error(test_target_standard, y_pred))"
      ],
      "execution_count": null,
      "outputs": []
    },
    {
      "cell_type": "code",
      "metadata": {
        "id": "RS8e17Aj6Ujy"
      },
      "source": [
        "#RandomForest Regressor"
      ],
      "execution_count": null,
      "outputs": []
    },
    {
      "cell_type": "code",
      "metadata": {
        "id": "3e15LL0ZFXVS"
      },
      "source": [
        "from sklearn.ensemble import RandomForestRegressor"
      ],
      "execution_count": null,
      "outputs": []
    },
    {
      "cell_type": "code",
      "metadata": {
        "id": "45ygcxEnFcAM"
      },
      "source": [
        "random_forest_reg = RandomForestRegressor()\n",
        "random_forest_reg.fit(df_train, train_target_standard)\n",
        "y_pred_rf = random_forest_reg.predict(df_test)"
      ],
      "execution_count": null,
      "outputs": []
    },
    {
      "cell_type": "code",
      "metadata": {
        "id": "Fz6xVKkTF5kL"
      },
      "source": [
        "MSE_list.append(mean_squared_error(test_target_standard, y_pred_rf))\n",
        "MAE_list.append(mean_absolute_error(test_target_standard, y_pred_rf))"
      ],
      "execution_count": null,
      "outputs": []
    },
    {
      "cell_type": "code",
      "metadata": {
        "id": "qLPhUcSb6eS4"
      },
      "source": [
        "#XGBoost Regressor"
      ],
      "execution_count": null,
      "outputs": []
    },
    {
      "cell_type": "code",
      "metadata": {
        "id": "2fXp9baJGYgE"
      },
      "source": [
        "from xgboost.sklearn import XGBRegressor"
      ],
      "execution_count": null,
      "outputs": []
    },
    {
      "cell_type": "code",
      "metadata": {
        "id": "D58iwXGjcfX3"
      },
      "source": [
        "xgbreg = XGBRegressor()\n",
        "\n",
        "xgbreg.fit(df_train, train_target_standard)\n",
        "y_pred_xgb = xgbreg.predict(df_test)"
      ],
      "execution_count": null,
      "outputs": []
    },
    {
      "cell_type": "code",
      "metadata": {
        "id": "xXJL14IKbtE_"
      },
      "source": [
        "MSE_list.append(mean_squared_error(test_target_standard, y_pred_xgb))\n",
        "MAE_list.append(mean_absolute_error(test_target_standard, y_pred_xgb))"
      ],
      "execution_count": null,
      "outputs": []
    },
    {
      "cell_type": "code",
      "metadata": {
        "id": "9kjOpS9YGLFw"
      },
      "source": [
        "#Decision tree Regressor"
      ],
      "execution_count": null,
      "outputs": []
    },
    {
      "cell_type": "code",
      "metadata": {
        "id": "r3CuJd3rc9h1"
      },
      "source": [
        "from sklearn.tree import DecisionTreeRegressor"
      ],
      "execution_count": null,
      "outputs": []
    },
    {
      "cell_type": "code",
      "metadata": {
        "id": "qamGhk7gdK19"
      },
      "source": [
        "DTreg = DecisionTreeRegressor(random_state=0)\n",
        "\n",
        "DTreg.fit(df_train, train_target_standard)\n",
        "y_pred_DT = DTreg.predict(df_test)"
      ],
      "execution_count": null,
      "outputs": []
    },
    {
      "cell_type": "code",
      "metadata": {
        "id": "ZM4Air_sddpp"
      },
      "source": [
        "MSE_list.append(mean_squared_error(test_target_standard, y_pred_DT))\n",
        "MAE_list.append(mean_absolute_error(test_target_standard, y_pred_DT))"
      ],
      "execution_count": null,
      "outputs": []
    },
    {
      "cell_type": "code",
      "metadata": {
        "id": "cHgLbsACdqzv"
      },
      "source": [
        "Models = ['Base Line Model','Linear Regression', 'Random Forest Regressor', 'XGBRegressor', 'Decision Tree Regressor']"
      ],
      "execution_count": null,
      "outputs": []
    },
    {
      "cell_type": "code",
      "metadata": {
        "id": "zHlx_iLbdiiP"
      },
      "source": [
        "PerformanceTable = pd.DataFrame(list(zip(Models, MSE_list, MAE_list)), columns=['Models', 'MSE', 'MAE'])"
      ],
      "execution_count": null,
      "outputs": []
    },
    {
      "cell_type": "code",
      "metadata": {
        "id": "aFD-8_YBefq1"
      },
      "source": [
        "PerformanceTable"
      ],
      "execution_count": null,
      "outputs": []
    }
  ]
}